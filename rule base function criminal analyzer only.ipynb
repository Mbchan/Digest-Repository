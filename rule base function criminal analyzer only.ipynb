{
 "cells": [
  {
   "cell_type": "code",
   "execution_count": 1,
   "id": "c903f310",
   "metadata": {},
   "outputs": [
    {
     "name": "stderr",
     "output_type": "stream",
     "text": [
      "[nltk_data] Downloading package punkt to\n",
      "[nltk_data]     C:\\Users\\fidel\\AppData\\Roaming\\nltk_data...\n",
      "[nltk_data]   Package punkt is already up-to-date!\n",
      "[nltk_data] Downloading package stopwords to\n",
      "[nltk_data]     C:\\Users\\fidel\\AppData\\Roaming\\nltk_data...\n",
      "[nltk_data]   Package stopwords is already up-to-date!\n"
     ]
    }
   ],
   "source": [
    "import re\n",
    "import pandas as pd\n",
    "import nltk\n",
    "nltk.download('punkt')\n",
    "nltk.download('stopwords')\n",
    "from nltk.stem.wordnet import WordNetLemmatizer\n",
    "from nltk import word_tokenize\n",
    "from nltk.corpus import stopwords\n",
    "from nltk.tokenize import RegexpTokenizer"
   ]
  },
  {
   "cell_type": "code",
   "execution_count": 2,
   "id": "ea59ca8a",
   "metadata": {},
   "outputs": [],
   "source": [
    "data = pd.read_csv('CriminalDataver2.csv')\n",
    "# data.columns = ['id',\n",
    "#  'case_title',\n",
    "#  'ponente',\n",
    "#  'year',\n",
    "#  'month',\n",
    "#  'decision_date',\n",
    "#  'gr_no',\n",
    "#  'case_link',\n",
    "#  'content',\n",
    "#  'has_pdf',\n",
    "#  'views',\n",
    "#  'downloads',\n",
    "#  'status',\n",
    "#  'modified_by',\n",
    "#  'created_at',\n",
    "#  'updated_at']"
   ]
  },
  {
   "cell_type": "code",
   "execution_count": 3,
   "id": "e5d57798",
   "metadata": {},
   "outputs": [],
   "source": [
    "republic_cases = data"
   ]
  },
  {
   "cell_type": "code",
   "execution_count": 4,
   "id": "7c548c05",
   "metadata": {},
   "outputs": [],
   "source": [
    "# republic_cases = data[data['year']>='1946'].reset_index()\n",
    "# republic_cases = republic_cases.head(1000)"
   ]
  },
  {
   "cell_type": "code",
   "execution_count": 5,
   "id": "7dc92d4e",
   "metadata": {},
   "outputs": [],
   "source": [
    "def non_ascii(s):\n",
    "    return \"\".join(i for i in s if ord(i)<128)\n",
    "\n",
    "def lower(text):\n",
    "    return text.lower()\n",
    "\n",
    "def stop_words(text):\n",
    "    text = text.split()#split tokens to find stop words\n",
    "    stops = set(stopwords.words(\"english\"))\n",
    "    text = [w for w in text if not w in stops]\n",
    "    text = \" \".join(text)\n",
    "    #join into a string after removing stop words \n",
    "    return text \n",
    "\n",
    "def clean_html(text):\n",
    "    html = re.compile(r'<[^>]+>')#regex\n",
    "    return html.sub(r'',text)\n",
    "\n",
    "def punct(text):\n",
    "    token=RegexpTokenizer(r'\\w+')#regex\n",
    "    text = token.tokenize(text)\n",
    "    text= \" \".join(text)\n",
    "    return text "
   ]
  },
  {
   "cell_type": "code",
   "execution_count": null,
   "id": "6b02e217",
   "metadata": {},
   "outputs": [],
   "source": []
  },
  {
   "cell_type": "code",
   "execution_count": 6,
   "id": "d277b50b",
   "metadata": {},
   "outputs": [],
   "source": [
    "# republic_cases['new_desc'] = republic_cases['text'].apply(clean_html)\n",
    "# republic_cases['new_desc'] = republic_cases['text'].apply(stop_words)\n",
    "# republic_cases['new_desc'] = republic_cases.new_desc.apply(func = non_ascii)\n",
    "# republic_cases['new_desc'] = republic_cases.new_desc.apply(func = lower)\n",
    "# republic_cases['new_desc'] = republic_cases.new_desc.apply(func = stop_words)\n",
    "# republic_cases['new_desc'] = republic_cases.new_desc.apply(func = punct)\n",
    "# republic_cases['new_desc'] = republic_cases['new_desc'].astype(str)\n",
    "republic_cases['text'] = republic_cases['text'].astype(str)\n",
    "republic_cases = republic_cases[['year','gr_no_x','text']]"
   ]
  },
  {
   "cell_type": "code",
   "execution_count": 7,
   "id": "0063f5ca",
   "metadata": {},
   "outputs": [],
   "source": [
    "#function for list to string\n",
    "def listToString(s): \n",
    "    # initialize an empty string\n",
    "    str1 = \" \" \n",
    "    return (str1.join(s))"
   ]
  },
  {
   "cell_type": "code",
   "execution_count": 8,
   "id": "d3a756d5",
   "metadata": {
    "scrolled": true
   },
   "outputs": [],
   "source": [
    "lmtzr = WordNetLemmatizer()\n",
    "def sentence_separater(text):\n",
    "    sentence_list = nltk.tokenize.sent_tokenize(text)\n",
    "    lemmatized = [[lmtzr.lemmatize(word) for word in word_tokenize(s)] for s in sentence_list]\n",
    "    lemma_str_sentences = [listToString(s) for s in lemmatized]\n",
    "    return lemma_str_sentences"
   ]
  },
  {
   "cell_type": "code",
   "execution_count": 9,
   "id": "3256c0ad",
   "metadata": {},
   "outputs": [
    {
     "name": "stderr",
     "output_type": "stream",
     "text": [
      "<ipython-input-9-13317c0a7a1e>:2: SettingWithCopyWarning: \n",
      "A value is trying to be set on a copy of a slice from a DataFrame.\n",
      "Try using .loc[row_indexer,col_indexer] = value instead\n",
      "\n",
      "See the caveats in the documentation: https://pandas.pydata.org/pandas-docs/stable/user_guide/indexing.html#returning-a-view-versus-a-copy\n",
      "  republic_cases['lemma_separated'] = republic_cases.text.apply(func = sentence_separater)\n"
     ]
    }
   ],
   "source": [
    "# new column with paragraph separated into sentences\n",
    "republic_cases['lemma_separated'] = republic_cases.text.apply(func = sentence_separater)\n",
    "# republic_cases['lemma_separated'] = republic_cases.new_desc.apply(func = punct)"
   ]
  },
  {
   "cell_type": "code",
   "execution_count": 10,
   "id": "48a658fa",
   "metadata": {},
   "outputs": [
    {
     "data": {
      "text/plain": [
       "['ha filed a petition soliciting the reopening of this case in accordance with the provision of section of No .',\n",
       " '.',\n",
       " 'The reopening of a cause under section is only available when there exists newly discovered evidence .',\n",
       " 'If the accused or his attorney knew what would be the testimony of the absent witness or could have known it by the exercise of proper diligence , it can not be said that he ha discovered these proof after the trial .',\n",
       " 'affidavit whatever setting forth the fact upon this point accompanies the petition a is required by the aforesaid section is , of course , evident that the error of the judge of the inferior court , if error it wa , in the manner of administering the oath to the Chinese witness , can not be presented a newly discovered evidence.For the foregoing reason the petition is denied without deciding ( ) whether the judgment ha become final a soon a registered here , thereby making this motion inopportune ; or , in case it ha not become final ( ) , whether this motion should have been made before the lower court , since the cause ha been remanded and is no longer a cause pending before this court.The motion is therefore denied with cost taxed against the moving party , and it is so ordered.Arellano , and concur.Torres , did not sit in this case .']"
      ]
     },
     "execution_count": 10,
     "metadata": {},
     "output_type": "execute_result"
    }
   ],
   "source": [
    "republic_cases['lemma_separated'][15]"
   ]
  },
  {
   "cell_type": "markdown",
   "id": "10e7a378",
   "metadata": {},
   "source": [
    "### civil second degree"
   ]
  },
  {
   "cell_type": "code",
   "execution_count": 11,
   "id": "53865b47",
   "metadata": {},
   "outputs": [],
   "source": [
    "property_keywords = ['property', 'house', 'real estate','condo','mansion']\n",
    "sales_keywords = ['sale', 'barter']\n",
    "succession_keywords = ['succession']\n",
    "agency_keywords = ['agency','agent']\n",
    "partnership_keywords = ['partnership','partner'] "
   ]
  },
  {
   "cell_type": "code",
   "execution_count": 12,
   "id": "a88039a7",
   "metadata": {},
   "outputs": [],
   "source": [
    "second_civil_keywords = {\n",
    "    'is_property': property_keywords,\n",
    "    'is_sales': sales_keywords,\n",
    "    'is_succession':succession_keywords,\n",
    "    'is_agency': agency_keywords,\n",
    "    'is_partnership': partnership_keywords\n",
    "}"
   ]
  },
  {
   "cell_type": "code",
   "execution_count": 13,
   "id": "9f78bf7f",
   "metadata": {},
   "outputs": [],
   "source": [
    "civil_dict_intent = {intent: re.compile('|'.join(keys)) for intent, keys in second_civil_keywords.items()}"
   ]
  },
  {
   "cell_type": "code",
   "execution_count": 14,
   "id": "e9b8ea24",
   "metadata": {},
   "outputs": [],
   "source": [
    "def civil_context(cust_input):\n",
    "    for intent, pattern in civil_dict_intent.items():\n",
    "        if re.search(pattern, cust_input): \n",
    "            return(intent)\n",
    "    else:\n",
    "        return('generic')\n",
    "\n",
    "second_civil_dict_response = {\n",
    "    'is_property': 'property case',\n",
    "    'is_sales': 'sales case',\n",
    "    'is_succession':'succession case',\n",
    "    'is_agency': 'agency case',\n",
    "    'is_partnership': 'partnership case'\n",
    "}"
   ]
  },
  {
   "cell_type": "code",
   "execution_count": 15,
   "id": "2926d708",
   "metadata": {},
   "outputs": [],
   "source": [
    "def second_civil_answer(text):\n",
    "    response = second_civil_dict_response.get(civil_context(text))\n",
    "    return response"
   ]
  },
  {
   "cell_type": "markdown",
   "id": "adb3f63f",
   "metadata": {},
   "source": [
    "### commercial second degree"
   ]
  },
  {
   "cell_type": "code",
   "execution_count": 16,
   "id": "8a969ccd",
   "metadata": {},
   "outputs": [],
   "source": [
    "# obligations_keywords = []\n",
    "negotiable_instruments_keywords = ['bank check','promissory']\n",
    "corporation_keywords = ['corporation','corporate','incorporate','stock holder','investment']"
   ]
  },
  {
   "cell_type": "code",
   "execution_count": 17,
   "id": "37ce0b24",
   "metadata": {},
   "outputs": [],
   "source": [
    "second_commercial_keywords = {\n",
    "    'is_negotiable_instruments': negotiable_instruments_keywords,\n",
    "    'is_corporation':corporation_keywords\n",
    "}"
   ]
  },
  {
   "cell_type": "code",
   "execution_count": 18,
   "id": "7d1ddc2e",
   "metadata": {},
   "outputs": [],
   "source": [
    "commercial_dict_intent = {intent: re.compile('|'.join(keys)) for intent, keys in second_commercial_keywords.items()}"
   ]
  },
  {
   "cell_type": "code",
   "execution_count": 19,
   "id": "5fbfc11f",
   "metadata": {},
   "outputs": [],
   "source": [
    "def commercial_context(cust_input):\n",
    "    for intent, pattern in commercial_dict_intent.items():\n",
    "        if re.search(pattern, cust_input): \n",
    "            return(intent)\n",
    "    else:\n",
    "        return('generic')\n",
    "\n",
    "second_commercial_dict_response = {\n",
    "    'is_negotiable_instruments': 'negotiable instrument case',\n",
    "    'is_corporation': 'corporation case',\n",
    "}"
   ]
  },
  {
   "cell_type": "code",
   "execution_count": 20,
   "id": "6be98d2a",
   "metadata": {},
   "outputs": [],
   "source": [
    "def second_commercial_answer(text):\n",
    "    response = second_commercial_dict_response.get(commercial_context(text))\n",
    "    return response"
   ]
  },
  {
   "cell_type": "markdown",
   "id": "bd3c7d9c",
   "metadata": {},
   "source": [
    "### criminal second degree"
   ]
  },
  {
   "cell_type": "code",
   "execution_count": 22,
   "id": "28772dfa",
   "metadata": {},
   "outputs": [],
   "source": [
    "national_security_keywords = ['treason','sovereignty','international law','war','raid','guerilla','terrorist','pirate']\n",
    "fundamental_laws_keywords = ['arbitrary','domicile','detention','detain','detainee','religious','priest','god','religion','scripture']\n",
    "\n",
    "public_order_keywords = ['rebellion','insurrection','coup d etat','sedition','quasirecidivism','separatism','harbor','CPP','NPA','rebel']\n",
    "drugs_keywords = ['drug','shabu','opium','marijuana','possession','laboratory','meth','operation','seized','bust']\n",
    "public_morals_keywords = ['gambling','lottery','betting','cockfighting','nudity','indecent','immoral','obscenity','obscene','importation']\n",
    "committed_officers_keywords = ['bribery','corrupt','graft','plunder','fraud','fund','malversation','promise','gift','officer']\n",
    "against_liberty_keywords = ['kidnapping','kidnap','slavery','child labor','coercion','vexation','ransom','money','guardian','child']\n",
    "chastity_keywords = ['adultery','concubine','lascivious','seduce','chastity','sexual','rape','intercourse','seduction','abduction']\n",
    "status_person_keywords = ['marriage','ceremony','bigamy','married','null','spouse','wife','husband','wedding','void']\n",
    "against_honor_keywords = ['libel','publish','slander','truth','publicity','incrimination','incriminate','defamation','wire tapping','communication']\n",
    "quasi_offense_keywords = ['negligence','material','reckless','imprudence','accident','injury','damage','hospital','carelessness','destroy']\n",
    "\n",
    "against_person_keywords = ['parricide','murder','homicide','suicide','mutiliation','hazing','infanticide','abortion','kill','wound']\n",
    "public_interest_keywords = ['treasury','counterfeiting','falsification','embezzle','auditor','importing','forgery','certificate','perjury','monopoly']\n",
    "against_property_keywords = ['robbery','theft','checks','estafa','property','mortgage','arson','carnapping','land','swindling']\n",
    "\n",
    "\n"
   ]
  },
  {
   "cell_type": "code",
   "execution_count": 23,
   "id": "0d14b3b3",
   "metadata": {},
   "outputs": [],
   "source": [
    "second_criminal_keywords = {\n",
    "    'is_national_security': national_security_keywords,\n",
    "    'is_fundamental_laws':fundamental_laws_keywords,\n",
    "    'is_public_interest':public_interest_keywords,\n",
    "    'is_against_person':against_person_keywords,\n",
    "    'is_against_property':against_property_keywords,\n",
    "    'is_public_order':public_order_keywords,\n",
    "    'is_drugs':drugs_keywords,\n",
    "    'is_public_morals':public_morals_keywords,\n",
    "    'is_committed_officers':committed_officers_keywords,\n",
    "    'is_against_liberty':against_liberty_keywords,\n",
    "    'is_chastity':chastity_keywords,\n",
    "    'is_status_person':status_person_keywords,\n",
    "    'is_against_honor':against_honor_keywords,\n",
    "    'is_quasi_offense':quasi_offense_keywords\n",
    "}"
   ]
  },
  {
   "cell_type": "code",
   "execution_count": 24,
   "id": "ae76d320",
   "metadata": {},
   "outputs": [],
   "source": [
    "criminal_dict_intent = {intent: re.compile('|'.join(keys)) for intent, keys in second_criminal_keywords.items()}"
   ]
  },
  {
   "cell_type": "code",
   "execution_count": 25,
   "id": "b9badeb5",
   "metadata": {},
   "outputs": [],
   "source": [
    "def criminal_context(cust_input):\n",
    "    for intent, pattern in criminal_dict_intent.items():\n",
    "        if re.search(pattern, cust_input): \n",
    "            return(intent)\n",
    "    else:\n",
    "        return('generic')\n",
    "\n",
    "second_criminal_dict_response = {\n",
    "    'is_national_security': 'national_security',\n",
    "    'is_fundamental_laws':'fundamental_laws',\n",
    "    'is_public_interest':'public_interest',\n",
    "    'is_against_person':'against_person',\n",
    "    'is_against_property':'against_property',\n",
    "    'is_public_order':'public_order',\n",
    "    'is_drugs':'drugs',\n",
    "    'is_public_morals':'public_morals',\n",
    "    'is_committed_officers':'committed_officers',\n",
    "    'is_against_liberty':'against_liberty',\n",
    "    'is_chastity':'chastity',\n",
    "    'is_status_person':'status_person',\n",
    "    'is_against_honor':'against_honor',\n",
    "    'is_quasi_offense':'quasi_offense'\n",
    "}"
   ]
  },
  {
   "cell_type": "code",
   "execution_count": 26,
   "id": "82e9eced",
   "metadata": {},
   "outputs": [],
   "source": [
    "def second_criminal_answer(text):\n",
    "    response = second_criminal_dict_response.get(criminal_context(text))\n",
    "    return response"
   ]
  },
  {
   "cell_type": "markdown",
   "id": "011c09bb",
   "metadata": {},
   "source": [
    "### labor second degree"
   ]
  },
  {
   "cell_type": "code",
   "execution_count": 27,
   "id": "7aae3e9e",
   "metadata": {},
   "outputs": [],
   "source": [
    "employment_keywords = ['employ','employment','employee','recruit','recruitment']\n",
    "work_keywords = ['work','holiday','paternity','maternity','conditions','retire']\n",
    "benefits_keywords = ['pay','benefit','wage','coverage','insurance']\n",
    "union_keywords = ['union','collective','association']"
   ]
  },
  {
   "cell_type": "code",
   "execution_count": 28,
   "id": "821adbc6",
   "metadata": {},
   "outputs": [],
   "source": [
    "second_labor_keywords = {\n",
    "    'is_employment':employment_keywords,\n",
    "    'is_work':work_keywords,\n",
    "    'is_benefit':benefits_keywords,\n",
    "    'is_union':union_keywords\n",
    "}"
   ]
  },
  {
   "cell_type": "code",
   "execution_count": 29,
   "id": "418e5222",
   "metadata": {},
   "outputs": [],
   "source": [
    "labor_dict_intent = {intent: re.compile('|'.join(keys)) for intent, keys in second_labor_keywords.items()}"
   ]
  },
  {
   "cell_type": "code",
   "execution_count": 30,
   "id": "ddc707ac",
   "metadata": {},
   "outputs": [],
   "source": [
    "def labor_context(cust_input):\n",
    "    for intent, pattern in labor_dict_intent.items():\n",
    "        if re.search(pattern, cust_input): \n",
    "            return(intent)\n",
    "    else:\n",
    "        return('generic')\n",
    "\n",
    "second_labor_dict_response = {\n",
    "    'is_employment':'employment case',\n",
    "    'is_work':'work case',\n",
    "    'is_benefits':'benefits case',\n",
    "    'is_union':'union case'\n",
    "}"
   ]
  },
  {
   "cell_type": "code",
   "execution_count": 31,
   "id": "15d96c5f",
   "metadata": {},
   "outputs": [],
   "source": [
    "def second_labor_answer(text):\n",
    "    response = second_labor_dict_response.get(labor_context(text))\n",
    "    return response"
   ]
  },
  {
   "cell_type": "markdown",
   "id": "4574661d",
   "metadata": {},
   "source": [
    "### tax second degree"
   ]
  },
  {
   "cell_type": "code",
   "execution_count": 32,
   "id": "3a566acf",
   "metadata": {},
   "outputs": [],
   "source": [
    "income_tax_keywords = ['income','estate','business','earnings']\n",
    "indirect_tax_keywords = ['VAT']\n",
    "excise_tax_keywords = ['excise','valorem','tobacco','alcohol','petroleum','mining']\n",
    "stamp_tax_keywords = ['documentary','stamp','dividend','certificate','bonds','insurance','receipt','mortgage']\n",
    "external_tax_keywords = ['customs','tariff']"
   ]
  },
  {
   "cell_type": "code",
   "execution_count": 33,
   "id": "9b0befb1",
   "metadata": {},
   "outputs": [],
   "source": [
    "second_tax_keywords = {\n",
    "    'is_income_tax':income_tax_keywords,\n",
    "    'is_indirect_tax':indirect_tax_keywords,\n",
    "    'is_excise_tax':excise_tax_keywords,\n",
    "    'is_stamp_tax':stamp_tax_keywords,\n",
    "    'is_external_tax':external_tax_keywords,\n",
    "}"
   ]
  },
  {
   "cell_type": "code",
   "execution_count": 34,
   "id": "d40ac9ac",
   "metadata": {},
   "outputs": [],
   "source": [
    "tax_dict_intent = {intent: re.compile('|'.join(keys)) for intent, keys in second_tax_keywords.items()}"
   ]
  },
  {
   "cell_type": "code",
   "execution_count": 35,
   "id": "e12defb1",
   "metadata": {},
   "outputs": [],
   "source": [
    "def tax_context(cust_input):\n",
    "    for intent, pattern in tax_dict_intent.items():\n",
    "        if re.search(pattern, cust_input): \n",
    "            return(intent)\n",
    "    else:\n",
    "        return('generic')\n",
    "\n",
    "second_tax_dict_response = {\n",
    "    'is_income_tax':'income tax case',\n",
    "    'is_indirect_tax':'indirect tax case',\n",
    "    'is_excise_tax':'excise tax case',\n",
    "    'is_stamp_tax':'stamp tax case',\n",
    "    'is_external_tax':'external tax case'\n",
    "}"
   ]
  },
  {
   "cell_type": "code",
   "execution_count": 36,
   "id": "e3793235",
   "metadata": {},
   "outputs": [],
   "source": [
    "def second_tax_answer(text):\n",
    "    response = second_tax_dict_response.get(tax_context(text))\n",
    "    return response"
   ]
  },
  {
   "cell_type": "markdown",
   "id": "e4a61aa3",
   "metadata": {},
   "source": [
    "### loop through entire dataset"
   ]
  },
  {
   "cell_type": "code",
   "execution_count": 37,
   "id": "85c48ea4",
   "metadata": {},
   "outputs": [
    {
     "name": "stderr",
     "output_type": "stream",
     "text": [
      "<ipython-input-37-d212baf8ded2>:1: SettingWithCopyWarning: \n",
      "A value is trying to be set on a copy of a slice from a DataFrame.\n",
      "Try using .loc[row_indexer,col_indexer] = value instead\n",
      "\n",
      "See the caveats in the documentation: https://pandas.pydata.org/pandas-docs/stable/user_guide/indexing.html#returning-a-view-versus-a-copy\n",
      "  republic_cases['primary'] = ''\n",
      "<ipython-input-37-d212baf8ded2>:2: SettingWithCopyWarning: \n",
      "A value is trying to be set on a copy of a slice from a DataFrame.\n",
      "Try using .loc[row_indexer,col_indexer] = value instead\n",
      "\n",
      "See the caveats in the documentation: https://pandas.pydata.org/pandas-docs/stable/user_guide/indexing.html#returning-a-view-versus-a-copy\n",
      "  republic_cases['secondary'] = ''\n"
     ]
    }
   ],
   "source": [
    "republic_cases['primary'] = ''\n",
    "republic_cases['secondary'] = ''"
   ]
  },
  {
   "cell_type": "code",
   "execution_count": 39,
   "id": "b1c409e9",
   "metadata": {},
   "outputs": [
    {
     "name": "stderr",
     "output_type": "stream",
     "text": [
      "<ipython-input-39-a4f6783cd5fe>:100: SettingWithCopyWarning: \n",
      "A value is trying to be set on a copy of a slice from a DataFrame\n",
      "\n",
      "See the caveats in the documentation: https://pandas.pydata.org/pandas-docs/stable/user_guide/indexing.html#returning-a-view-versus-a-copy\n",
      "  republic_cases['primary'][x]=result\n",
      "C:\\Users\\fidel\\anaconda3\\lib\\site-packages\\IPython\\core\\interactiveshell.py:3437: SettingWithCopyWarning: \n",
      "A value is trying to be set on a copy of a slice from a DataFrame\n",
      "\n",
      "See the caveats in the documentation: https://pandas.pydata.org/pandas-docs/stable/user_guide/indexing.html#returning-a-view-versus-a-copy\n",
      "  exec(code_obj, self.user_global_ns, self.user_ns)\n",
      "<ipython-input-39-a4f6783cd5fe>:102: SettingWithCopyWarning: \n",
      "A value is trying to be set on a copy of a slice from a DataFrame\n",
      "\n",
      "See the caveats in the documentation: https://pandas.pydata.org/pandas-docs/stable/user_guide/indexing.html#returning-a-view-versus-a-copy\n",
      "  republic_cases['secondary'][x]=second_criminal_total_counts.get(max(second_criminal_total_counts))\n",
      "<ipython-input-39-a4f6783cd5fe>:96: SettingWithCopyWarning: \n",
      "A value is trying to be set on a copy of a slice from a DataFrame\n",
      "\n",
      "See the caveats in the documentation: https://pandas.pydata.org/pandas-docs/stable/user_guide/indexing.html#returning-a-view-versus-a-copy\n",
      "  republic_cases['primary'][x]='no case'\n",
      "<ipython-input-39-a4f6783cd5fe>:97: SettingWithCopyWarning: \n",
      "A value is trying to be set on a copy of a slice from a DataFrame\n",
      "\n",
      "See the caveats in the documentation: https://pandas.pydata.org/pandas-docs/stable/user_guide/indexing.html#returning-a-view-versus-a-copy\n",
      "  republic_cases['secondary'][x]='no case'\n"
     ]
    }
   ],
   "source": [
    "# iter through dataset with case analyzer\n",
    "for x in range(len(republic_cases['lemma_separated'])):\n",
    "    #civil analyzer\n",
    "    second_civil_answer_per_sentences = [second_civil_answer(y) for y in republic_cases['lemma_separated'][x]]\n",
    "    property_counts = second_civil_answer_per_sentences.count('property case')\n",
    "    sales_counts = second_civil_answer_per_sentences.count('sales case')\n",
    "    succession_counts = second_civil_answer_per_sentences.count('succession case')\n",
    "    agency_counts = second_civil_answer_per_sentences.count('agency case')\n",
    "    partnership_counts = second_civil_answer_per_sentences.count('partnership case')\n",
    "    second_civil_total_counts = {\n",
    "        property_counts:'property case',\n",
    "        sales_counts: 'sales case',\n",
    "        succession_counts:'succession case',\n",
    "        agency_counts:'agency case',\n",
    "        partnership_counts:'partnership case'\n",
    "        }\n",
    "    temp_civil = max(second_civil_total_counts)\n",
    "    #commercial analyzer\n",
    "    second_commercial_answer_per_sentences = [second_commercial_answer(y) for y in republic_cases['lemma_separated'][x]]\n",
    "    negotiable_instruments_counts = second_commercial_answer_per_sentences.count('negotiable instrument case')\n",
    "    corporation_counts = second_commercial_answer_per_sentences.count('corporation case')\n",
    "    second_commercial_total_counts = {\n",
    "        negotiable_instruments_counts:'negotiable instrument case',\n",
    "        corporation_counts: 'corporation case',\n",
    "        }\n",
    "    temp_commercial = max(second_commercial_total_counts)\n",
    "    #criminal analyzer\n",
    "    second_criminal_answer_per_sentences = [second_criminal_answer(y) for y in republic_cases['lemma_separated'][x]]\n",
    "    national_security_counts = second_criminal_answer_per_sentences.count('national_security')\n",
    "    fundamental_laws_counts = second_criminal_answer_per_sentences.count('fundamental_laws')\n",
    "    public_interest_counts = second_criminal_answer_per_sentences.count('public_interest')\n",
    "    against_person_counts = second_criminal_answer_per_sentences.count('against_person')\n",
    "    against_property_counts = second_criminal_answer_per_sentences.count('against_property')\n",
    "    \n",
    "    public_order_counts = second_criminal_answer_per_sentences.count('public_order')\n",
    "    drugs_counts = second_criminal_answer_per_sentences.count('drugs')\n",
    "    public_morals_counts = second_criminal_answer_per_sentences.count('public_morals')\n",
    "    committed_officers_counts = second_criminal_answer_per_sentences.count('committed_officers')\n",
    "    against_liberty_counts = second_criminal_answer_per_sentences.count('against_liberty')\n",
    "    chastity_counts = second_criminal_answer_per_sentences.count('chastity')\n",
    "    status_person_counts = second_criminal_answer_per_sentences.count('status_person')\n",
    "    against_honor_counts = second_criminal_answer_per_sentences.count('against_honor')\n",
    "    quasi_offense_counts = second_criminal_answer_per_sentences.count('quasi_offense')\n",
    "    \n",
    "    second_criminal_total_counts = {\n",
    "        national_security_counts:'national security case',\n",
    "        fundamental_laws_counts:'fundamental laws case',\n",
    "        public_interest_counts:'public interest case',\n",
    "        against_person_counts:'against person case',\n",
    "        against_property_counts:'against property case',\n",
    "        public_order_counts:'public moral case',\n",
    "        drugs_counts:'drug case',\n",
    "        public_morals_counts:'public moral case',\n",
    "        committed_officers_counts:'case committed by officer',\n",
    "        against_liberty_counts:'against liberty case',\n",
    "        chastity_counts:'against chastity case',\n",
    "        status_person_counts:'against person status case',\n",
    "        against_honor_counts:'against honor'\n",
    "    }\n",
    "    \n",
    "    temp_criminal = max(second_criminal_total_counts)\n",
    "    #labor analyzer\n",
    "    second_labor_answer_per_sentences = [second_labor_answer(y) for y in republic_cases['lemma_separated'][x]]\n",
    "    employment_counts = second_labor_answer_per_sentences.count('employment case')\n",
    "    work_counts = second_labor_answer_per_sentences.count('work case')\n",
    "    benefits_counts = second_labor_answer_per_sentences.count('benefits case')\n",
    "    union_counts = second_labor_answer_per_sentences.count('union case')\n",
    "    second_labor_total_counts = {\n",
    "        employment_counts:'employment case',\n",
    "        work_counts:'work case',\n",
    "        benefits_counts:'benefits case',\n",
    "        union_counts:'union case',\n",
    "    }\n",
    "    temp_labor = max(second_labor_total_counts)\n",
    "    #tax analyzer\n",
    "    second_tax_answer_per_sentences = [second_tax_answer(y) for y in republic_cases['lemma_separated'][x]]\n",
    "    income_tax_counts = second_tax_answer_per_sentences.count('income tax case')\n",
    "    indirect_tax_counts = second_tax_answer_per_sentences.count('indirect tax case')\n",
    "    excise_tax_counts = second_tax_answer_per_sentences.count('excise tax case')\n",
    "    stamp_tax_counts = second_tax_answer_per_sentences.count('stamp tax case')\n",
    "    external_tax_counts = second_tax_answer_per_sentences.count('external tax case')\n",
    "    second_tax_total_counts = {\n",
    "        income_tax_counts:'income tax case',\n",
    "        indirect_tax_counts:'indirect tax case',\n",
    "        excise_tax_counts:'excise tax case',\n",
    "        stamp_tax_counts:'stamp tax case',\n",
    "        external_tax_counts:'external tax case',\n",
    "    }\n",
    "    temp_tax = max(second_tax_total_counts)\n",
    "    #gathered result\n",
    "    gathered_total_counts={\n",
    "        temp_criminal:'criminal case',\n",
    "        }\n",
    "    result = gathered_total_counts.get(max(gathered_total_counts))\n",
    "    if max(gathered_total_counts)==0:\n",
    "        republic_cases['primary'][x]='no case'\n",
    "        republic_cases['secondary'][x]='no case'\n",
    "        continue\n",
    "    else:\n",
    "        republic_cases['primary'][x]=result\n",
    "    if result=='criminal case':\n",
    "        republic_cases['secondary'][x]=second_criminal_total_counts.get(max(second_criminal_total_counts))"
   ]
  },
  {
   "cell_type": "code",
   "execution_count": 40,
   "id": "650e75c7",
   "metadata": {},
   "outputs": [],
   "source": [
    "republic_cases = republic_cases[['year','gr_no_x','text','primary','secondary']]"
   ]
  },
  {
   "cell_type": "code",
   "execution_count": 41,
   "id": "1973e589",
   "metadata": {},
   "outputs": [
    {
     "data": {
      "text/html": [
       "<div>\n",
       "<style scoped>\n",
       "    .dataframe tbody tr th:only-of-type {\n",
       "        vertical-align: middle;\n",
       "    }\n",
       "\n",
       "    .dataframe tbody tr th {\n",
       "        vertical-align: top;\n",
       "    }\n",
       "\n",
       "    .dataframe thead th {\n",
       "        text-align: right;\n",
       "    }\n",
       "</style>\n",
       "<table border=\"1\" class=\"dataframe\">\n",
       "  <thead>\n",
       "    <tr style=\"text-align: right;\">\n",
       "      <th></th>\n",
       "      <th>year</th>\n",
       "      <th>gr_no_x</th>\n",
       "      <th>text</th>\n",
       "      <th>primary</th>\n",
       "      <th>secondary</th>\n",
       "    </tr>\n",
       "  </thead>\n",
       "  <tbody>\n",
       "    <tr>\n",
       "      <th>0</th>\n",
       "      <td>1901</td>\n",
       "      <td>G.R. No. 91</td>\n",
       "      <td>The accused has been charged with the crime of...</td>\n",
       "      <td>criminal case</td>\n",
       "      <td>against liberty case</td>\n",
       "    </tr>\n",
       "    <tr>\n",
       "      <th>1</th>\n",
       "      <td>1901</td>\n",
       "      <td>G.R. No. 299</td>\n",
       "      <td>No. , , I S I O It appears from the record tha...</td>\n",
       "      <td>criminal case</td>\n",
       "      <td>against person case</td>\n",
       "    </tr>\n",
       "    <tr>\n",
       "      <th>2</th>\n",
       "      <td>1901</td>\n",
       "      <td>G.R. No. 43</td>\n",
       "      <td>This is an incident respecting nullity of proc...</td>\n",
       "      <td>criminal case</td>\n",
       "      <td>against person status case</td>\n",
       "    </tr>\n",
       "    <tr>\n",
       "      <th>3</th>\n",
       "      <td>1901</td>\n",
       "      <td>G.R. No. 390</td>\n",
       "      <td>It appears that this case was instituted in or...</td>\n",
       "      <td>criminal case</td>\n",
       "      <td>public moral case</td>\n",
       "    </tr>\n",
       "    <tr>\n",
       "      <th>4</th>\n",
       "      <td>1901</td>\n",
       "      <td>G.R. No. 202</td>\n",
       "      <td>In civil proceedings instituted to obtain a pr...</td>\n",
       "      <td>criminal case</td>\n",
       "      <td>case committed by officer</td>\n",
       "    </tr>\n",
       "  </tbody>\n",
       "</table>\n",
       "</div>"
      ],
      "text/plain": [
       "   year       gr_no_x                                               text  \\\n",
       "0  1901   G.R. No. 91  The accused has been charged with the crime of...   \n",
       "1  1901  G.R. No. 299  No. , , I S I O It appears from the record tha...   \n",
       "2  1901   G.R. No. 43  This is an incident respecting nullity of proc...   \n",
       "3  1901  G.R. No. 390  It appears that this case was instituted in or...   \n",
       "4  1901  G.R. No. 202  In civil proceedings instituted to obtain a pr...   \n",
       "\n",
       "         primary                   secondary  \n",
       "0  criminal case        against liberty case  \n",
       "1  criminal case         against person case  \n",
       "2  criminal case  against person status case  \n",
       "3  criminal case           public moral case  \n",
       "4  criminal case   case committed by officer  "
      ]
     },
     "execution_count": 41,
     "metadata": {},
     "output_type": "execute_result"
    }
   ],
   "source": [
    "republic_cases.head()"
   ]
  },
  {
   "cell_type": "code",
   "execution_count": 42,
   "id": "e348e6fe",
   "metadata": {},
   "outputs": [],
   "source": [
    "republic_cases.to_csv(\"classified_bianca_keywords.csv\")"
   ]
  },
  {
   "cell_type": "code",
   "execution_count": null,
   "id": "050fda20",
   "metadata": {},
   "outputs": [],
   "source": []
  }
 ],
 "metadata": {
  "kernelspec": {
   "display_name": "Python 3",
   "language": "python",
   "name": "python3"
  },
  "language_info": {
   "codemirror_mode": {
    "name": "ipython",
    "version": 3
   },
   "file_extension": ".py",
   "mimetype": "text/x-python",
   "name": "python",
   "nbconvert_exporter": "python",
   "pygments_lexer": "ipython3",
   "version": "3.8.10"
  }
 },
 "nbformat": 4,
 "nbformat_minor": 5
}
