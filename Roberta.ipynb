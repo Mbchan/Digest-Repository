{
 "cells": [
  {
   "cell_type": "code",
   "execution_count": 1,
   "id": "aboriginal-traveler",
   "metadata": {
    "ExecuteTime": {
     "end_time": "2021-04-15T05:17:12.923163Z",
     "start_time": "2021-04-15T05:17:07.888381Z"
    }
   },
   "outputs": [],
   "source": [
    "import pandas as pd\n",
    "\n",
    "data = pd.read_csv('../data/df_undersampling_multilabel.csv', index_col=0)  "
   ]
  },
  {
   "cell_type": "code",
   "execution_count": 2,
   "id": "cardiovascular-diana",
   "metadata": {
    "ExecuteTime": {
     "end_time": "2021-04-15T05:17:39.505627Z",
     "start_time": "2021-04-15T05:17:39.487004Z"
    }
   },
   "outputs": [
    {
     "data": {
      "text/plain": [
       "array(['CIVIL', 'COMMERCIAL', 'CRIMINAL', 'LABOR', 'POLITICAL',\n",
       "       'REMEDIAL', 'TAX'], dtype=object)"
      ]
     },
     "execution_count": 2,
     "metadata": {},
     "output_type": "execute_result"
    }
   ],
   "source": [
    "data = data.reset_index()\n",
    "data['case_type'].unique()"
   ]
  },
  {
   "cell_type": "code",
   "execution_count": 3,
   "id": "chubby-prairie",
   "metadata": {
    "ExecuteTime": {
     "end_time": "2021-04-15T05:17:46.223438Z",
     "start_time": "2021-04-15T05:17:46.212296Z"
    }
   },
   "outputs": [
    {
     "data": {
      "text/plain": [
       "case_type\n",
       "CIVIL         500\n",
       "COMMERCIAL    174\n",
       "CRIMINAL      500\n",
       "LABOR         500\n",
       "POLITICAL     389\n",
       "REMEDIAL      500\n",
       "TAX           500\n",
       "Name: case_type, dtype: int64"
      ]
     },
     "execution_count": 3,
     "metadata": {},
     "output_type": "execute_result"
    }
   ],
   "source": [
    "data.groupby(by=[\"case_type\"])['case_type'].count()"
   ]
  },
  {
   "cell_type": "code",
   "execution_count": 4,
   "id": "together-spider",
   "metadata": {
    "ExecuteTime": {
     "end_time": "2021-04-15T05:17:52.788130Z",
     "start_time": "2021-04-15T05:17:52.774582Z"
    }
   },
   "outputs": [],
   "source": [
    "data['is_civil'] = (data['case_type'] == 'CIVIL')\n",
    "# data[\"is_civil\"] = df[\"is_civil\"].astype(int)\n",
    "\n",
    "data['is_commercial'] = (data['case_type'] == 'COMMERCIAL')\n",
    "# data[\"is_commercial\"] = df[\"is_commercial\"].astype(int)\n",
    "\n",
    "data['is_criminal'] = (data['case_type'] == 'CRIMINAL')\n",
    "# data[\"is_criminal\"] = df[\"is_criminal\"].astype(int)\n",
    "\n",
    "data['is_labor'] = (data['case_type'] == 'LABOR')\n",
    "# data[\"is_labor\"] = df[\"is_labor\"].astype(int)\n",
    "\n",
    "data['is_political'] = (data['case_type'] == 'POLITICAL')\n",
    "# data[\"is_political\"] = df[\"is_political\"].astype(int)\n",
    "\n",
    "# data['is_remedial'] = (data['case_type'] == 'REMEDIAL')\n",
    "# data[\"is_remedial\"] = df[\"is_remedial\"].astype(int)\n",
    "\n",
    "data['is_tax'] = (data['case_type'] == 'TAX')\n",
    "# data[\"is_tax\"] = df[\"is_tax\"].astype(int)"
   ]
  },
  {
   "cell_type": "code",
   "execution_count": 5,
   "id": "coated-functionality",
   "metadata": {
    "ExecuteTime": {
     "end_time": "2021-04-15T05:18:00.347328Z",
     "start_time": "2021-04-15T05:18:00.336798Z"
    }
   },
   "outputs": [],
   "source": [
    "df = data[['content_clean', 'is_civil', 'is_commercial', 'is_criminal', 'is_labor', 'is_political',  'is_tax']]"
   ]
  },
  {
   "cell_type": "code",
   "execution_count": 6,
   "id": "impressed-mirror",
   "metadata": {
    "ExecuteTime": {
     "end_time": "2021-04-15T05:18:06.644752Z",
     "start_time": "2021-04-15T05:18:06.633458Z"
    }
   },
   "outputs": [
    {
     "name": "stderr",
     "output_type": "stream",
     "text": [
      "<ipython-input-6-a90776066d10>:1: SettingWithCopyWarning: \n",
      "A value is trying to be set on a copy of a slice from a DataFrame.\n",
      "Try using .loc[row_indexer,col_indexer] = value instead\n",
      "\n",
      "See the caveats in the documentation: https://pandas.pydata.org/pandas-docs/stable/user_guide/indexing.html#returning-a-view-versus-a-copy\n",
      "  df['labels'] = list(zip(df.is_civil.tolist(), df.is_commercial.tolist(), df.is_criminal.tolist(), df.is_labor.tolist(),  df.is_political.tolist(),  df.is_tax.tolist()))\n"
     ]
    }
   ],
   "source": [
    "df['labels'] = list(zip(df.is_civil.tolist(), df.is_commercial.tolist(), df.is_criminal.tolist(), df.is_labor.tolist(),  df.is_political.tolist(),  df.is_tax.tolist()))"
   ]
  },
  {
   "cell_type": "code",
   "execution_count": 7,
   "id": "primary-endorsement",
   "metadata": {
    "ExecuteTime": {
     "end_time": "2021-04-15T05:18:16.869087Z",
     "start_time": "2021-04-15T05:18:16.863962Z"
    }
   },
   "outputs": [],
   "source": [
    "df = df.rename(columns={\"content_clean\": 'text'})"
   ]
  },
  {
   "cell_type": "code",
   "execution_count": 8,
   "id": "minus-selling",
   "metadata": {
    "ExecuteTime": {
     "end_time": "2021-04-15T05:18:23.097150Z",
     "start_time": "2021-04-15T05:18:23.073386Z"
    }
   },
   "outputs": [
    {
     "data": {
      "text/html": [
       "<div>\n",
       "<style scoped>\n",
       "    .dataframe tbody tr th:only-of-type {\n",
       "        vertical-align: middle;\n",
       "    }\n",
       "\n",
       "    .dataframe tbody tr th {\n",
       "        vertical-align: top;\n",
       "    }\n",
       "\n",
       "    .dataframe thead th {\n",
       "        text-align: right;\n",
       "    }\n",
       "</style>\n",
       "<table border=\"1\" class=\"dataframe\">\n",
       "  <thead>\n",
       "    <tr style=\"text-align: right;\">\n",
       "      <th></th>\n",
       "      <th>text</th>\n",
       "      <th>is_civil</th>\n",
       "      <th>is_commercial</th>\n",
       "      <th>is_criminal</th>\n",
       "      <th>is_labor</th>\n",
       "      <th>is_political</th>\n",
       "      <th>is_tax</th>\n",
       "      <th>labels</th>\n",
       "    </tr>\n",
       "  </thead>\n",
       "  <tbody>\n",
       "    <tr>\n",
       "      <th>0</th>\n",
       "      <td>Subject of this direct appeal to us on points ...</td>\n",
       "      <td>True</td>\n",
       "      <td>False</td>\n",
       "      <td>False</td>\n",
       "      <td>False</td>\n",
       "      <td>False</td>\n",
       "      <td>False</td>\n",
       "      <td>(True, False, False, False, False, False)</td>\n",
       "    </tr>\n",
       "    <tr>\n",
       "      <th>1</th>\n",
       "      <td>Petition for certiorari to annul and set aside...</td>\n",
       "      <td>True</td>\n",
       "      <td>False</td>\n",
       "      <td>False</td>\n",
       "      <td>False</td>\n",
       "      <td>False</td>\n",
       "      <td>False</td>\n",
       "      <td>(True, False, False, False, False, False)</td>\n",
       "    </tr>\n",
       "    <tr>\n",
       "      <th>2</th>\n",
       "      <td>This is a petition for review of the Decision[...</td>\n",
       "      <td>True</td>\n",
       "      <td>False</td>\n",
       "      <td>False</td>\n",
       "      <td>False</td>\n",
       "      <td>False</td>\n",
       "      <td>False</td>\n",
       "      <td>(True, False, False, False, False, False)</td>\n",
       "    </tr>\n",
       "    <tr>\n",
       "      <th>3</th>\n",
       "      <td>“The plaintiff must rely on the strength of [h...</td>\n",
       "      <td>True</td>\n",
       "      <td>False</td>\n",
       "      <td>False</td>\n",
       "      <td>False</td>\n",
       "      <td>False</td>\n",
       "      <td>False</td>\n",
       "      <td>(True, False, False, False, False, False)</td>\n",
       "    </tr>\n",
       "    <tr>\n",
       "      <th>4</th>\n",
       "      <td>The United Church of Christ in the Philippines...</td>\n",
       "      <td>True</td>\n",
       "      <td>False</td>\n",
       "      <td>False</td>\n",
       "      <td>False</td>\n",
       "      <td>False</td>\n",
       "      <td>False</td>\n",
       "      <td>(True, False, False, False, False, False)</td>\n",
       "    </tr>\n",
       "  </tbody>\n",
       "</table>\n",
       "</div>"
      ],
      "text/plain": [
       "                                                text  is_civil  is_commercial  \\\n",
       "0  Subject of this direct appeal to us on points ...      True          False   \n",
       "1  Petition for certiorari to annul and set aside...      True          False   \n",
       "2  This is a petition for review of the Decision[...      True          False   \n",
       "3  “The plaintiff must rely on the strength of [h...      True          False   \n",
       "4  The United Church of Christ in the Philippines...      True          False   \n",
       "\n",
       "   is_criminal  is_labor  is_political  is_tax  \\\n",
       "0        False     False         False   False   \n",
       "1        False     False         False   False   \n",
       "2        False     False         False   False   \n",
       "3        False     False         False   False   \n",
       "4        False     False         False   False   \n",
       "\n",
       "                                      labels  \n",
       "0  (True, False, False, False, False, False)  \n",
       "1  (True, False, False, False, False, False)  \n",
       "2  (True, False, False, False, False, False)  \n",
       "3  (True, False, False, False, False, False)  \n",
       "4  (True, False, False, False, False, False)  "
      ]
     },
     "execution_count": 8,
     "metadata": {},
     "output_type": "execute_result"
    }
   ],
   "source": [
    "df.head()"
   ]
  },
  {
   "cell_type": "code",
   "execution_count": 9,
   "id": "increasing-clearing",
   "metadata": {
    "ExecuteTime": {
     "end_time": "2021-04-15T05:18:31.696376Z",
     "start_time": "2021-04-15T05:18:30.753130Z"
    }
   },
   "outputs": [],
   "source": [
    "from sklearn.model_selection import train_test_split\n",
    "\n",
    "train_df, eval_df = train_test_split(df, test_size=0.2)"
   ]
  },
  {
   "cell_type": "code",
   "execution_count": 10,
   "id": "hungry-birmingham",
   "metadata": {
    "ExecuteTime": {
     "end_time": "2021-04-15T05:19:18.354910Z",
     "start_time": "2021-04-15T05:19:07.701825Z"
    }
   },
   "outputs": [
    {
     "name": "stderr",
     "output_type": "stream",
     "text": [
      "Some weights of the model checkpoint at roberta-base were not used when initializing RobertaForMultiLabelSequenceClassification: ['lm_head.bias', 'lm_head.dense.weight', 'lm_head.dense.bias', 'lm_head.layer_norm.weight', 'lm_head.layer_norm.bias', 'lm_head.decoder.weight']\n",
      "- This IS expected if you are initializing RobertaForMultiLabelSequenceClassification from the checkpoint of a model trained on another task or with another architecture (e.g. initializing a BertForSequenceClassification model from a BertForPreTraining model).\n",
      "- This IS NOT expected if you are initializing RobertaForMultiLabelSequenceClassification from the checkpoint of a model that you expect to be exactly identical (initializing a BertForSequenceClassification model from a BertForSequenceClassification model).\n",
      "Some weights of RobertaForMultiLabelSequenceClassification were not initialized from the model checkpoint at roberta-base and are newly initialized: ['classifier.dense.weight', 'classifier.dense.bias', 'classifier.out_proj.weight', 'classifier.out_proj.bias']\n",
      "You should probably TRAIN this model on a down-stream task to be able to use it for predictions and inference.\n"
     ]
    }
   ],
   "source": [
    "from simpletransformers.classification import MultiLabelClassificationModel\n",
    "\n",
    "model = MultiLabelClassificationModel('roberta', 'roberta-base', use_cuda=False, num_labels=6)"
   ]
  },
  {
   "cell_type": "code",
   "execution_count": 11,
   "id": "thermal-rwanda",
   "metadata": {
    "ExecuteTime": {
     "end_time": "2021-04-15T06:05:26.544245Z",
     "start_time": "2021-04-15T05:19:18.358024Z"
    }
   },
   "outputs": [
    {
     "data": {
      "application/vnd.jupyter.widget-view+json": {
       "model_id": "7e7c946b492244428d8ffdffe2fa2855",
       "version_major": 2,
       "version_minor": 0
      },
      "text/plain": [
       "HBox(children=(HTML(value=''), FloatProgress(value=0.0, max=5.0), HTML(value='')))"
      ]
     },
     "metadata": {},
     "output_type": "display_data"
    },
    {
     "name": "stdout",
     "output_type": "stream",
     "text": [
      "\n"
     ]
    },
    {
     "data": {
      "application/vnd.jupyter.widget-view+json": {
       "model_id": "d56d9497f99a48189f5e478ccad43c63",
       "version_major": 2,
       "version_minor": 0
      },
      "text/plain": [
       "HBox(children=(HTML(value='Epoch'), FloatProgress(value=0.0, max=1.0), HTML(value='')))"
      ]
     },
     "metadata": {},
     "output_type": "display_data"
    },
    {
     "data": {
      "application/vnd.jupyter.widget-view+json": {
       "model_id": "e1f691f531f1452289e81e627e3e148b",
       "version_major": 2,
       "version_minor": 0
      },
      "text/plain": [
       "HBox(children=(HTML(value='Running Epoch 0 of 1'), FloatProgress(value=0.0, max=307.0), HTML(value='')))"
      ]
     },
     "metadata": {},
     "output_type": "display_data"
    },
    {
     "name": "stdout",
     "output_type": "stream",
     "text": [
      "\n",
      "\n"
     ]
    },
    {
     "data": {
      "text/plain": [
       "(307, 0.2639591163843385)"
      ]
     },
     "execution_count": 11,
     "metadata": {},
     "output_type": "execute_result"
    }
   ],
   "source": [
    "model.train_model(train_df)"
   ]
  },
  {
   "cell_type": "code",
   "execution_count": 13,
   "id": "british-cooper",
   "metadata": {
    "ExecuteTime": {
     "end_time": "2021-04-15T06:24:06.390111Z",
     "start_time": "2021-04-15T06:24:04.755594Z"
    }
   },
   "outputs": [
    {
     "data": {
      "application/vnd.jupyter.widget-view+json": {
       "model_id": "3e83e7feddc6413c8be968327b7d621f",
       "version_major": 2,
       "version_minor": 0
      },
      "text/plain": [
       "HBox(children=(HTML(value='Running Evaluation'), FloatProgress(value=0.0, max=1.0), HTML(value='')))"
      ]
     },
     "metadata": {},
     "output_type": "display_data"
    },
    {
     "name": "stdout",
     "output_type": "stream",
     "text": [
      "\n"
     ]
    }
   ],
   "source": [
    "result_2, model_outputs_2, wrong_predictions_2 = model.eval_model(eval_df.head())"
   ]
  },
  {
   "cell_type": "code",
   "execution_count": 14,
   "id": "extensive-chaos",
   "metadata": {
    "ExecuteTime": {
     "end_time": "2021-04-15T06:24:11.886712Z",
     "start_time": "2021-04-15T06:24:11.880732Z"
    }
   },
   "outputs": [
    {
     "data": {
      "text/plain": [
       "{'LRAP': 0.8666666666666668, 'eval_loss': 0.2524639666080475}"
      ]
     },
     "execution_count": 14,
     "metadata": {},
     "output_type": "execute_result"
    }
   ],
   "source": [
    "result_2"
   ]
  }
 ],
 "metadata": {
  "kernelspec": {
   "display_name": "Python 3",
   "language": "python",
   "name": "python3"
  },
  "language_info": {
   "codemirror_mode": {
    "name": "ipython",
    "version": 3
   },
   "file_extension": ".py",
   "mimetype": "text/x-python",
   "name": "python",
   "nbconvert_exporter": "python",
   "pygments_lexer": "ipython3",
   "version": "3.8.8"
  }
 },
 "nbformat": 4,
 "nbformat_minor": 5
}
