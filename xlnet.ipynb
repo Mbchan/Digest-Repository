{
 "cells": [
  {
   "cell_type": "code",
   "execution_count": 1,
   "id": "pleased-advocacy",
   "metadata": {
    "ExecuteTime": {
     "end_time": "2021-06-08T06:40:56.605888Z",
     "start_time": "2021-06-08T06:40:51.177426Z"
    }
   },
   "outputs": [],
   "source": [
    "import pandas as pd\n",
    "\n",
    "data = pd.read_csv('../data/df_undersampling_multilabel.csv', index_col=0)  "
   ]
  },
  {
   "cell_type": "code",
   "execution_count": 3,
   "id": "honest-plymouth",
   "metadata": {
    "ExecuteTime": {
     "end_time": "2021-06-08T06:41:15.706079Z",
     "start_time": "2021-06-08T06:41:15.667385Z"
    }
   },
   "outputs": [
    {
     "data": {
      "text/html": [
       "<div>\n",
       "<style scoped>\n",
       "    .dataframe tbody tr th:only-of-type {\n",
       "        vertical-align: middle;\n",
       "    }\n",
       "\n",
       "    .dataframe tbody tr th {\n",
       "        vertical-align: top;\n",
       "    }\n",
       "\n",
       "    .dataframe thead th {\n",
       "        text-align: right;\n",
       "    }\n",
       "</style>\n",
       "<table border=\"1\" class=\"dataframe\">\n",
       "  <thead>\n",
       "    <tr style=\"text-align: right;\">\n",
       "      <th></th>\n",
       "      <th>case_title</th>\n",
       "      <th>tag_1</th>\n",
       "      <th>tag_2</th>\n",
       "      <th>gr_no</th>\n",
       "      <th>case_type_total</th>\n",
       "      <th>case_type_count</th>\n",
       "      <th>content</th>\n",
       "      <th>content_clean</th>\n",
       "      <th>wordcount</th>\n",
       "      <th>tokenized</th>\n",
       "      <th>...</th>\n",
       "      <th>case_title_lemmatized_clean</th>\n",
       "      <th>case_title_lemmatized_clean_stopwords</th>\n",
       "      <th>test</th>\n",
       "      <th>CIVIL</th>\n",
       "      <th>COMMERCIAL</th>\n",
       "      <th>CRIMINAL</th>\n",
       "      <th>LABOR</th>\n",
       "      <th>POLITICAL</th>\n",
       "      <th>REMEDIAL</th>\n",
       "      <th>TAX</th>\n",
       "    </tr>\n",
       "  </thead>\n",
       "  <tbody>\n",
       "    <tr>\n",
       "      <th>0</th>\n",
       "      <td>LEONOR VILLAFLOR VDA. DE VILLANUEVA, PLAINTIFF...</td>\n",
       "      <td>NaN</td>\n",
       "      <td>NaN</td>\n",
       "      <td>G. R. No. L-15737</td>\n",
       "      <td>['CIVIL']</td>\n",
       "      <td>1</td>\n",
       "      <td>G. R. No. L-15737, February 28, 1962 LEONOR ...</td>\n",
       "      <td>Subject of this direct appeal to us on points ...</td>\n",
       "      <td>1744</td>\n",
       "      <td>['Subject', 'of', 'this', 'direct', 'appeal', ...</td>\n",
       "      <td>...</td>\n",
       "      <td>leonor villaflor vda de villanueva plaintiff a...</td>\n",
       "      <td>vda appellant juico capacity judicial administ...</td>\n",
       "      <td>vda appellant juico capacity judicial administ...</td>\n",
       "      <td>1</td>\n",
       "      <td>0</td>\n",
       "      <td>0</td>\n",
       "      <td>0</td>\n",
       "      <td>0</td>\n",
       "      <td>0</td>\n",
       "      <td>0</td>\n",
       "    </tr>\n",
       "    <tr>\n",
       "      <th>1</th>\n",
       "      <td>SPOUSES ANDRES OLAR AND SERAPIA GERMANO, SPOUS...</td>\n",
       "      <td>Spouses</td>\n",
       "      <td>Sps</td>\n",
       "      <td>G.R. No. L-47935</td>\n",
       "      <td>['CIVIL']</td>\n",
       "      <td>1</td>\n",
       "      <td>SECOND DIVISION G.R. No. L-47935, May 05, 197...</td>\n",
       "      <td>Petition for certiorari to annul and set aside...</td>\n",
       "      <td>1476</td>\n",
       "      <td>['Petition', 'for', 'certiorari', 'to', 'annul...</td>\n",
       "      <td>...</td>\n",
       "      <td>spouses andres olar and serapia germano spouse...</td>\n",
       "      <td>spouses spouses hon cfi spouses lumapas policr...</td>\n",
       "      <td>spouses spouses hon cfi spouses lumapas policr...</td>\n",
       "      <td>1</td>\n",
       "      <td>0</td>\n",
       "      <td>0</td>\n",
       "      <td>0</td>\n",
       "      <td>0</td>\n",
       "      <td>0</td>\n",
       "      <td>0</td>\n",
       "    </tr>\n",
       "    <tr>\n",
       "      <th>2</th>\n",
       "      <td>PHILIPPINE RABBIT BUS LINES, INC., PETITIONER,...</td>\n",
       "      <td>Spouses</td>\n",
       "      <td>Sps</td>\n",
       "      <td>G.R. NO. 160355</td>\n",
       "      <td>['CIVIL', 'CRIMINAL']</td>\n",
       "      <td>2</td>\n",
       "      <td>SECOND DIVISION G.R. NO. 160355, May 16, 2005...</td>\n",
       "      <td>This is a petition for review of the Decision[...</td>\n",
       "      <td>3275</td>\n",
       "      <td>['This', 'is', 'a', 'petition', 'for', 'review...</td>\n",
       "      <td>...</td>\n",
       "      <td>philippine rabbit bus lines petitioner vs heir...</td>\n",
       "      <td>rabbit vs heirs people philippines respondents</td>\n",
       "      <td>rabbit vs heirs people philippines respondents...</td>\n",
       "      <td>1</td>\n",
       "      <td>0</td>\n",
       "      <td>1</td>\n",
       "      <td>0</td>\n",
       "      <td>0</td>\n",
       "      <td>0</td>\n",
       "      <td>0</td>\n",
       "    </tr>\n",
       "    <tr>\n",
       "      <th>3</th>\n",
       "      <td>SPOUSES WILLIAM GUIDANGEN AND MARY GUIDANGEN, ...</td>\n",
       "      <td>Spouses</td>\n",
       "      <td>Sps</td>\n",
       "      <td>G.R. No. 174445</td>\n",
       "      <td>['CIVIL']</td>\n",
       "      <td>1</td>\n",
       "      <td>FIRST DIVISION G.R. No. 174445, February 15, ...</td>\n",
       "      <td>“The plaintiff must rely on the strength of [h...</td>\n",
       "      <td>4664</td>\n",
       "      <td>['“', 'The', 'plaintiff', 'must', 'rely', 'on'...</td>\n",
       "      <td>...</td>\n",
       "      <td>spouses william guidangen and mary guidangen p...</td>\n",
       "      <td>spouses guidangen guidangen b wooden respondent</td>\n",
       "      <td>spouses guidangen guidangen b wooden responden...</td>\n",
       "      <td>1</td>\n",
       "      <td>0</td>\n",
       "      <td>0</td>\n",
       "      <td>0</td>\n",
       "      <td>0</td>\n",
       "      <td>0</td>\n",
       "      <td>0</td>\n",
       "    </tr>\n",
       "    <tr>\n",
       "      <th>4</th>\n",
       "      <td>NEGROS DISTRICT CONFERENCE, INC.,\\nREVEREND LE...</td>\n",
       "      <td>Spouses</td>\n",
       "      <td>Sps</td>\n",
       "      <td>G.R. No. 57041</td>\n",
       "      <td>['CIVIL']</td>\n",
       "      <td>1</td>\n",
       "      <td>SECOND DIVISION G.R. No. 57041, October 23, 1...</td>\n",
       "      <td>The United Church of Christ in the Philippines...</td>\n",
       "      <td>2842</td>\n",
       "      <td>['The', 'United', 'Church', 'of', 'Christ', 'i...</td>\n",
       "      <td>...</td>\n",
       "      <td>negros district conference reverend leumin alo...</td>\n",
       "      <td>negros district conference reverend moderator ...</td>\n",
       "      <td>negros district conference reverend moderator ...</td>\n",
       "      <td>1</td>\n",
       "      <td>0</td>\n",
       "      <td>0</td>\n",
       "      <td>0</td>\n",
       "      <td>0</td>\n",
       "      <td>0</td>\n",
       "      <td>0</td>\n",
       "    </tr>\n",
       "  </tbody>\n",
       "</table>\n",
       "<p>5 rows × 27 columns</p>\n",
       "</div>"
      ],
      "text/plain": [
       "                                          case_title    tag_1 tag_2  \\\n",
       "0  LEONOR VILLAFLOR VDA. DE VILLANUEVA, PLAINTIFF...      NaN   NaN   \n",
       "1  SPOUSES ANDRES OLAR AND SERAPIA GERMANO, SPOUS...  Spouses   Sps   \n",
       "2  PHILIPPINE RABBIT BUS LINES, INC., PETITIONER,...  Spouses   Sps   \n",
       "3  SPOUSES WILLIAM GUIDANGEN AND MARY GUIDANGEN, ...  Spouses   Sps   \n",
       "4  NEGROS DISTRICT CONFERENCE, INC.,\\nREVEREND LE...  Spouses   Sps   \n",
       "\n",
       "               gr_no        case_type_total  case_type_count  \\\n",
       "0  G. R. No. L-15737              ['CIVIL']                1   \n",
       "1   G.R. No. L-47935              ['CIVIL']                1   \n",
       "2    G.R. NO. 160355  ['CIVIL', 'CRIMINAL']                2   \n",
       "3    G.R. No. 174445              ['CIVIL']                1   \n",
       "4     G.R. No. 57041              ['CIVIL']                1   \n",
       "\n",
       "                                             content  \\\n",
       "0    G. R. No. L-15737, February 28, 1962 LEONOR ...   \n",
       "1   SECOND DIVISION G.R. No. L-47935, May 05, 197...   \n",
       "2   SECOND DIVISION G.R. NO. 160355, May 16, 2005...   \n",
       "3   FIRST DIVISION G.R. No. 174445, February 15, ...   \n",
       "4   SECOND DIVISION G.R. No. 57041, October 23, 1...   \n",
       "\n",
       "                                       content_clean  wordcount  \\\n",
       "0  Subject of this direct appeal to us on points ...       1744   \n",
       "1  Petition for certiorari to annul and set aside...       1476   \n",
       "2  This is a petition for review of the Decision[...       3275   \n",
       "3  “The plaintiff must rely on the strength of [h...       4664   \n",
       "4  The United Church of Christ in the Philippines...       2842   \n",
       "\n",
       "                                           tokenized  ...  \\\n",
       "0  ['Subject', 'of', 'this', 'direct', 'appeal', ...  ...   \n",
       "1  ['Petition', 'for', 'certiorari', 'to', 'annul...  ...   \n",
       "2  ['This', 'is', 'a', 'petition', 'for', 'review...  ...   \n",
       "3  ['“', 'The', 'plaintiff', 'must', 'rely', 'on'...  ...   \n",
       "4  ['The', 'United', 'Church', 'of', 'Christ', 'i...  ...   \n",
       "\n",
       "                         case_title_lemmatized_clean  \\\n",
       "0  leonor villaflor vda de villanueva plaintiff a...   \n",
       "1  spouses andres olar and serapia germano spouse...   \n",
       "2  philippine rabbit bus lines petitioner vs heir...   \n",
       "3  spouses william guidangen and mary guidangen p...   \n",
       "4  negros district conference reverend leumin alo...   \n",
       "\n",
       "               case_title_lemmatized_clean_stopwords  \\\n",
       "0  vda appellant juico capacity judicial administ...   \n",
       "1  spouses spouses hon cfi spouses lumapas policr...   \n",
       "2     rabbit vs heirs people philippines respondents   \n",
       "3    spouses guidangen guidangen b wooden respondent   \n",
       "4  negros district conference reverend moderator ...   \n",
       "\n",
       "                                                test CIVIL COMMERCIAL  \\\n",
       "0  vda appellant juico capacity judicial administ...     1          0   \n",
       "1  spouses spouses hon cfi spouses lumapas policr...     1          0   \n",
       "2  rabbit vs heirs people philippines respondents...     1          0   \n",
       "3  spouses guidangen guidangen b wooden responden...     1          0   \n",
       "4  negros district conference reverend moderator ...     1          0   \n",
       "\n",
       "  CRIMINAL LABOR POLITICAL REMEDIAL TAX  \n",
       "0        0     0         0        0   0  \n",
       "1        0     0         0        0   0  \n",
       "2        1     0         0        0   0  \n",
       "3        0     0         0        0   0  \n",
       "4        0     0         0        0   0  \n",
       "\n",
       "[5 rows x 27 columns]"
      ]
     },
     "execution_count": 3,
     "metadata": {},
     "output_type": "execute_result"
    }
   ],
   "source": [
    "data = data.reset_index()\n",
    "data.head()"
   ]
  },
  {
   "cell_type": "markdown",
   "id": "accurate-transition",
   "metadata": {},
   "source": [
    "### Format Dataset"
   ]
  },
  {
   "cell_type": "code",
   "execution_count": 4,
   "id": "civic-rebound",
   "metadata": {
    "ExecuteTime": {
     "end_time": "2021-06-08T06:41:21.896109Z",
     "start_time": "2021-06-08T06:41:21.882621Z"
    }
   },
   "outputs": [],
   "source": [
    "data['is_civil'] = (data['case_type'] == 'CIVIL')\n",
    "# data[\"is_civil\"] = df[\"is_civil\"].astype(int)\n",
    "\n",
    "data['is_commercial'] = (data['case_type'] == 'COMMERCIAL')\n",
    "# data[\"is_commercial\"] = df[\"is_commercial\"].astype(int)\n",
    "\n",
    "data['is_criminal'] = (data['case_type'] == 'CRIMINAL')\n",
    "# data[\"is_criminal\"] = df[\"is_criminal\"].astype(int)\n",
    "\n",
    "data['is_labor'] = (data['case_type'] == 'LABOR')\n",
    "# data[\"is_labor\"] = df[\"is_labor\"].astype(int)\n",
    "\n",
    "data['is_political'] = (data['case_type'] == 'POLITICAL')\n",
    "# data[\"is_political\"] = df[\"is_political\"].astype(int)\n",
    "\n",
    "# data['is_remedial'] = (data['case_type'] == 'REMEDIAL')\n",
    "# data[\"is_remedial\"] = df[\"is_remedial\"].astype(int)\n",
    "\n",
    "data['is_tax'] = (data['case_type'] == 'TAX')\n",
    "# data[\"is_tax\"] = df[\"is_tax\"].astype(int)"
   ]
  },
  {
   "cell_type": "code",
   "execution_count": 5,
   "id": "recognized-christianity",
   "metadata": {
    "ExecuteTime": {
     "end_time": "2021-06-08T06:41:23.835084Z",
     "start_time": "2021-06-08T06:41:23.828108Z"
    }
   },
   "outputs": [],
   "source": [
    "df = data[['content_clean', 'is_civil', 'is_commercial', 'is_criminal', 'is_labor', 'is_political',  'is_tax']]"
   ]
  },
  {
   "cell_type": "code",
   "execution_count": 6,
   "id": "amino-upper",
   "metadata": {
    "ExecuteTime": {
     "end_time": "2021-06-08T06:41:25.297238Z",
     "start_time": "2021-06-08T06:41:25.289568Z"
    }
   },
   "outputs": [
    {
     "name": "stderr",
     "output_type": "stream",
     "text": [
      "<ipython-input-6-a90776066d10>:1: SettingWithCopyWarning: \n",
      "A value is trying to be set on a copy of a slice from a DataFrame.\n",
      "Try using .loc[row_indexer,col_indexer] = value instead\n",
      "\n",
      "See the caveats in the documentation: https://pandas.pydata.org/pandas-docs/stable/user_guide/indexing.html#returning-a-view-versus-a-copy\n",
      "  df['labels'] = list(zip(df.is_civil.tolist(), df.is_commercial.tolist(), df.is_criminal.tolist(), df.is_labor.tolist(),  df.is_political.tolist(),  df.is_tax.tolist()))\n"
     ]
    }
   ],
   "source": [
    "df['labels'] = list(zip(df.is_civil.tolist(), df.is_commercial.tolist(), df.is_criminal.tolist(), df.is_labor.tolist(),  df.is_political.tolist(),  df.is_tax.tolist()))"
   ]
  },
  {
   "cell_type": "code",
   "execution_count": 7,
   "id": "raising-oxide",
   "metadata": {
    "ExecuteTime": {
     "end_time": "2021-06-08T06:41:30.893878Z",
     "start_time": "2021-06-08T06:41:30.890094Z"
    }
   },
   "outputs": [],
   "source": [
    "df = df.rename(columns={\"content_clean\": 'text'})"
   ]
  },
  {
   "cell_type": "markdown",
   "id": "exciting-survivor",
   "metadata": {},
   "source": [
    "### Create Train and Test Dataset"
   ]
  },
  {
   "cell_type": "code",
   "execution_count": 8,
   "id": "extra-completion",
   "metadata": {
    "ExecuteTime": {
     "end_time": "2021-06-08T06:41:33.270276Z",
     "start_time": "2021-06-08T06:41:32.530358Z"
    }
   },
   "outputs": [],
   "source": [
    "from sklearn.model_selection import train_test_split\n",
    "\n",
    "train_df, eval_df = train_test_split(df, test_size=0.2)"
   ]
  },
  {
   "cell_type": "code",
   "execution_count": 10,
   "id": "decent-butterfly",
   "metadata": {
    "ExecuteTime": {
     "end_time": "2021-06-08T06:42:20.913940Z",
     "start_time": "2021-06-08T06:42:20.909375Z"
    }
   },
   "outputs": [
    {
     "data": {
      "text/plain": [
       "text             object\n",
       "is_civil           bool\n",
       "is_commercial      bool\n",
       "is_criminal        bool\n",
       "is_labor           bool\n",
       "is_political       bool\n",
       "is_tax             bool\n",
       "labels           object\n",
       "dtype: object"
      ]
     },
     "execution_count": 10,
     "metadata": {},
     "output_type": "execute_result"
    }
   ],
   "source": [
    "train_df.dtypes"
   ]
  },
  {
   "cell_type": "code",
   "execution_count": 11,
   "id": "objective-scroll",
   "metadata": {
    "ExecuteTime": {
     "end_time": "2021-06-08T06:54:51.184126Z",
     "start_time": "2021-06-08T06:54:51.180150Z"
    }
   },
   "outputs": [
    {
     "data": {
      "text/plain": [
       "(2450, 8)"
      ]
     },
     "execution_count": 11,
     "metadata": {},
     "output_type": "execute_result"
    }
   ],
   "source": [
    "train_df.shape"
   ]
  },
  {
   "cell_type": "markdown",
   "id": "indirect-grocery",
   "metadata": {},
   "source": [
    "### Model Training"
   ]
  },
  {
   "cell_type": "code",
   "execution_count": 8,
   "id": "unknown-cattle",
   "metadata": {
    "ExecuteTime": {
     "end_time": "2021-04-17T00:57:28.302828Z",
     "start_time": "2021-04-17T00:57:17.650355Z"
    }
   },
   "outputs": [
    {
     "name": "stderr",
     "output_type": "stream",
     "text": [
      "Some weights of the model checkpoint at xlnet-base-cased were not used when initializing XLNetForMultiLabelSequenceClassification: ['lm_loss.weight', 'lm_loss.bias']\n",
      "- This IS expected if you are initializing XLNetForMultiLabelSequenceClassification from the checkpoint of a model trained on another task or with another architecture (e.g. initializing a BertForSequenceClassification model from a BertForPreTraining model).\n",
      "- This IS NOT expected if you are initializing XLNetForMultiLabelSequenceClassification from the checkpoint of a model that you expect to be exactly identical (initializing a BertForSequenceClassification model from a BertForSequenceClassification model).\n",
      "Some weights of XLNetForMultiLabelSequenceClassification were not initialized from the model checkpoint at xlnet-base-cased and are newly initialized: ['sequence_summary.summary.weight', 'sequence_summary.summary.bias', 'logits_proj.weight', 'logits_proj.bias']\n",
      "You should probably TRAIN this model on a down-stream task to be able to use it for predictions and inference.\n"
     ]
    },
    {
     "data": {
      "application/vnd.jupyter.widget-view+json": {
       "model_id": "720e32660d4440df9d6889d53d61b5df",
       "version_major": 2,
       "version_minor": 0
      },
      "text/plain": [
       "HBox(children=(HTML(value='Downloading'), FloatProgress(value=0.0, max=798011.0), HTML(value='')))"
      ]
     },
     "metadata": {},
     "output_type": "display_data"
    },
    {
     "name": "stdout",
     "output_type": "stream",
     "text": [
      "\n"
     ]
    }
   ],
   "source": [
    "from simpletransformers.classification import MultiLabelClassificationModel\n",
    "\n",
    "model = MultiLabelClassificationModel('xlnet', 'xlnet-base-cased', use_cuda=False, num_labels=6)"
   ]
  },
  {
   "cell_type": "code",
   "execution_count": 9,
   "id": "unusual-desert",
   "metadata": {
    "ExecuteTime": {
     "end_time": "2021-04-17T02:16:44.250503Z",
     "start_time": "2021-04-17T00:57:43.427224Z"
    }
   },
   "outputs": [
    {
     "data": {
      "application/vnd.jupyter.widget-view+json": {
       "model_id": "14b51d4fe67841fc966f0c3b7bb7b9ec",
       "version_major": 2,
       "version_minor": 0
      },
      "text/plain": [
       "HBox(children=(HTML(value=''), FloatProgress(value=0.0, max=5.0), HTML(value='')))"
      ]
     },
     "metadata": {},
     "output_type": "display_data"
    },
    {
     "name": "stdout",
     "output_type": "stream",
     "text": [
      "\n"
     ]
    },
    {
     "data": {
      "application/vnd.jupyter.widget-view+json": {
       "model_id": "113be8b1889c4d1abe16f174bb4bed19",
       "version_major": 2,
       "version_minor": 0
      },
      "text/plain": [
       "HBox(children=(HTML(value='Epoch'), FloatProgress(value=0.0, max=1.0), HTML(value='')))"
      ]
     },
     "metadata": {},
     "output_type": "display_data"
    },
    {
     "data": {
      "application/vnd.jupyter.widget-view+json": {
       "model_id": "7df8beb7938b45779650af2c2de058a6",
       "version_major": 2,
       "version_minor": 0
      },
      "text/plain": [
       "HBox(children=(HTML(value='Running Epoch 0 of 1'), FloatProgress(value=0.0, max=307.0), HTML(value='')))"
      ]
     },
     "metadata": {},
     "output_type": "display_data"
    },
    {
     "name": "stdout",
     "output_type": "stream",
     "text": [
      "\n",
      "\n"
     ]
    },
    {
     "data": {
      "text/plain": [
       "(307, 0.24963762628139036)"
      ]
     },
     "execution_count": 9,
     "metadata": {},
     "output_type": "execute_result"
    }
   ],
   "source": [
    "model.train_model(train_df)"
   ]
  },
  {
   "cell_type": "markdown",
   "id": "tired-intensity",
   "metadata": {},
   "source": [
    "### Model Prediction"
   ]
  },
  {
   "cell_type": "code",
   "execution_count": 10,
   "id": "undefined-summary",
   "metadata": {
    "ExecuteTime": {
     "end_time": "2021-04-17T02:21:46.749772Z",
     "start_time": "2021-04-17T02:16:44.260085Z"
    }
   },
   "outputs": [
    {
     "data": {
      "application/vnd.jupyter.widget-view+json": {
       "model_id": "4a634de2cbc14752af949634a97811cc",
       "version_major": 2,
       "version_minor": 0
      },
      "text/plain": [
       "HBox(children=(HTML(value='Running Evaluation'), FloatProgress(value=0.0, max=77.0), HTML(value='')))"
      ]
     },
     "metadata": {},
     "output_type": "display_data"
    },
    {
     "name": "stdout",
     "output_type": "stream",
     "text": [
      "\n"
     ]
    }
   ],
   "source": [
    "result, model_outputs, wrong_predictions = model.eval_model(eval_df)"
   ]
  },
  {
   "cell_type": "code",
   "execution_count": 11,
   "id": "instant-omega",
   "metadata": {
    "ExecuteTime": {
     "end_time": "2021-04-17T02:21:46.757401Z",
     "start_time": "2021-04-17T02:21:46.753057Z"
    }
   },
   "outputs": [
    {
     "data": {
      "text/plain": [
       "{'LRAP': 0.9109026644915713, 'eval_loss': 0.17275570773265578}"
      ]
     },
     "execution_count": 11,
     "metadata": {},
     "output_type": "execute_result"
    }
   ],
   "source": [
    "result"
   ]
  },
  {
   "cell_type": "code",
   "execution_count": 12,
   "id": "answering-cuisine",
   "metadata": {
    "ExecuteTime": {
     "end_time": "2021-04-17T02:21:46.764493Z",
     "start_time": "2021-04-17T02:21:46.760071Z"
    }
   },
   "outputs": [
    {
     "data": {
      "text/plain": [
       "array([[0.77108091, 0.03988045, 0.02475978, 0.01599586, 0.02771435,\n",
       "        0.01380678],\n",
       "       [0.14293367, 0.49541849, 0.01002354, 0.03297364, 0.03100283,\n",
       "        0.05439207],\n",
       "       [0.16664246, 0.01262887, 0.22881126, 0.02479113, 0.02164016,\n",
       "        0.00397313],\n",
       "       ...,\n",
       "       [0.03171551, 0.01703195, 0.01580507, 0.04320655, 0.94004184,\n",
       "        0.01575922],\n",
       "       [0.02271523, 0.02064681, 0.01733292, 0.0167556 , 0.02222091,\n",
       "        0.96837664],\n",
       "       [0.0186137 , 0.01842433, 0.02128139, 0.01720255, 0.0183956 ,\n",
       "        0.95721859]])"
      ]
     },
     "execution_count": 12,
     "metadata": {},
     "output_type": "execute_result"
    }
   ],
   "source": [
    "model_outputs"
   ]
  },
  {
   "cell_type": "code",
   "execution_count": 13,
   "id": "funded-signature",
   "metadata": {
    "ExecuteTime": {
     "end_time": "2021-04-17T02:21:46.770825Z",
     "start_time": "2021-04-17T02:21:46.766427Z"
    }
   },
   "outputs": [
    {
     "data": {
      "text/plain": [
       "['NA']"
      ]
     },
     "execution_count": 13,
     "metadata": {},
     "output_type": "execute_result"
    }
   ],
   "source": [
    "wrong_predictions"
   ]
  },
  {
   "cell_type": "markdown",
   "id": "retired-offense",
   "metadata": {},
   "source": [
    "### Model Prediction"
   ]
  },
  {
   "cell_type": "code",
   "execution_count": 14,
   "id": "funny-equivalent",
   "metadata": {
    "ExecuteTime": {
     "end_time": "2021-04-17T02:21:47.169253Z",
     "start_time": "2021-04-17T02:21:46.772833Z"
    }
   },
   "outputs": [
    {
     "data": {
      "application/vnd.jupyter.widget-view+json": {
       "model_id": "2e536969284148f0a99cec567b4de806",
       "version_major": 2,
       "version_minor": 0
      },
      "text/plain": [
       "HBox(children=(HTML(value=''), FloatProgress(value=0.0, max=1.0), HTML(value='')))"
      ]
     },
     "metadata": {},
     "output_type": "display_data"
    },
    {
     "name": "stdout",
     "output_type": "stream",
     "text": [
      "\n"
     ]
    }
   ],
   "source": [
    "predictions, raw_outputs = model.predict(['Avelino Ordono was charged in the municipal court of San Gabriel, La Union with having raped his daughter, Leonora, on October 11, 1970. The verified complaint dated November 7, 1973 was signed by the twenty-four year old victim (Criminal Case No. 104).In support of that complaint, Catalina Balanon Ordono, the mother of Leonora, executed a sworn statement wherein she disclosed that on that same date, October 11th, Leonora had apprised her of the outrage but no denunciation was filed because Avelino Ordono threatened to kill Leonora and Catalina (his daughter and wife, respectively) if they reported the crime to the police.Catalina Ordono in her sworn statement further revealed that her husband had also raped their other daughter, Rosa, on March 25 and April 7, 1973. He was charged in court with that offense.Catalina Ordono said that the rape committed by Avelino Ordono against Leonora was mentioned during the investigation and trial of Avelino Ordono for the rape committed against Rosa Ordono. Catalina\\'s statement on this point is as follows:  \"Q - Why did you not file the complaint against your husband concerning the incident involving Leonora Ordono?\"A - We also narrated the incident during the investigation in the Fiscal\\'s Office and also when I testified in court in the case of my daughter Rosa Ordono but then my daughter Leonora Ordono was still in Manila, sir.\"During the preliminary investigation of the rape committed against Leonora, Catalina manifested that she was no longer afraid to denounce Avelino Ordono because he was already in jail for having raped Rosa Ordono.The case against Avelino Ordono, where Leonora Ordono was the complainant, was elevated to the Court of First Instance of La Union, San Fernando Branch (Criminal Case No. 356). On May 29, 1974 the Fiscal presented Catalina Ordono as the second prosecution witness. After she had stated her personal circumstances, the defense counsel objected to her competency. He invoked the marital disqualification rule found in Rule 130 of the Rules of Court which provides:\"SEC. 20.  Disqualification by reason of interest or relationship. — The following persons cannot testify as to matters in which they are interested, directly or indirectly, as herein enumerated:x x x x x x x x x(b) A husband cannot be examined for or against his wife without her consent; nor a wife for or against her husband without his consent, except in a civil case by one against the other, or in a criminal case for a crime committed by one against the other;x x x x x x x x xCounsel claimed that Avelino Ordono had not consented expressly or impliedly to his wife\\'s testifying against him.The trial court overruled the objection. After the denial of Avelino Ordono\\'s motion for the reconsideration of the adverse ruling, he filed the instant action for certiorari and prohibition. He was allowed to sue in forma pauperis.The issue is whether the rape committed by the husband against his daughter is a crime committed by him against his wife within the meaning of the exception found in the marital disqualification rule.Should the phrase \"in a criminal case for a crime committed by one against the other\" be restricted to crimes committed by one spouse against the other, such as physical injuries, bigamy, adultery or concubinage, or should it be given a latitudinarian interpretation as referring to any offense causing marital discord?There is a dictum that \"where the marital and domestic relations are so strained that there is no more harmony to be preserved nor peace and tranquility which may be disturbed, the reason based upon such harmony and tranquility fails. In such a case identity of interests disappears and the consequent danger of perjury based on that identity is nonexistent. Likewise, in such a situation, the security and confidences of private life which the law aims at protecting will be nothing but ideals which, through their absence, merely leave a void in the unhappy home\" (People vs. Francisco, 78 Phil. 694, 704).In the Francisco case, the wife, as a rebuttal witness, was allowed to testify against the husband who was charged with having killed his son and who testified that it was the wife who killed their son.We think that the correct rule, which may be adopted in this jurisdiction, is that laid down in Cargill vs. State, 35 ALR 133, 220 Pac. 64 25 Okl. 314, wherein the court said:\"The rule that the injury must amount to a physical wrong upon the person is too narrow; and the rule that any offense remotely or indirectly affecting domestic harmony comes within the exception is too broad. The better rule is that, when an offense directly attacks, or directly and vitally impairs, the conjugal relation, it comes within the exception to the statute that one shall not be a witness against the other except in a criminal prosecution for a crime committed (by) one against the other\".Using the criterion thus judiciously enunciated in the Cargill case, it can be conclude that in the law of evidence the rape perpetrated by the father against his daughter is a crime committed by him against his wife (the victim\\'s mother).[*]That conclusion is in harmony with the practices and traditions of the Filipino family where, normally, the daughter is close to the mother who, having breast-fed and reared her offspring, is always ready to render her counsel and assistance in time of need. Indeed, when the daughter is in distress or suffers moral or physical pain, she usually utters the word Inay (Mother) before she invokes the name of the Lord. (Madre mia, Dios mio)Thus, in this case, when Avelino Ordono, after having raped his daughter Leonora in the early morning of October 11, 1970, tried to repeat the beastly act in the evening of that date, Leonora shouted \"Mother\" and, on hearing that word, Avelino desisted.That the rape of the daughter by the father, an undeniably abominable and revolting crime with incestuous implications, positively undermines the connubial relationship, is a proposition too obvious to require much elucidation.In Wilkinson vs. People, 282 Pac. 257, it was held that the wife was a competent witness against the husband in a prosecution for rape committed by the husband against his stepdaughter, who is the wife\\'s natural daughter because the crime was \"an outrage upon nature in its dearest and tenderest relations as well as a crime against humanity itself\". The court adopted the interpretation that \"a criminal action or proceeding for a crime committed by one against the other\" may refer to a crime where the wife is the individual particularly and directly injured or affected by the crime for which the husband is being prosecuted (See Dill vs. People, 19 Colo. 469, 475, 36 Pac. 229, 232).In State vs. Chambers, 87 Iowa 1, 53 N.W. 1090, it was held under the statutory provision that husband or wife shall in no case be a witness for or against the other, except in a criminal proceeding for a crime committed by one against the other, that the wife was competent to testify against the husband in a case where he was prosecuted for incest committed against his stepdaughter.In State vs. Shultz, 177 Iowa 321, 158 N.W. 539, it was held that the wife may testify against the husband in a case where he was prosecuted for incest committed against their eleven-year old daughter because incest is a \"crime committed against the wife\". (See Owens vs. State, 32 Neb. 167, 49 N.W. 226; Lord vs. State, 23 N.W. 507, 17 Neb. 526; People vs. Segura, 60 Phil. 933).The trial court did not err in holding that Catalina Ordono could testify against her husband, Avelino Ordono, in the case where he is being tried for having raped their daughter, Leonora.WHEREFORE, the petition for certiorari and prohibition is dismissed. No costs.SO ORDERED.Makalintal, C.J., Castro, Fernando, Teehankee, Barredo, Makasiar, Esguerra, Fernandez, and Muñoz Palma, JJ., concur.Antonio, J., is on sick leave.[*] As noted by Wigmore, the marital disqualification rule consists of two parts: (1) the incapacity of one spouse to testify for the other, a disqualification designed to obviate perjury, and (2) the privilege of one spouse not to testify against the other, a right designed to present domestic disunion and unhappiness (U.S. vs. Concepcion, 31 Phil. 182, 187; 2 Wigmore on Evidence 731).Wigmore notes that the privilege has no longer any good reason for retention. \"In an age which has so far rationalized, depolarized, and depolarized the marital relation and the spirit of Femininity as to be willing to enact complete legal and political equality and independence of man and woman, this marital privilege is the merest anachronism, in legal theory, and an indefensible obstruction to truth, in practice\". After noting that some States had abolished the privilege, the American Bar Association\\'s Committee on the Improvement of the Law of Evidence in 1937-38 recommended its abolition (8 Wigmore on Evidence 232).'])"
   ]
  },
  {
   "cell_type": "code",
   "execution_count": 15,
   "id": "standing-basin",
   "metadata": {
    "ExecuteTime": {
     "end_time": "2021-04-17T02:21:47.175307Z",
     "start_time": "2021-04-17T02:21:47.172021Z"
    }
   },
   "outputs": [
    {
     "data": {
      "text/plain": [
       "[[0, 0, 1, 0, 0, 0]]"
      ]
     },
     "execution_count": 15,
     "metadata": {},
     "output_type": "execute_result"
    }
   ],
   "source": [
    "predictions"
   ]
  },
  {
   "cell_type": "code",
   "execution_count": 16,
   "id": "geological-lover",
   "metadata": {
    "ExecuteTime": {
     "end_time": "2021-04-17T02:21:47.181768Z",
     "start_time": "2021-04-17T02:21:47.177342Z"
    }
   },
   "outputs": [
    {
     "data": {
      "text/plain": [
       "array([[0.03339857, 0.010126  , 0.78424799, 0.02217317, 0.01396317,\n",
       "        0.00757939]])"
      ]
     },
     "execution_count": 16,
     "metadata": {},
     "output_type": "execute_result"
    }
   ],
   "source": [
    "raw_outputs"
   ]
  },
  {
   "cell_type": "markdown",
   "id": "danish-cedar",
   "metadata": {},
   "source": [
    "### Reuse Model Training"
   ]
  },
  {
   "cell_type": "code",
   "execution_count": 4,
   "id": "imported-benefit",
   "metadata": {
    "ExecuteTime": {
     "end_time": "2021-04-22T06:20:59.294695Z",
     "start_time": "2021-04-22T06:20:57.166906Z"
    }
   },
   "outputs": [],
   "source": [
    "from simpletransformers.classification import MultiLabelClassificationModel\n",
    "model2 = MultiLabelClassificationModel(\n",
    "    \"xlnet\", \"outputs/checkpoint-307-epoch-1\", use_cuda=False, num_labels=6\n",
    ")"
   ]
  },
  {
   "cell_type": "code",
   "execution_count": 19,
   "id": "hidden-powder",
   "metadata": {
    "ExecuteTime": {
     "end_time": "2021-04-17T02:28:42.680271Z",
     "start_time": "2021-04-17T02:28:42.673641Z"
    }
   },
   "outputs": [],
   "source": [
    "from sklearn.model_selection import train_test_split\n",
    "\n",
    "train_df_2, eval_df_2 = train_test_split(df, test_size=0.2)"
   ]
  },
  {
   "cell_type": "code",
   "execution_count": 20,
   "id": "tropical-premiere",
   "metadata": {
    "ExecuteTime": {
     "end_time": "2021-04-17T02:34:55.301876Z",
     "start_time": "2021-04-17T02:28:51.449204Z"
    }
   },
   "outputs": [
    {
     "data": {
      "application/vnd.jupyter.widget-view+json": {
       "model_id": "2593579593664665bc8de161c2c86817",
       "version_major": 2,
       "version_minor": 0
      },
      "text/plain": [
       "HBox(children=(HTML(value='Running Evaluation'), FloatProgress(value=0.0, max=77.0), HTML(value='')))"
      ]
     },
     "metadata": {},
     "output_type": "display_data"
    },
    {
     "name": "stdout",
     "output_type": "stream",
     "text": [
      "\n"
     ]
    }
   ],
   "source": [
    "result, model_outputs, wrong_predictions = model.eval_model(eval_df_2)"
   ]
  },
  {
   "cell_type": "code",
   "execution_count": 21,
   "id": "cardiovascular-christmas",
   "metadata": {
    "ExecuteTime": {
     "end_time": "2021-04-17T02:40:07.041975Z",
     "start_time": "2021-04-17T02:40:07.037690Z"
    }
   },
   "outputs": [
    {
     "data": {
      "text/plain": [
       "{'LRAP': 0.9222675367047307, 'eval_loss': 0.1584884635620303}"
      ]
     },
     "execution_count": 21,
     "metadata": {},
     "output_type": "execute_result"
    }
   ],
   "source": [
    "result"
   ]
  },
  {
   "cell_type": "code",
   "execution_count": 22,
   "id": "prepared-observation",
   "metadata": {
    "ExecuteTime": {
     "end_time": "2021-04-17T02:40:09.862783Z",
     "start_time": "2021-04-17T02:40:09.855253Z"
    }
   },
   "outputs": [
    {
     "data": {
      "text/plain": [
       "array([[0.05792563, 0.01484402, 0.02056894, 0.03317257, 0.57441074,\n",
       "        0.02284676],\n",
       "       [0.02985523, 0.01134961, 0.8401491 , 0.01833499, 0.01458666,\n",
       "        0.00977732],\n",
       "       [0.0865494 , 0.04126722, 0.01272155, 0.01167344, 0.03097227,\n",
       "        0.46078286],\n",
       "       ...,\n",
       "       [0.02681619, 0.03354339, 0.01855225, 0.94206673, 0.01685225,\n",
       "        0.00985863],\n",
       "       [0.02492914, 0.00768173, 0.54617268, 0.01389993, 0.05503519,\n",
       "        0.00758238],\n",
       "       [0.03365991, 0.01456571, 0.01215248, 0.76921457, 0.05686301,\n",
       "        0.00793877]])"
      ]
     },
     "execution_count": 22,
     "metadata": {},
     "output_type": "execute_result"
    }
   ],
   "source": [
    "model_outputs"
   ]
  },
  {
   "cell_type": "code",
   "execution_count": 23,
   "id": "right-necessity",
   "metadata": {
    "ExecuteTime": {
     "end_time": "2021-04-17T02:40:12.810828Z",
     "start_time": "2021-04-17T02:40:12.804632Z"
    }
   },
   "outputs": [
    {
     "data": {
      "text/plain": [
       "['NA']"
      ]
     },
     "execution_count": 23,
     "metadata": {},
     "output_type": "execute_result"
    }
   ],
   "source": [
    "wrong_predictions"
   ]
  },
  {
   "cell_type": "code",
   "execution_count": 27,
   "id": "sustainable-staff",
   "metadata": {
    "ExecuteTime": {
     "end_time": "2021-04-22T06:33:47.476193Z",
     "start_time": "2021-04-22T06:33:47.077503Z"
    }
   },
   "outputs": [
    {
     "data": {
      "application/vnd.jupyter.widget-view+json": {
       "model_id": "b5866197e61c43b1b88b00d6ddaf55bc",
       "version_major": 2,
       "version_minor": 0
      },
      "text/plain": [
       "HBox(children=(HTML(value=''), FloatProgress(value=0.0, max=1.0), HTML(value='')))"
      ]
     },
     "metadata": {},
     "output_type": "display_data"
    },
    {
     "name": "stdout",
     "output_type": "stream",
     "text": [
      "\n"
     ]
    }
   ],
   "source": [
    "predictions = model2.predict(['Avelino Ordono was charged in the municipal court of San Gabriel, La Union with having raped his daughter, Leonora, on October 11, 1970. The verified complaint dated November 7, 1973 was signed by the twenty-four year old victim (Criminal Case No. 104).In support of that complaint, Catalina Balanon Ordono, the mother of Leonora, executed a sworn statement wherein she disclosed that on that same date, October 11th, Leonora had apprised her of the outrage but no denunciation was filed because Avelino Ordono threatened to kill Leonora and Catalina (his daughter and wife, respectively) if they reported the crime to the police.Catalina Ordono in her sworn statement further revealed that her husband had also raped their other daughter, Rosa, on March 25 and April 7, 1973. He was charged in court with that offense.Catalina Ordono said that the rape committed by Avelino Ordono against Leonora was mentioned during the investigation and trial of Avelino Ordono for the rape committed against Rosa Ordono. Catalina\\'s statement on this point is as follows:  \"Q - Why did you not file the complaint against your husband concerning the incident involving Leonora Ordono?\"A - We also narrated the incident during the investigation in the Fiscal\\'s Office and also when I testified in court in the case of my daughter Rosa Ordono but then my daughter Leonora Ordono was still in Manila, sir.\"During the preliminary investigation of the rape committed against Leonora, Catalina manifested that she was no longer afraid to denounce Avelino Ordono because he was already in jail for having raped Rosa Ordono.The case against Avelino Ordono, where Leonora Ordono was the complainant, was elevated to the Court of First Instance of La Union, San Fernando Branch (Criminal Case No. 356). On May 29, 1974 the Fiscal presented Catalina Ordono as the second prosecution witness. After she had stated her personal circumstances, the defense counsel objected to her competency. He invoked the marital disqualification rule found in Rule 130 of the Rules of Court which provides:\"SEC. 20.  Disqualification by reason of interest or relationship. — The following persons cannot testify as to matters in which they are interested, directly or indirectly, as herein enumerated:x x x x x x x x x(b) A husband cannot be examined for or against his wife without her consent; nor a wife for or against her husband without his consent, except in a civil case by one against the other, or in a criminal case for a crime committed by one against the other;x x x x x x x x xCounsel claimed that Avelino Ordono had not consented expressly or impliedly to his wife\\'s testifying against him.The trial court overruled the objection. After the denial of Avelino Ordono\\'s motion for the reconsideration of the adverse ruling, he filed the instant action for certiorari and prohibition. He was allowed to sue in forma pauperis.The issue is whether the rape committed by the husband against his daughter is a crime committed by him against his wife within the meaning of the exception found in the marital disqualification rule.Should the phrase \"in a criminal case for a crime committed by one against the other\" be restricted to crimes committed by one spouse against the other, such as physical injuries, bigamy, adultery or concubinage, or should it be given a latitudinarian interpretation as referring to any offense causing marital discord?There is a dictum that \"where the marital and domestic relations are so strained that there is no more harmony to be preserved nor peace and tranquility which may be disturbed, the reason based upon such harmony and tranquility fails. In such a case identity of interests disappears and the consequent danger of perjury based on that identity is nonexistent. Likewise, in such a situation, the security and confidences of private life which the law aims at protecting will be nothing but ideals which, through their absence, merely leave a void in the unhappy home\" (People vs. Francisco, 78 Phil. 694, 704).In the Francisco case, the wife, as a rebuttal witness, was allowed to testify against the husband who was charged with having killed his son and who testified that it was the wife who killed their son.We think that the correct rule, which may be adopted in this jurisdiction, is that laid down in Cargill vs. State, 35 ALR 133, 220 Pac. 64 25 Okl. 314, wherein the court said:\"The rule that the injury must amount to a physical wrong upon the person is too narrow; and the rule that any offense remotely or indirectly affecting domestic harmony comes within the exception is too broad. The better rule is that, when an offense directly attacks, or directly and vitally impairs, the conjugal relation, it comes within the exception to the statute that one shall not be a witness against the other except in a criminal prosecution for a crime committed (by) one against the other\".Using the criterion thus judiciously enunciated in the Cargill case, it can be conclude that in the law of evidence the rape perpetrated by the father against his daughter is a crime committed by him against his wife (the victim\\'s mother).[*]That conclusion is in harmony with the practices and traditions of the Filipino family where, normally, the daughter is close to the mother who, having breast-fed and reared her offspring, is always ready to render her counsel and assistance in time of need. Indeed, when the daughter is in distress or suffers moral or physical pain, she usually utters the word Inay (Mother) before she invokes the name of the Lord. (Madre mia, Dios mio)Thus, in this case, when Avelino Ordono, after having raped his daughter Leonora in the early morning of October 11, 1970, tried to repeat the beastly act in the evening of that date, Leonora shouted \"Mother\" and, on hearing that word, Avelino desisted.That the rape of the daughter by the father, an undeniably abominable and revolting crime with incestuous implications, positively undermines the connubial relationship, is a proposition too obvious to require much elucidation.In Wilkinson vs. People, 282 Pac. 257, it was held that the wife was a competent witness against the husband in a prosecution for rape committed by the husband against his stepdaughter, who is the wife\\'s natural daughter because the crime was \"an outrage upon nature in its dearest and tenderest relations as well as a crime against humanity itself\". The court adopted the interpretation that \"a criminal action or proceeding for a crime committed by one against the other\" may refer to a crime where the wife is the individual particularly and directly injured or affected by the crime for which the husband is being prosecuted (See Dill vs. People, 19 Colo. 469, 475, 36 Pac. 229, 232).In State vs. Chambers, 87 Iowa 1, 53 N.W. 1090, it was held under the statutory provision that husband or wife shall in no case be a witness for or against the other, except in a criminal proceeding for a crime committed by one against the other, that the wife was competent to testify against the husband in a case where he was prosecuted for incest committed against his stepdaughter.In State vs. Shultz, 177 Iowa 321, 158 N.W. 539, it was held that the wife may testify against the husband in a case where he was prosecuted for incest committed against their eleven-year old daughter because incest is a \"crime committed against the wife\". (See Owens vs. State, 32 Neb. 167, 49 N.W. 226; Lord vs. State, 23 N.W. 507, 17 Neb. 526; People vs. Segura, 60 Phil. 933).The trial court did not err in holding that Catalina Ordono could testify against her husband, Avelino Ordono, in the case where he is being tried for having raped their daughter, Leonora.WHEREFORE, the petition for certiorari and prohibition is dismissed. No costs.SO ORDERED.Makalintal, C.J., Castro, Fernando, Teehankee, Barredo, Makasiar, Esguerra, Fernandez, and Muñoz Palma, JJ., concur.Antonio, J., is on sick leave.[*] As noted by Wigmore, the marital disqualification rule consists of two parts: (1) the incapacity of one spouse to testify for the other, a disqualification designed to obviate perjury, and (2) the privilege of one spouse not to testify against the other, a right designed to present domestic disunion and unhappiness (U.S. vs. Concepcion, 31 Phil. 182, 187; 2 Wigmore on Evidence 731).Wigmore notes that the privilege has no longer any good reason for retention. \"In an age which has so far rationalized, depolarized, and depolarized the marital relation and the spirit of Femininity as to be willing to enact complete legal and political equality and independence of man and woman, this marital privilege is the merest anachronism, in legal theory, and an indefensible obstruction to truth, in practice\". After noting that some States had abolished the privilege, the American Bar Association\\'s Committee on the Improvement of the Law of Evidence in 1937-38 recommended its abolition (8 Wigmore on Evidence 232).'])"
   ]
  },
  {
   "cell_type": "code",
   "execution_count": 28,
   "id": "inside-small",
   "metadata": {
    "ExecuteTime": {
     "end_time": "2021-04-22T06:33:48.904745Z",
     "start_time": "2021-04-22T06:33:48.900358Z"
    }
   },
   "outputs": [
    {
     "data": {
      "text/plain": [
       "[0, 0, 1, 0, 0, 0]"
      ]
     },
     "execution_count": 28,
     "metadata": {},
     "output_type": "execute_result"
    }
   ],
   "source": [
    "predictions[0][0]"
   ]
  },
  {
   "cell_type": "code",
   "execution_count": 24,
   "id": "laughing-router",
   "metadata": {
    "ExecuteTime": {
     "end_time": "2021-04-22T06:30:41.483439Z",
     "start_time": "2021-04-22T06:30:41.477464Z"
    }
   },
   "outputs": [
    {
     "data": {
      "text/plain": [
       "array([0.03339857, 0.010126  , 0.78424799, 0.02217317, 0.01396317,\n",
       "       0.00757939])"
      ]
     },
     "execution_count": 24,
     "metadata": {},
     "output_type": "execute_result"
    }
   ],
   "source": [
    "predictions[1][0]"
   ]
  },
  {
   "cell_type": "code",
   "execution_count": 12,
   "id": "cloudy-there",
   "metadata": {
    "ExecuteTime": {
     "end_time": "2021-04-22T06:21:51.483989Z",
     "start_time": "2021-04-22T06:21:51.479226Z"
    }
   },
   "outputs": [
    {
     "data": {
      "text/plain": [
       "array([0.03339857, 0.010126  , 0.78424799, 0.02217317, 0.01396317,\n",
       "       0.00757939])"
      ]
     },
     "execution_count": 12,
     "metadata": {},
     "output_type": "execute_result"
    }
   ],
   "source": [
    "raw_outputs[0]"
   ]
  },
  {
   "cell_type": "code",
   "execution_count": 26,
   "id": "rapid-rainbow",
   "metadata": {
    "ExecuteTime": {
     "end_time": "2021-04-17T02:40:54.188666Z",
     "start_time": "2021-04-17T02:40:54.181535Z"
    }
   },
   "outputs": [],
   "source": [
    "from sklearn.model_selection import train_test_split\n",
    "\n",
    "train_df_3, eval_df_3 = train_test_split(df, test_size=0.2)"
   ]
  },
  {
   "cell_type": "code",
   "execution_count": 27,
   "id": "headed-belief",
   "metadata": {
    "ExecuteTime": {
     "end_time": "2021-04-17T02:45:34.605148Z",
     "start_time": "2021-04-17T02:41:13.869442Z"
    }
   },
   "outputs": [
    {
     "data": {
      "application/vnd.jupyter.widget-view+json": {
       "model_id": "e37e5e6b8dff4009adc21e050cae70da",
       "version_major": 2,
       "version_minor": 0
      },
      "text/plain": [
       "HBox(children=(HTML(value='Running Evaluation'), FloatProgress(value=0.0, max=77.0), HTML(value='')))"
      ]
     },
     "metadata": {},
     "output_type": "display_data"
    },
    {
     "name": "stdout",
     "output_type": "stream",
     "text": [
      "\n"
     ]
    }
   ],
   "source": [
    "result_2, model_outputs_2, wrong_predictions_2 = model.eval_model(eval_df_3)"
   ]
  },
  {
   "cell_type": "code",
   "execution_count": 28,
   "id": "convertible-springer",
   "metadata": {
    "ExecuteTime": {
     "end_time": "2021-04-17T02:48:51.994923Z",
     "start_time": "2021-04-17T02:48:51.989380Z"
    }
   },
   "outputs": [
    {
     "name": "stdout",
     "output_type": "stream",
     "text": [
      "{'LRAP': 0.930342577487765, 'eval_loss': 0.15474733371626248} [[0.08063833 0.03127633 0.02716441 0.03851993 0.03134582 0.74480569]\n",
      " [0.77555144 0.03937038 0.01453995 0.01911417 0.04273732 0.02329081]\n",
      " [0.05134631 0.0060065  0.23588265 0.01783723 0.02926497 0.01461087]\n",
      " ...\n",
      " [0.03086768 0.02523039 0.01663977 0.93858039 0.01635276 0.00999285]\n",
      " [0.02549833 0.02170361 0.01878417 0.01798782 0.0271228  0.97697949]\n",
      " [0.42716098 0.02244153 0.01215147 0.02026433 0.17853558 0.01001685]] ['NA']\n"
     ]
    }
   ],
   "source": [
    "print(result_2, model_outputs_2, wrong_predictions_2)"
   ]
  },
  {
   "cell_type": "code",
   "execution_count": 29,
   "id": "induced-comfort",
   "metadata": {
    "ExecuteTime": {
     "end_time": "2021-04-17T02:49:16.444911Z",
     "start_time": "2021-04-17T02:49:16.437958Z"
    }
   },
   "outputs": [],
   "source": [
    "from sklearn.model_selection import train_test_split\n",
    "\n",
    "train_df_4, eval_df_4 = train_test_split(df, test_size=0.2)"
   ]
  },
  {
   "cell_type": "code",
   "execution_count": null,
   "id": "copyrighted-medline",
   "metadata": {
    "ExecuteTime": {
     "start_time": "2021-04-17T02:49:40.233Z"
    }
   },
   "outputs": [
    {
     "data": {
      "application/vnd.jupyter.widget-view+json": {
       "model_id": "cacf4dbd872046c9b4151c74aef9737c",
       "version_major": 2,
       "version_minor": 0
      },
      "text/plain": [
       "HBox(children=(HTML(value='Running Evaluation'), FloatProgress(value=0.0, max=77.0), HTML(value='')))"
      ]
     },
     "metadata": {},
     "output_type": "display_data"
    }
   ],
   "source": [
    "result_4, model_outputs_4, wrong_predictions_4 = model.eval_model(eval_df_4)"
   ]
  },
  {
   "cell_type": "code",
   "execution_count": null,
   "id": "twenty-village",
   "metadata": {
    "ExecuteTime": {
     "start_time": "2021-04-17T02:51:44.692Z"
    }
   },
   "outputs": [],
   "source": [
    "print(result_4, model_outputs_4, wrong_predictions_4)"
   ]
  }
 ],
 "metadata": {
  "kernelspec": {
   "display_name": "Python 3",
   "language": "python",
   "name": "python3"
  },
  "language_info": {
   "codemirror_mode": {
    "name": "ipython",
    "version": 3
   },
   "file_extension": ".py",
   "mimetype": "text/x-python",
   "name": "python",
   "nbconvert_exporter": "python",
   "pygments_lexer": "ipython3",
   "version": "3.8.8"
  }
 },
 "nbformat": 4,
 "nbformat_minor": 5
}
