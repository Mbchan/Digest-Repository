{
 "cells": [
  {
   "cell_type": "code",
   "execution_count": 1,
   "id": "c903f310",
   "metadata": {},
   "outputs": [
    {
     "name": "stderr",
     "output_type": "stream",
     "text": [
      "[nltk_data] Downloading package punkt to\n",
      "[nltk_data]     C:\\Users\\Planning\\AppData\\Roaming\\nltk_data...\n",
      "[nltk_data]   Package punkt is already up-to-date!\n",
      "[nltk_data] Downloading package stopwords to\n",
      "[nltk_data]     C:\\Users\\Planning\\AppData\\Roaming\\nltk_data...\n",
      "[nltk_data]   Package stopwords is already up-to-date!\n",
      "[nltk_data] Downloading package wordnet to\n",
      "[nltk_data]     C:\\Users\\Planning\\AppData\\Roaming\\nltk_data...\n",
      "[nltk_data]   Package wordnet is already up-to-date!\n"
     ]
    }
   ],
   "source": [
    "import re\n",
    "import pandas as pd\n",
    "import nltk\n",
    "nltk.download('punkt')\n",
    "nltk.download('stopwords')\n",
    "nltk.download('wordnet')\n",
    "from nltk.stem.wordnet import WordNetLemmatizer\n",
    "from nltk import word_tokenize\n",
    "from nltk.corpus import stopwords\n",
    "from nltk.tokenize import RegexpTokenizer"
   ]
  },
  {
   "cell_type": "code",
   "execution_count": 2,
   "id": "ea59ca8a",
   "metadata": {},
   "outputs": [],
   "source": [
    "data = pd.read_csv('CriminalDataver2.csv')\n"
   ]
  },
  {
   "cell_type": "code",
   "execution_count": 3,
   "id": "e5d57798",
   "metadata": {},
   "outputs": [],
   "source": [
    "republic_cases = data"
   ]
  },
  {
   "cell_type": "code",
   "execution_count": 4,
   "id": "7dc92d4e",
   "metadata": {},
   "outputs": [],
   "source": [
    "def non_ascii(s):\n",
    "    return \"\".join(i for i in s if ord(i)<128)\n",
    "\n",
    "def lower(text):\n",
    "    return text.lower()\n",
    "\n",
    "def stop_words(text):\n",
    "    text = text.split()#split tokens to find stop words\n",
    "    stops = set(stopwords.words(\"english\"))\n",
    "    text = [w for w in text if not w in stops]\n",
    "    text = \" \".join(text)\n",
    "    #join into a string after removing stop words \n",
    "    return text \n",
    "\n",
    "def clean_html(text):\n",
    "    html = re.compile(r'<[^>]+>')#regex\n",
    "    return html.sub(r'',text)\n",
    "\n",
    "def punct(text):\n",
    "    output = re.sub(r'[^\\w\\s]','',text)\n",
    "    return output\n",
    "    \n",
    "    \n",
    "def punct(text):\n",
    "    token=RegexpTokenizer(r'\\w+')#regex\n",
    "    text = token.tokenize(text)\n",
    "    text= \" \".join(text)\n",
    "    return text "
   ]
  },
  {
   "cell_type": "code",
   "execution_count": 5,
   "id": "d277b50b",
   "metadata": {},
   "outputs": [],
   "source": [
    "\n",
    "republic_cases['text'] = republic_cases['text'].astype(str)\n",
    "republic_cases = republic_cases[['year','gr_no_x','text']]"
   ]
  },
  {
   "cell_type": "code",
   "execution_count": 6,
   "id": "0063f5ca",
   "metadata": {},
   "outputs": [],
   "source": [
    "def listToString(s): \n",
    "    str1 = \" \" \n",
    "    return (str1.join(s))"
   ]
  },
  {
   "cell_type": "code",
   "execution_count": 7,
   "id": "d3a756d5",
   "metadata": {
    "scrolled": true
   },
   "outputs": [],
   "source": [
    "lmtzr = WordNetLemmatizer()\n",
    "def sentence_separater(text):\n",
    "    sentence_list = nltk.tokenize.sent_tokenize(text.lower())\n",
    "    lemmatized = [[lmtzr.lemmatize(word) for word in word_tokenize(s)] for s in sentence_list]\n",
    "    lemma_str_sentences = [listToString(s) for s in lemmatized]\n",
    "    return lemma_str_sentences"
   ]
  },
  {
   "cell_type": "code",
   "execution_count": 8,
   "id": "3256c0ad",
   "metadata": {},
   "outputs": [
    {
     "name": "stderr",
     "output_type": "stream",
     "text": [
      "<ipython-input-8-a7511cd0651a>:2: SettingWithCopyWarning: \n",
      "A value is trying to be set on a copy of a slice from a DataFrame.\n",
      "Try using .loc[row_indexer,col_indexer] = value instead\n",
      "\n",
      "See the caveats in the documentation: https://pandas.pydata.org/pandas-docs/stable/user_guide/indexing.html#returning-a-view-versus-a-copy\n",
      "  republic_cases['text'] = republic_cases.text.apply(func = lower)\n",
      "<ipython-input-8-a7511cd0651a>:3: SettingWithCopyWarning: \n",
      "A value is trying to be set on a copy of a slice from a DataFrame.\n",
      "Try using .loc[row_indexer,col_indexer] = value instead\n",
      "\n",
      "See the caveats in the documentation: https://pandas.pydata.org/pandas-docs/stable/user_guide/indexing.html#returning-a-view-versus-a-copy\n",
      "  republic_cases['text'] = republic_cases.text.apply(func = stop_words)\n",
      "<ipython-input-8-a7511cd0651a>:4: SettingWithCopyWarning: \n",
      "A value is trying to be set on a copy of a slice from a DataFrame.\n",
      "Try using .loc[row_indexer,col_indexer] = value instead\n",
      "\n",
      "See the caveats in the documentation: https://pandas.pydata.org/pandas-docs/stable/user_guide/indexing.html#returning-a-view-versus-a-copy\n",
      "  republic_cases['text'] = republic_cases.text.apply(func = punct)\n",
      "<ipython-input-8-a7511cd0651a>:5: SettingWithCopyWarning: \n",
      "A value is trying to be set on a copy of a slice from a DataFrame.\n",
      "Try using .loc[row_indexer,col_indexer] = value instead\n",
      "\n",
      "See the caveats in the documentation: https://pandas.pydata.org/pandas-docs/stable/user_guide/indexing.html#returning-a-view-versus-a-copy\n",
      "  republic_cases['lemma_separated'] = republic_cases.text.apply(func = sentence_separater)\n"
     ]
    }
   ],
   "source": [
    "# new column with paragraph separated into sentences\n",
    "republic_cases['text'] = republic_cases.text.apply(func = lower)\n",
    "republic_cases['text'] = republic_cases.text.apply(func = stop_words)\n",
    "republic_cases['text'] = republic_cases.text.apply(func = punct)\n",
    "republic_cases['lemma_separated'] = republic_cases.text.apply(func = sentence_separater)"
   ]
  },
  {
   "cell_type": "code",
   "execution_count": 9,
   "id": "0e4a29ac",
   "metadata": {},
   "outputs": [
    {
     "data": {
      "text/plain": [
       "['filed petition soliciting reopening case accordance provision section no reopening cause section available exists newly discovered evidence accused attorney knew would testimony absent witness could known exercise proper diligence said discovered proof trial affidavit whatever setting forth fact upon point accompanies petition required aforesaid section is course evident error judge inferior court error wa manner administering oath chinese witness presented newly discovered evidence for foregoing reason petition denied without deciding whether judgment become final soon registered here thereby making motion inopportune or case become final whether motion made lower court since cause remanded longer cause pending court the motion therefore denied cost taxed moving party ordered arellano concur torres sit case']"
      ]
     },
     "execution_count": 9,
     "metadata": {},
     "output_type": "execute_result"
    }
   ],
   "source": [
    "republic_cases['lemma_separated'][15]"
   ]
  },
  {
   "cell_type": "markdown",
   "id": "bd3c7d9c",
   "metadata": {},
   "source": [
    "### criminal second degree"
   ]
  },
  {
   "cell_type": "code",
   "execution_count": 10,
   "id": "28772dfa",
   "metadata": {},
   "outputs": [],
   "source": [
    "national_security_keywords = [' treason ',' sovereignty ',' international ',' war ',' raid ',' guerilla ',' terrorist ',' pirate ']\n",
    "fundamental_laws_keywords = [' arbitrary ',' domicile ',' detention ',' detain ',' detainee ',' religious ',' priest ',' god ',' religion ',' scripture ']\n",
    "\n",
    "public_order_keywords = [' rebellion ',' insurrection ',' coup ',' sedition ',' quasirecidivism ',' separatism ',' harbor ',' cpp ',' npa ',' rebel ']\n",
    "public_interest_keywords = ['treasury','counterfeiting','falsification','embezzle','auditor','importing','forgery','certificate','perjury','monopoly']\n",
    "\n",
    "drugs_keywords = [' drug ',' shabu ',' opium ',' marijuana ',' possession ',' laboratory ',' meth ',' operation ',' seized ',' bust ']\n",
    "public_morals_keywords = [' gambling ',' lottery ',' betting ',' cockfighting ',' nudity ',' indecent ',' immoral ',' obscenity ',' obscene ',' importation ']\n",
    "\n",
    "committed_officers_keywords = [' bribery ',' corrupt ',' graft ',' plunder ',' fraud ',' fund ',' malversation ',' promise ',' gift ',' officer ']\n",
    "against_person_keywords = ['parricide','murder','homicide','suicide','mutiliation','hazing','infanticide','abortion',' kill ','wound']\n",
    "\n",
    "against_liberty_keywords = [' kidnapping ',' kidnap ',' slavery ','child labor',' coercion ',' vexation ',' ransom ',' money ',' guardian ','child']\n",
    "against_property_keywords = ['robbery','theft','checks','estafa','property','mortgage','arson','carnapping',' land ','swindling']\n",
    "\n",
    "chastity_keywords = [' adultery ',' concubine ','lascivious','seduce','chastity','sexual',' rape ','intercourse','seduction','abduction']\n",
    "status_person_keywords = ['marriage','ceremony','bigamy','married',' null ',' spouse ',' wife ','husband','wedding',' void ']\n",
    "\n",
    "against_honor_keywords = [' libel ','publish','slander','truth','publicity','incrimination','incriminate','defamation','wire tapping','communication']\n",
    "quasi_offense_keywords = ['negligence',' material ','reckless','imprudence','accident','injury','damage','hospital','carelessness','destroy']\n",
    "\n",
    "\n",
    "    "
   ]
  },
  {
   "cell_type": "code",
   "execution_count": 11,
   "id": "0d14b3b3",
   "metadata": {},
   "outputs": [],
   "source": [
    "second_criminal_keywords = {\n",
    "    'is_national_security': national_security_keywords,\n",
    "    'is_fundamental_laws':fundamental_laws_keywords,\n",
    "    'is_public_interest':public_interest_keywords,\n",
    "    'is_against_person':against_person_keywords,\n",
    "    'is_against_property':against_property_keywords,\n",
    "    'is_public_order':public_order_keywords,\n",
    "    'is_drugs':drugs_keywords,\n",
    "    'is_public_morals':public_morals_keywords,\n",
    "    'is_committed_officers':committed_officers_keywords,\n",
    "    'is_against_liberty':against_liberty_keywords,\n",
    "    'is_chastity':chastity_keywords,\n",
    "    'is_status_person':status_person_keywords,\n",
    "    'is_against_honor':against_honor_keywords,\n",
    "    'is_quasi_offense':quasi_offense_keywords\n",
    "}"
   ]
  },
  {
   "cell_type": "code",
   "execution_count": 12,
   "id": "ae76d320",
   "metadata": {},
   "outputs": [],
   "source": [
    "criminal_dict_intent = {intent: re.compile('|'.join(keys)) for intent, keys in second_criminal_keywords.items()}"
   ]
  },
  {
   "cell_type": "code",
   "execution_count": 13,
   "id": "b9badeb5",
   "metadata": {},
   "outputs": [],
   "source": [
    "def criminal_context(cust_input):\n",
    "    for intent, pattern in criminal_dict_intent.items():\n",
    "        if re.search(pattern, cust_input): \n",
    "            return(intent)\n",
    "    else:\n",
    "        return('generic')\n",
    "\n",
    "second_criminal_dict_response = {\n",
    "    'is_national_security': 'national_security',\n",
    "    'is_fundamental_laws':'fundamental_laws',\n",
    "    'is_public_interest':'public_interest',\n",
    "    'is_against_person':'against_person',\n",
    "    'is_against_property':'against_property',\n",
    "    'is_public_order':'public_order',\n",
    "    'is_drugs':'drugs',\n",
    "    'is_public_morals':'public_morals',\n",
    "    'is_committed_officers':'committed_officers',\n",
    "    'is_against_liberty':'against_liberty',\n",
    "    'is_chastity':'chastity',\n",
    "    'is_status_person':'status_person',\n",
    "    'is_against_honor':'against_honor',\n",
    "    'is_quasi_offense':'quasi_offense'\n",
    "}"
   ]
  },
  {
   "cell_type": "code",
   "execution_count": 14,
   "id": "82e9eced",
   "metadata": {},
   "outputs": [],
   "source": [
    "def second_criminal_answer(text):\n",
    "    response = second_criminal_dict_response.get(criminal_context(text))\n",
    "    return response"
   ]
  },
  {
   "cell_type": "markdown",
   "id": "e4a61aa3",
   "metadata": {},
   "source": [
    "### loop through entire dataset"
   ]
  },
  {
   "cell_type": "code",
   "execution_count": 15,
   "id": "85c48ea4",
   "metadata": {},
   "outputs": [
    {
     "name": "stderr",
     "output_type": "stream",
     "text": [
      "<ipython-input-15-ef3c7a860059>:2: SettingWithCopyWarning: \n",
      "A value is trying to be set on a copy of a slice from a DataFrame.\n",
      "Try using .loc[row_indexer,col_indexer] = value instead\n",
      "\n",
      "See the caveats in the documentation: https://pandas.pydata.org/pandas-docs/stable/user_guide/indexing.html#returning-a-view-versus-a-copy\n",
      "  republic_cases['secondary'] = ''\n"
     ]
    }
   ],
   "source": [
    "#republic_cases['primary'] = ''\n",
    "republic_cases['secondary'] = ''"
   ]
  },
  {
   "cell_type": "code",
   "execution_count": 16,
   "id": "b1c409e9",
   "metadata": {},
   "outputs": [
    {
     "name": "stderr",
     "output_type": "stream",
     "text": [
      "<ipython-input-16-5aea881fd4aa>:51: SettingWithCopyWarning: \n",
      "A value is trying to be set on a copy of a slice from a DataFrame\n",
      "\n",
      "See the caveats in the documentation: https://pandas.pydata.org/pandas-docs/stable/user_guide/indexing.html#returning-a-view-versus-a-copy\n",
      "  republic_cases['secondary'][x]=second_criminal_total_counts.get(max(second_criminal_total_counts))\n",
      "C:\\ProgramData\\Anaconda3\\lib\\site-packages\\IPython\\core\\interactiveshell.py:3437: SettingWithCopyWarning: \n",
      "A value is trying to be set on a copy of a slice from a DataFrame\n",
      "\n",
      "See the caveats in the documentation: https://pandas.pydata.org/pandas-docs/stable/user_guide/indexing.html#returning-a-view-versus-a-copy\n",
      "  exec(code_obj, self.user_global_ns, self.user_ns)\n",
      "<ipython-input-16-5aea881fd4aa>:48: SettingWithCopyWarning: \n",
      "A value is trying to be set on a copy of a slice from a DataFrame\n",
      "\n",
      "See the caveats in the documentation: https://pandas.pydata.org/pandas-docs/stable/user_guide/indexing.html#returning-a-view-versus-a-copy\n",
      "  republic_cases['secondary'][x]='no case'\n"
     ]
    }
   ],
   "source": [
    "# iter through dataset with case analyzer\n",
    "for x in range(len(republic_cases['lemma_separated'])):\n",
    "\n",
    "    #criminal analyzer\n",
    "    second_criminal_answer_per_sentences = [second_criminal_answer(y) for y in republic_cases['lemma_separated'][x]]\n",
    "    national_security_counts = second_criminal_answer_per_sentences.count('national_security')\n",
    "    fundamental_laws_counts = second_criminal_answer_per_sentences.count('fundamental_laws')\n",
    "    public_interest_counts = second_criminal_answer_per_sentences.count('public_interest')\n",
    "    persons_counts = second_criminal_answer_per_sentences.count('against_person')\n",
    "    property_counts = second_criminal_answer_per_sentences.count('against_property')\n",
    "    \n",
    "    public_order_counts = second_criminal_answer_per_sentences.count('public_order')\n",
    "    drugs_counts = second_criminal_answer_per_sentences.count('drugs')\n",
    "    public_morals_counts = second_criminal_answer_per_sentences.count('public_morals')\n",
    "    public_officers_counts = second_criminal_answer_per_sentences.count('committed_officers')\n",
    "    liberty_counts = second_criminal_answer_per_sentences.count('against_liberty')\n",
    "    chastity_counts = second_criminal_answer_per_sentences.count('chastity')\n",
    "    civil_status_counts = second_criminal_answer_per_sentences.count('status_person')\n",
    "    honor_counts = second_criminal_answer_per_sentences.count('against_honor')\n",
    "    quasi_offense_counts = second_criminal_answer_per_sentences.count('quasi_offense')\n",
    "    \n",
    "    second_criminal_total_counts = {\n",
    "        national_security_counts:'national_security',\n",
    "        fundamental_laws_counts:'fundamental_laws',\n",
    "        public_interest_counts:'public_interest',\n",
    "        persons_counts:'persons',\n",
    "        property_counts:'property',\n",
    "        public_order_counts:'public_order',\n",
    "        drugs_counts:'drugs',\n",
    "        public_morals_counts:'public_morals',\n",
    "        public_officers_counts:'public_officers',\n",
    "        liberty_counts:'liberty',\n",
    "        chastity_counts:'chastity',\n",
    "        civil_status_counts:'civil_status',\n",
    "        honor_counts:'honor',\n",
    "        quasi_offense_counts: 'quasi_offense'\n",
    "    }\n",
    "    \n",
    "    temp_criminal = max(second_criminal_total_counts)\n",
    "\n",
    "    #gathered result\n",
    "    gathered_total_counts={\n",
    "        temp_criminal:'criminal case',\n",
    "        }\n",
    "    \n",
    "    result = gathered_total_counts.get(max(gathered_total_counts))\n",
    "    if max(gathered_total_counts)==0:\n",
    "        republic_cases['secondary'][x]='no case'\n",
    "        continue\n",
    "    if result=='criminal case':\n",
    "        republic_cases['secondary'][x]=second_criminal_total_counts.get(max(second_criminal_total_counts))"
   ]
  },
  {
   "cell_type": "code",
   "execution_count": 17,
   "id": "650e75c7",
   "metadata": {},
   "outputs": [],
   "source": [
    "republic_cases = republic_cases[['year','gr_no_x','text','secondary']]"
   ]
  },
  {
   "cell_type": "code",
   "execution_count": 18,
   "id": "1973e589",
   "metadata": {},
   "outputs": [
    {
     "data": {
      "text/html": [
       "<div>\n",
       "<style scoped>\n",
       "    .dataframe tbody tr th:only-of-type {\n",
       "        vertical-align: middle;\n",
       "    }\n",
       "\n",
       "    .dataframe tbody tr th {\n",
       "        vertical-align: top;\n",
       "    }\n",
       "\n",
       "    .dataframe thead th {\n",
       "        text-align: right;\n",
       "    }\n",
       "</style>\n",
       "<table border=\"1\" class=\"dataframe\">\n",
       "  <thead>\n",
       "    <tr style=\"text-align: right;\">\n",
       "      <th></th>\n",
       "      <th>year</th>\n",
       "      <th>gr_no_x</th>\n",
       "      <th>text</th>\n",
       "      <th>secondary</th>\n",
       "    </tr>\n",
       "  </thead>\n",
       "  <tbody>\n",
       "    <tr>\n",
       "      <th>0</th>\n",
       "      <td>1901</td>\n",
       "      <td>G.R. No. 91</td>\n",
       "      <td>accused charged crime falsifying private docum...</td>\n",
       "      <td>liberty</td>\n",
       "    </tr>\n",
       "    <tr>\n",
       "      <th>1</th>\n",
       "      <td>1901</td>\n",
       "      <td>G.R. No. 299</td>\n",
       "      <td>no appears record night town near quarrel brok...</td>\n",
       "      <td>persons</td>\n",
       "    </tr>\n",
       "    <tr>\n",
       "      <th>2</th>\n",
       "      <td>1901</td>\n",
       "      <td>G.R. No. 43</td>\n",
       "      <td>incident respecting nullity proceedings comes ...</td>\n",
       "      <td>no case</td>\n",
       "    </tr>\n",
       "    <tr>\n",
       "      <th>3</th>\n",
       "      <td>1901</td>\n",
       "      <td>G.R. No. 390</td>\n",
       "      <td>appears case instituted order prosecute defend...</td>\n",
       "      <td>property</td>\n",
       "    </tr>\n",
       "    <tr>\n",
       "      <th>4</th>\n",
       "      <td>1901</td>\n",
       "      <td>G.R. No. 202</td>\n",
       "      <td>civil proceedings instituted obtain preventive...</td>\n",
       "      <td>public_interest</td>\n",
       "    </tr>\n",
       "    <tr>\n",
       "      <th>...</th>\n",
       "      <td>...</td>\n",
       "      <td>...</td>\n",
       "      <td>...</td>\n",
       "      <td>...</td>\n",
       "    </tr>\n",
       "    <tr>\n",
       "      <th>18091</th>\n",
       "      <td>2017</td>\n",
       "      <td>G.R. No. 164749</td>\n",
       "      <td>third case involves claim damages arising negl...</td>\n",
       "      <td>public_interest</td>\n",
       "    </tr>\n",
       "    <tr>\n",
       "      <th>18092</th>\n",
       "      <td>2017</td>\n",
       "      <td>G.R. No. 206627</td>\n",
       "      <td>second petitioner challenges dated dated th da...</td>\n",
       "      <td>liberty</td>\n",
       "    </tr>\n",
       "    <tr>\n",
       "      <th>18093</th>\n",
       "      <td>2017</td>\n",
       "      <td>G.R. No. 207516</td>\n",
       "      <td>third challenges appeal promulgated st day aro...</td>\n",
       "      <td>persons</td>\n",
       "    </tr>\n",
       "    <tr>\n",
       "      <th>18094</th>\n",
       "      <td>2017</td>\n",
       "      <td>G.R. No. 219649</td>\n",
       "      <td>second dated petitioner seeks reverse set asid...</td>\n",
       "      <td>fundamental_laws</td>\n",
       "    </tr>\n",
       "    <tr>\n",
       "      <th>18095</th>\n",
       "      <td>2017</td>\n",
       "      <td>G.R. No. 220758</td>\n",
       "      <td>third appeals dated finding guilty beyond reas...</td>\n",
       "      <td>drugs</td>\n",
       "    </tr>\n",
       "  </tbody>\n",
       "</table>\n",
       "<p>18096 rows × 4 columns</p>\n",
       "</div>"
      ],
      "text/plain": [
       "       year          gr_no_x  \\\n",
       "0      1901      G.R. No. 91   \n",
       "1      1901     G.R. No. 299   \n",
       "2      1901      G.R. No. 43   \n",
       "3      1901     G.R. No. 390   \n",
       "4      1901     G.R. No. 202   \n",
       "...     ...              ...   \n",
       "18091  2017  G.R. No. 164749   \n",
       "18092  2017  G.R. No. 206627   \n",
       "18093  2017  G.R. No. 207516   \n",
       "18094  2017  G.R. No. 219649   \n",
       "18095  2017  G.R. No. 220758   \n",
       "\n",
       "                                                    text         secondary  \n",
       "0      accused charged crime falsifying private docum...           liberty  \n",
       "1      no appears record night town near quarrel brok...           persons  \n",
       "2      incident respecting nullity proceedings comes ...           no case  \n",
       "3      appears case instituted order prosecute defend...          property  \n",
       "4      civil proceedings instituted obtain preventive...   public_interest  \n",
       "...                                                  ...               ...  \n",
       "18091  third case involves claim damages arising negl...   public_interest  \n",
       "18092  second petitioner challenges dated dated th da...           liberty  \n",
       "18093  third challenges appeal promulgated st day aro...           persons  \n",
       "18094  second dated petitioner seeks reverse set asid...  fundamental_laws  \n",
       "18095  third appeals dated finding guilty beyond reas...             drugs  \n",
       "\n",
       "[18096 rows x 4 columns]"
      ]
     },
     "execution_count": 18,
     "metadata": {},
     "output_type": "execute_result"
    }
   ],
   "source": [
    "republic_cases"
   ]
  },
  {
   "cell_type": "code",
   "execution_count": 20,
   "id": "050fda20",
   "metadata": {},
   "outputs": [
    {
     "data": {
      "text/plain": [
       "persons              5308\n",
       "fundamental_laws     3267\n",
       "public_interest      3111\n",
       "property             1750\n",
       "no case              1305\n",
       "drugs                 999\n",
       "national_security     853\n",
       "public_officers       525\n",
       "liberty               316\n",
       "chastity              197\n",
       "quasi_offense         189\n",
       "civil_status           97\n",
       "honor                  82\n",
       "public_morals          64\n",
       "public_order           33\n",
       "Name: secondary, dtype: int64"
      ]
     },
     "execution_count": 20,
     "metadata": {},
     "output_type": "execute_result"
    }
   ],
   "source": [
    "republic_cases['secondary'].value_counts()"
   ]
  },
  {
   "cell_type": "code",
   "execution_count": null,
   "id": "a4816a08",
   "metadata": {},
   "outputs": [],
   "source": []
  },
  {
   "cell_type": "code",
   "execution_count": null,
   "id": "3aa0eef1",
   "metadata": {},
   "outputs": [],
   "source": []
  },
  {
   "cell_type": "code",
   "execution_count": 19,
   "id": "e348e6fe",
   "metadata": {},
   "outputs": [],
   "source": [
    "#republic_cases.to_csv(\"criminal_lvl2.csv\")"
   ]
  }
 ],
 "metadata": {
  "kernelspec": {
   "display_name": "Python 3",
   "language": "python",
   "name": "python3"
  },
  "language_info": {
   "codemirror_mode": {
    "name": "ipython",
    "version": 3
   },
   "file_extension": ".py",
   "mimetype": "text/x-python",
   "name": "python",
   "nbconvert_exporter": "python",
   "pygments_lexer": "ipython3",
   "version": "3.8.8"
  }
 },
 "nbformat": 4,
 "nbformat_minor": 5
}
