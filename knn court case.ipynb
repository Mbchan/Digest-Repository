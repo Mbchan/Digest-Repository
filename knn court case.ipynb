{
 "cells": [
  {
   "cell_type": "code",
   "execution_count": 1,
   "id": "f63d3620",
   "metadata": {},
   "outputs": [],
   "source": [
    "import pandas as pd\n",
    "import numpy as np\n",
    "import matplotlib.pyplot as plt"
   ]
  },
  {
   "cell_type": "code",
   "execution_count": 2,
   "id": "2ac05e8d",
   "metadata": {},
   "outputs": [
    {
     "data": {
      "text/html": [
       "<div>\n",
       "<style scoped>\n",
       "    .dataframe tbody tr th:only-of-type {\n",
       "        vertical-align: middle;\n",
       "    }\n",
       "\n",
       "    .dataframe tbody tr th {\n",
       "        vertical-align: top;\n",
       "    }\n",
       "\n",
       "    .dataframe thead th {\n",
       "        text-align: right;\n",
       "    }\n",
       "</style>\n",
       "<table border=\"1\" class=\"dataframe\">\n",
       "  <thead>\n",
       "    <tr style=\"text-align: right;\">\n",
       "      <th></th>\n",
       "      <th>Unnamed: 0</th>\n",
       "      <th>id</th>\n",
       "      <th>year</th>\n",
       "      <th>gr_no_x</th>\n",
       "      <th>text</th>\n",
       "      <th>text_clean</th>\n",
       "      <th>lemma_separated</th>\n",
       "      <th>lvl2_labels_counts</th>\n",
       "      <th>lvl2_labels</th>\n",
       "      <th>chastity</th>\n",
       "      <th>...</th>\n",
       "      <th>liberty</th>\n",
       "      <th>national_security</th>\n",
       "      <th>persons</th>\n",
       "      <th>property</th>\n",
       "      <th>public_interest</th>\n",
       "      <th>public_morals</th>\n",
       "      <th>public_officers</th>\n",
       "      <th>public_order</th>\n",
       "      <th>quasi_offense</th>\n",
       "      <th>lvl2_max</th>\n",
       "    </tr>\n",
       "  </thead>\n",
       "  <tbody>\n",
       "    <tr>\n",
       "      <th>0</th>\n",
       "      <td>0</td>\n",
       "      <td>189096</td>\n",
       "      <td>2002</td>\n",
       "      <td>G. R. No. 144340-42</td>\n",
       "      <td>Before this for automatic review[] is the Join...</td>\n",
       "      <td>automatic review joint promulgated h lower cou...</td>\n",
       "      <td>['automatic review joint promulgated h lower c...</td>\n",
       "      <td>{'national_security': 0, 'fundamental_laws': 0...</td>\n",
       "      <td>['public_interest', 'public_officers', 'person...</td>\n",
       "      <td>1</td>\n",
       "      <td>...</td>\n",
       "      <td>1</td>\n",
       "      <td>0</td>\n",
       "      <td>1</td>\n",
       "      <td>0</td>\n",
       "      <td>1</td>\n",
       "      <td>0</td>\n",
       "      <td>1</td>\n",
       "      <td>0</td>\n",
       "      <td>1</td>\n",
       "      <td>chastity</td>\n",
       "    </tr>\n",
       "    <tr>\n",
       "      <th>1</th>\n",
       "      <td>1</td>\n",
       "      <td>187362</td>\n",
       "      <td>2001</td>\n",
       "      <td>G. R. No. 131203</td>\n",
       "      <td>SECOND In its decision promulgated on , ,[] th...</td>\n",
       "      <td>second decision promulgated found accused appe...</td>\n",
       "      <td>['second decision promulgated found accused ap...</td>\n",
       "      <td>{'national_security': 0, 'fundamental_laws': 0...</td>\n",
       "      <td>['public_interest', 'persons', 'liberty', 'cha...</td>\n",
       "      <td>1</td>\n",
       "      <td>...</td>\n",
       "      <td>1</td>\n",
       "      <td>0</td>\n",
       "      <td>1</td>\n",
       "      <td>0</td>\n",
       "      <td>1</td>\n",
       "      <td>0</td>\n",
       "      <td>0</td>\n",
       "      <td>0</td>\n",
       "      <td>1</td>\n",
       "      <td>chastity</td>\n",
       "    </tr>\n",
       "    <tr>\n",
       "      <th>2</th>\n",
       "      <td>2</td>\n",
       "      <td>178138</td>\n",
       "      <td>1992</td>\n",
       "      <td>G.R. Nos.102409-10</td>\n",
       "      <td>de appeals from the dated , in and of the , of...</td>\n",
       "      <td>de appeals dated convicting crime committed tw...</td>\n",
       "      <td>['de appeal dated convicting crime committed t...</td>\n",
       "      <td>{'national_security': 0, 'fundamental_laws': 0...</td>\n",
       "      <td>['public_interest', 'public_officers', 'person...</td>\n",
       "      <td>1</td>\n",
       "      <td>...</td>\n",
       "      <td>0</td>\n",
       "      <td>0</td>\n",
       "      <td>1</td>\n",
       "      <td>0</td>\n",
       "      <td>1</td>\n",
       "      <td>0</td>\n",
       "      <td>1</td>\n",
       "      <td>0</td>\n",
       "      <td>1</td>\n",
       "      <td>chastity</td>\n",
       "    </tr>\n",
       "    <tr>\n",
       "      <th>3</th>\n",
       "      <td>3</td>\n",
       "      <td>189434</td>\n",
       "      <td>2003</td>\n",
       "      <td>G.R. No. 133926</td>\n",
       "      <td>For automatic review is the dated , , of the ,...</td>\n",
       "      <td>automatic review dated convicting appellant st...</td>\n",
       "      <td>['automatic review dated convicting appellant ...</td>\n",
       "      <td>{'national_security': 0, 'fundamental_laws': 0...</td>\n",
       "      <td>['public_interest', 'public_officers', 'libert...</td>\n",
       "      <td>1</td>\n",
       "      <td>...</td>\n",
       "      <td>1</td>\n",
       "      <td>0</td>\n",
       "      <td>0</td>\n",
       "      <td>0</td>\n",
       "      <td>1</td>\n",
       "      <td>0</td>\n",
       "      <td>1</td>\n",
       "      <td>0</td>\n",
       "      <td>1</td>\n",
       "      <td>chastity</td>\n",
       "    </tr>\n",
       "    <tr>\n",
       "      <th>4</th>\n",
       "      <td>4</td>\n",
       "      <td>189153</td>\n",
       "      <td>2002</td>\n",
       "      <td>G. R. No. 139231</td>\n",
       "      <td>On appeal is the decision[] of the , in ,-, co...</td>\n",
       "      <td>appeal decision convicting rape sentencing rec...</td>\n",
       "      <td>['appeal decision convicting rape sentencing r...</td>\n",
       "      <td>{'national_security': 0, 'fundamental_laws': 2...</td>\n",
       "      <td>['fundamental_laws', 'public_interest', 'drugs...</td>\n",
       "      <td>1</td>\n",
       "      <td>...</td>\n",
       "      <td>1</td>\n",
       "      <td>0</td>\n",
       "      <td>0</td>\n",
       "      <td>0</td>\n",
       "      <td>1</td>\n",
       "      <td>0</td>\n",
       "      <td>1</td>\n",
       "      <td>0</td>\n",
       "      <td>1</td>\n",
       "      <td>chastity</td>\n",
       "    </tr>\n",
       "  </tbody>\n",
       "</table>\n",
       "<p>5 rows × 24 columns</p>\n",
       "</div>"
      ],
      "text/plain": [
       "   Unnamed: 0      id  year              gr_no_x  \\\n",
       "0           0  189096  2002  G. R. No. 144340-42   \n",
       "1           1  187362  2001     G. R. No. 131203   \n",
       "2           2  178138  1992   G.R. Nos.102409-10   \n",
       "3           3  189434  2003      G.R. No. 133926   \n",
       "4           4  189153  2002     G. R. No. 139231   \n",
       "\n",
       "                                                text  \\\n",
       "0  Before this for automatic review[] is the Join...   \n",
       "1  SECOND In its decision promulgated on , ,[] th...   \n",
       "2  de appeals from the dated , in and of the , of...   \n",
       "3  For automatic review is the dated , , of the ,...   \n",
       "4  On appeal is the decision[] of the , in ,-, co...   \n",
       "\n",
       "                                          text_clean  \\\n",
       "0  automatic review joint promulgated h lower cou...   \n",
       "1  second decision promulgated found accused appe...   \n",
       "2  de appeals dated convicting crime committed tw...   \n",
       "3  automatic review dated convicting appellant st...   \n",
       "4  appeal decision convicting rape sentencing rec...   \n",
       "\n",
       "                                     lemma_separated  \\\n",
       "0  ['automatic review joint promulgated h lower c...   \n",
       "1  ['second decision promulgated found accused ap...   \n",
       "2  ['de appeal dated convicting crime committed t...   \n",
       "3  ['automatic review dated convicting appellant ...   \n",
       "4  ['appeal decision convicting rape sentencing r...   \n",
       "\n",
       "                                  lvl2_labels_counts  \\\n",
       "0  {'national_security': 0, 'fundamental_laws': 0...   \n",
       "1  {'national_security': 0, 'fundamental_laws': 0...   \n",
       "2  {'national_security': 0, 'fundamental_laws': 0...   \n",
       "3  {'national_security': 0, 'fundamental_laws': 0...   \n",
       "4  {'national_security': 0, 'fundamental_laws': 2...   \n",
       "\n",
       "                                         lvl2_labels  chastity  ...  liberty  \\\n",
       "0  ['public_interest', 'public_officers', 'person...         1  ...        1   \n",
       "1  ['public_interest', 'persons', 'liberty', 'cha...         1  ...        1   \n",
       "2  ['public_interest', 'public_officers', 'person...         1  ...        0   \n",
       "3  ['public_interest', 'public_officers', 'libert...         1  ...        1   \n",
       "4  ['fundamental_laws', 'public_interest', 'drugs...         1  ...        1   \n",
       "\n",
       "   national_security  persons  property  public_interest  public_morals  \\\n",
       "0                  0        1         0                1              0   \n",
       "1                  0        1         0                1              0   \n",
       "2                  0        1         0                1              0   \n",
       "3                  0        0         0                1              0   \n",
       "4                  0        0         0                1              0   \n",
       "\n",
       "   public_officers  public_order  quasi_offense  lvl2_max  \n",
       "0                1             0              1  chastity  \n",
       "1                0             0              1  chastity  \n",
       "2                1             0              1  chastity  \n",
       "3                1             0              1  chastity  \n",
       "4                1             0              1  chastity  \n",
       "\n",
       "[5 rows x 24 columns]"
      ]
     },
     "execution_count": 2,
     "metadata": {},
     "output_type": "execute_result"
    }
   ],
   "source": [
    "data = pd.read_csv('criminal_lvl2_under200.csv')\n",
    "# data = pd.read_csv('criminal_lvl2_v2.csv')\n",
    "\n",
    "data.head()"
   ]
  },
  {
   "cell_type": "code",
   "execution_count": 3,
   "id": "4fc40141",
   "metadata": {},
   "outputs": [],
   "source": [
    "# columns that are dependent variable\n",
    "# X = data.iloc[:,[9,22]].values\n",
    "X = data['text'].values"
   ]
  },
  {
   "cell_type": "code",
   "execution_count": 4,
   "id": "90c915a6",
   "metadata": {},
   "outputs": [
    {
     "data": {
      "text/plain": [
       "array([[1, 1],\n",
       "       [1, 1],\n",
       "       [1, 1],\n",
       "       ...,\n",
       "       [1, 1],\n",
       "       [0, 1],\n",
       "       [0, 1]], dtype=int64)"
      ]
     },
     "execution_count": 4,
     "metadata": {},
     "output_type": "execute_result"
    }
   ],
   "source": [
    "# column that is independent variable\n",
    "# y= data.iloc[:,23].values\n",
    "y = data.iloc[:,[9,22]].values\n",
    "y"
   ]
  },
  {
   "cell_type": "code",
   "execution_count": 5,
   "id": "8cb4e9e8",
   "metadata": {},
   "outputs": [],
   "source": [
    "from sklearn.model_selection import train_test_split\n",
    "X_train, X_test, y_train, y_test =train_test_split(X,y,test_size=0.2,random_state=0)"
   ]
  },
  {
   "cell_type": "code",
   "execution_count": 6,
   "id": "6c3ae98c",
   "metadata": {},
   "outputs": [],
   "source": [
    "from sklearn.model_selection import train_test_split\n",
    "from sklearn.feature_extraction.text import TfidfVectorizer\n",
    "from sklearn.multiclass import OneVsRestClassifier\n",
    "from sklearn.metrics import classification_report"
   ]
  },
  {
   "cell_type": "code",
   "execution_count": 7,
   "id": "12379ed5",
   "metadata": {},
   "outputs": [],
   "source": [
    "tfidf_vectorizer = TfidfVectorizer(strip_accents='unicode', ngram_range=(1,3))\n",
    "\n",
    "# create TF-IDF features\n",
    "xtrain_tfidf = tfidf_vectorizer.fit_transform(X_train)\n",
    "xtest_tfidf = tfidf_vectorizer.transform(X_test)"
   ]
  },
  {
   "cell_type": "code",
   "execution_count": 8,
   "id": "934fdaf8",
   "metadata": {},
   "outputs": [],
   "source": [
    "from sklearn.neighbors import KNeighborsClassifier\n",
    "classifier = KNeighborsClassifier(n_neighbors=5, metric='minkowski',p=2)\n",
    "classifier.fit(xtrain_tfidf, y_train)\n",
    "y_pred = classifier.predict(xtest_tfidf)"
   ]
  },
  {
   "cell_type": "code",
   "execution_count": 9,
   "id": "d186c8c9",
   "metadata": {},
   "outputs": [],
   "source": [
    "from sklearn.metrics import *"
   ]
  },
  {
   "cell_type": "code",
   "execution_count": 10,
   "id": "d4e5aed7",
   "metadata": {},
   "outputs": [
    {
     "name": "stdout",
     "output_type": "stream",
     "text": [
      "Test accuracy is 0.6626984126984127\n"
     ]
    }
   ],
   "source": [
    "print('Test accuracy is {}'.format(accuracy_score(y_test, y_pred)))"
   ]
  },
  {
   "cell_type": "code",
   "execution_count": 11,
   "id": "7157a9b4",
   "metadata": {},
   "outputs": [
    {
     "name": "stdout",
     "output_type": "stream",
     "text": [
      "Test recall is 0.4118623962040332\n",
      "Test recall is 0.5730337078651685\n",
      "Test recall is 0.5730337078651685\n"
     ]
    }
   ],
   "source": [
    "print('Test recall is {}'.format(recall_score(y_test, y_pred,average='macro')))\n",
    "print('Test recall is {}'.format(recall_score(y_test, y_pred,average='micro')))\n",
    "print('Test recall is {}'.format(recall_score(y_test, y_pred,average='weighted')))"
   ]
  },
  {
   "cell_type": "code",
   "execution_count": 12,
   "id": "610e997f",
   "metadata": {},
   "outputs": [
    {
     "name": "stdout",
     "output_type": "stream",
     "text": [
      "Test precision is 0.9110169491525424\n",
      "Test precision is 0.8292682926829268\n",
      "Test precision is 0.8595267568082271\n"
     ]
    }
   ],
   "source": [
    "print('Test precision is {}'.format(precision_score(y_test, y_pred,average='macro')))\n",
    "print('Test precision is {}'.format(precision_score(y_test, y_pred,average='micro')))\n",
    "print('Test precision is {}'.format(precision_score(y_test, y_pred,average='weighted')))"
   ]
  },
  {
   "cell_type": "code",
   "execution_count": 13,
   "id": "d66550ea",
   "metadata": {},
   "outputs": [],
   "source": [
    "# from sklearn.metrics import confusion_matrix\n",
    "# cm = confusion_matrix(y_test,y_pred)\n",
    "# cm"
   ]
  },
  {
   "cell_type": "code",
   "execution_count": 14,
   "id": "3531a937",
   "metadata": {},
   "outputs": [],
   "source": [
    "# from sklearn.neighbors import KNeighborsClassifier\n",
    "# from sklearn.pipeline import Pipeline\n",
    "# from sklearn.metrics import accuracy_score\n",
    "# from sklearn.multiclass import OneVsRestClassifier\n",
    "\n",
    "# # Using pipeline for applying logistic regression and one vs rest classifier\n",
    "# KNN_pipeline = Pipeline([\n",
    "#                 ('clf', OneVsRestClassifier(KNeighborsClassifier(solver='sag', random_state=42), n_jobs=-1)),\n",
    "#             ])\n",
    "\n",
    "# final_pred = pd.DataFrame()\n",
    "\n",
    "# for category in categories:\n",
    "#     print('**Processing {} cases...**'.format(category))\n",
    "    \n",
    "#     # Training logistic regression model on train data\n",
    "#     KNN_pipeline.fit(xtrain_tfidf, y_train[category])\n",
    "    \n",
    "#     # calculating test accuracy\n",
    "#     prediction = KNN_pipeline.predict(xtest_tfidf)\n",
    "#     print('Test accuracy is {}'.format(accuracy_score(y_test[category], prediction)))\n",
    "#     result = pd.DataFrame(prediction).rename(columns={0:category})\n",
    "# #     display(result)\n",
    "#     final_pred = pd.concat([final_pred, result], axis=1)\n",
    "# #     display(final_pred)\n",
    "#     print(classification_report(y_test[category], prediction))\n",
    "#     print(\"\\n\")"
   ]
  },
  {
   "cell_type": "code",
   "execution_count": null,
   "id": "e92bbbc4",
   "metadata": {},
   "outputs": [],
   "source": []
  },
  {
   "cell_type": "code",
   "execution_count": null,
   "id": "766a779b",
   "metadata": {
    "scrolled": true
   },
   "outputs": [],
   "source": []
  },
  {
   "cell_type": "code",
   "execution_count": null,
   "id": "516c2e78",
   "metadata": {},
   "outputs": [],
   "source": []
  },
  {
   "cell_type": "code",
   "execution_count": null,
   "id": "bb86f29d",
   "metadata": {},
   "outputs": [],
   "source": []
  }
 ],
 "metadata": {
  "kernelspec": {
   "display_name": "Python 3",
   "language": "python",
   "name": "python3"
  },
  "language_info": {
   "codemirror_mode": {
    "name": "ipython",
    "version": 3
   },
   "file_extension": ".py",
   "mimetype": "text/x-python",
   "name": "python",
   "nbconvert_exporter": "python",
   "pygments_lexer": "ipython3",
   "version": "3.8.10"
  }
 },
 "nbformat": 4,
 "nbformat_minor": 5
}
