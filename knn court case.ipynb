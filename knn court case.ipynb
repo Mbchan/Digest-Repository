{
 "cells": [
  {
   "cell_type": "code",
   "execution_count": 1,
   "id": "f63d3620",
   "metadata": {},
   "outputs": [],
   "source": [
    "import pandas as pd\n",
    "import numpy as np\n",
    "import matplotlib.pyplot as plt"
   ]
  },
  {
   "cell_type": "code",
   "execution_count": 2,
   "id": "2ac05e8d",
   "metadata": {},
   "outputs": [
    {
     "data": {
      "text/html": [
       "<div>\n",
       "<style scoped>\n",
       "    .dataframe tbody tr th:only-of-type {\n",
       "        vertical-align: middle;\n",
       "    }\n",
       "\n",
       "    .dataframe tbody tr th {\n",
       "        vertical-align: top;\n",
       "    }\n",
       "\n",
       "    .dataframe thead th {\n",
       "        text-align: right;\n",
       "    }\n",
       "</style>\n",
       "<table border=\"1\" class=\"dataframe\">\n",
       "  <thead>\n",
       "    <tr style=\"text-align: right;\">\n",
       "      <th></th>\n",
       "      <th>Unnamed: 0</th>\n",
       "      <th>id</th>\n",
       "      <th>year</th>\n",
       "      <th>gr_no_x</th>\n",
       "      <th>text</th>\n",
       "      <th>text_clean</th>\n",
       "      <th>lemma_separated</th>\n",
       "      <th>lvl2_labels_counts</th>\n",
       "      <th>lvl2_labels</th>\n",
       "      <th>chastity</th>\n",
       "      <th>...</th>\n",
       "      <th>liberty</th>\n",
       "      <th>national_security</th>\n",
       "      <th>persons</th>\n",
       "      <th>property</th>\n",
       "      <th>public_interest</th>\n",
       "      <th>public_morals</th>\n",
       "      <th>public_officers</th>\n",
       "      <th>public_order</th>\n",
       "      <th>quasi_offense</th>\n",
       "      <th>lvl2_max</th>\n",
       "    </tr>\n",
       "  </thead>\n",
       "  <tbody>\n",
       "    <tr>\n",
       "      <th>0</th>\n",
       "      <td>0</td>\n",
       "      <td>189096</td>\n",
       "      <td>2002</td>\n",
       "      <td>G. R. No. 144340-42</td>\n",
       "      <td>Before this for automatic review[] is the Join...</td>\n",
       "      <td>automatic review joint promulgated h lower cou...</td>\n",
       "      <td>['automatic review joint promulgated h lower c...</td>\n",
       "      <td>{'national_security': 0, 'fundamental_laws': 0...</td>\n",
       "      <td>['public_interest', 'public_officers', 'person...</td>\n",
       "      <td>1</td>\n",
       "      <td>...</td>\n",
       "      <td>1</td>\n",
       "      <td>0</td>\n",
       "      <td>1</td>\n",
       "      <td>0</td>\n",
       "      <td>1</td>\n",
       "      <td>0</td>\n",
       "      <td>1</td>\n",
       "      <td>0</td>\n",
       "      <td>1</td>\n",
       "      <td>chastity</td>\n",
       "    </tr>\n",
       "    <tr>\n",
       "      <th>1</th>\n",
       "      <td>1</td>\n",
       "      <td>187362</td>\n",
       "      <td>2001</td>\n",
       "      <td>G. R. No. 131203</td>\n",
       "      <td>SECOND In its decision promulgated on , ,[] th...</td>\n",
       "      <td>second decision promulgated found accused appe...</td>\n",
       "      <td>['second decision promulgated found accused ap...</td>\n",
       "      <td>{'national_security': 0, 'fundamental_laws': 0...</td>\n",
       "      <td>['public_interest', 'persons', 'liberty', 'cha...</td>\n",
       "      <td>1</td>\n",
       "      <td>...</td>\n",
       "      <td>1</td>\n",
       "      <td>0</td>\n",
       "      <td>1</td>\n",
       "      <td>0</td>\n",
       "      <td>1</td>\n",
       "      <td>0</td>\n",
       "      <td>0</td>\n",
       "      <td>0</td>\n",
       "      <td>1</td>\n",
       "      <td>chastity</td>\n",
       "    </tr>\n",
       "    <tr>\n",
       "      <th>2</th>\n",
       "      <td>2</td>\n",
       "      <td>178138</td>\n",
       "      <td>1992</td>\n",
       "      <td>G.R. Nos.102409-10</td>\n",
       "      <td>de appeals from the dated , in and of the , of...</td>\n",
       "      <td>de appeals dated convicting crime committed tw...</td>\n",
       "      <td>['de appeal dated convicting crime committed t...</td>\n",
       "      <td>{'national_security': 0, 'fundamental_laws': 0...</td>\n",
       "      <td>['public_interest', 'public_officers', 'person...</td>\n",
       "      <td>1</td>\n",
       "      <td>...</td>\n",
       "      <td>0</td>\n",
       "      <td>0</td>\n",
       "      <td>1</td>\n",
       "      <td>0</td>\n",
       "      <td>1</td>\n",
       "      <td>0</td>\n",
       "      <td>1</td>\n",
       "      <td>0</td>\n",
       "      <td>1</td>\n",
       "      <td>chastity</td>\n",
       "    </tr>\n",
       "    <tr>\n",
       "      <th>3</th>\n",
       "      <td>3</td>\n",
       "      <td>189434</td>\n",
       "      <td>2003</td>\n",
       "      <td>G.R. No. 133926</td>\n",
       "      <td>For automatic review is the dated , , of the ,...</td>\n",
       "      <td>automatic review dated convicting appellant st...</td>\n",
       "      <td>['automatic review dated convicting appellant ...</td>\n",
       "      <td>{'national_security': 0, 'fundamental_laws': 0...</td>\n",
       "      <td>['public_interest', 'public_officers', 'libert...</td>\n",
       "      <td>1</td>\n",
       "      <td>...</td>\n",
       "      <td>1</td>\n",
       "      <td>0</td>\n",
       "      <td>0</td>\n",
       "      <td>0</td>\n",
       "      <td>1</td>\n",
       "      <td>0</td>\n",
       "      <td>1</td>\n",
       "      <td>0</td>\n",
       "      <td>1</td>\n",
       "      <td>chastity</td>\n",
       "    </tr>\n",
       "    <tr>\n",
       "      <th>4</th>\n",
       "      <td>4</td>\n",
       "      <td>189153</td>\n",
       "      <td>2002</td>\n",
       "      <td>G. R. No. 139231</td>\n",
       "      <td>On appeal is the decision[] of the , in ,-, co...</td>\n",
       "      <td>appeal decision convicting rape sentencing rec...</td>\n",
       "      <td>['appeal decision convicting rape sentencing r...</td>\n",
       "      <td>{'national_security': 0, 'fundamental_laws': 2...</td>\n",
       "      <td>['fundamental_laws', 'public_interest', 'drugs...</td>\n",
       "      <td>1</td>\n",
       "      <td>...</td>\n",
       "      <td>1</td>\n",
       "      <td>0</td>\n",
       "      <td>0</td>\n",
       "      <td>0</td>\n",
       "      <td>1</td>\n",
       "      <td>0</td>\n",
       "      <td>1</td>\n",
       "      <td>0</td>\n",
       "      <td>1</td>\n",
       "      <td>chastity</td>\n",
       "    </tr>\n",
       "  </tbody>\n",
       "</table>\n",
       "<p>5 rows × 24 columns</p>\n",
       "</div>"
      ],
      "text/plain": [
       "   Unnamed: 0      id  year              gr_no_x  \\\n",
       "0           0  189096  2002  G. R. No. 144340-42   \n",
       "1           1  187362  2001     G. R. No. 131203   \n",
       "2           2  178138  1992   G.R. Nos.102409-10   \n",
       "3           3  189434  2003      G.R. No. 133926   \n",
       "4           4  189153  2002     G. R. No. 139231   \n",
       "\n",
       "                                                text  \\\n",
       "0  Before this for automatic review[] is the Join...   \n",
       "1  SECOND In its decision promulgated on , ,[] th...   \n",
       "2  de appeals from the dated , in and of the , of...   \n",
       "3  For automatic review is the dated , , of the ,...   \n",
       "4  On appeal is the decision[] of the , in ,-, co...   \n",
       "\n",
       "                                          text_clean  \\\n",
       "0  automatic review joint promulgated h lower cou...   \n",
       "1  second decision promulgated found accused appe...   \n",
       "2  de appeals dated convicting crime committed tw...   \n",
       "3  automatic review dated convicting appellant st...   \n",
       "4  appeal decision convicting rape sentencing rec...   \n",
       "\n",
       "                                     lemma_separated  \\\n",
       "0  ['automatic review joint promulgated h lower c...   \n",
       "1  ['second decision promulgated found accused ap...   \n",
       "2  ['de appeal dated convicting crime committed t...   \n",
       "3  ['automatic review dated convicting appellant ...   \n",
       "4  ['appeal decision convicting rape sentencing r...   \n",
       "\n",
       "                                  lvl2_labels_counts  \\\n",
       "0  {'national_security': 0, 'fundamental_laws': 0...   \n",
       "1  {'national_security': 0, 'fundamental_laws': 0...   \n",
       "2  {'national_security': 0, 'fundamental_laws': 0...   \n",
       "3  {'national_security': 0, 'fundamental_laws': 0...   \n",
       "4  {'national_security': 0, 'fundamental_laws': 2...   \n",
       "\n",
       "                                         lvl2_labels  chastity  ...  liberty  \\\n",
       "0  ['public_interest', 'public_officers', 'person...         1  ...        1   \n",
       "1  ['public_interest', 'persons', 'liberty', 'cha...         1  ...        1   \n",
       "2  ['public_interest', 'public_officers', 'person...         1  ...        0   \n",
       "3  ['public_interest', 'public_officers', 'libert...         1  ...        1   \n",
       "4  ['fundamental_laws', 'public_interest', 'drugs...         1  ...        1   \n",
       "\n",
       "   national_security  persons  property  public_interest  public_morals  \\\n",
       "0                  0        1         0                1              0   \n",
       "1                  0        1         0                1              0   \n",
       "2                  0        1         0                1              0   \n",
       "3                  0        0         0                1              0   \n",
       "4                  0        0         0                1              0   \n",
       "\n",
       "   public_officers  public_order  quasi_offense  lvl2_max  \n",
       "0                1             0              1  chastity  \n",
       "1                0             0              1  chastity  \n",
       "2                1             0              1  chastity  \n",
       "3                1             0              1  chastity  \n",
       "4                1             0              1  chastity  \n",
       "\n",
       "[5 rows x 24 columns]"
      ]
     },
     "execution_count": 2,
     "metadata": {},
     "output_type": "execute_result"
    }
   ],
   "source": [
    "data = pd.read_csv('criminal_lvl2_under200.csv')\n",
    "# data = pd.read_csv('criminal_lvl2_v2.csv')\n",
    "\n",
    "data.head()"
   ]
  },
  {
   "cell_type": "code",
   "execution_count": 3,
   "id": "4fc40141",
   "metadata": {},
   "outputs": [
    {
     "data": {
      "text/plain": [
       "array(['Before this for automatic review[] is the Joint of of the of in and promulgated on , . In -H, the lower court sentenced appellant y to suffer the death penalty.The prosecutor charged appellant with two () counts of under of the Revised as amended by No. , committed against appellant’s nieces, -year old and old The prosecutor also charged appellant with one () count of Acts of under of the Revised as amended by No. , committed against appellant\\'s other niece, -year old The read as follows:Criminal No. -H“Sometime in in and within the jurisdiction of this Honorable the accused, being the uncle of the -year old with lewd designs, did then and there willfully, unlawfully and feloniously have sexual intercourse with said by then and there touching her vagina and inserting his penis into her vagina, against the latter’s will and consent.Contrary to law.”Criminal No. -H“On or about or prior to , in and within the jurisdiction of this Honorable the accused, being the uncle of the -year old with lewd designs, did then and there willfully, unlawfully and feloniously commit[ted] sexual assault upon the person of said by then and there touching her vagina and inserting one of fingers (sic) into her vagina, against the latter’s will and consent.Contrary to law.”Criminal No. \"On or about or prior to in and within the jurisdiction of this Honorable the accused, being the uncle of the -year old with lewd designs, did then and there willfully, unlawfully and feloniously commit acts of lasciviousness upon the person of said by then and there touching her vagina, against the latter’s will and consent.Contrary to law.”On , , the appellant, assisted by counsel, entered a plea of not guilty to each of the After pre-trial, a joint trial on the merits ensued.Winnie is a -year old, single mother, residing at No. She has three young daughters: who is () years old, five years old, and four () years old. is estranged from her husband. The children use the surname name, instead of their father’s surname, although their birth certificates bear the surname of their father. testified that appellant is her brother. She explained during trial that is their biological father’s surname while is their stepfather’s surname, which she as been using since she was a child.[]Appellant’s house is situated about one meter away from the complainants’ house.[] The children would often go to their uncle’s house and spend time with him while their mother was at work. This explains why the children developed a certain fondness for their uncle and called him “daddy” since he had no children of his own.[]Cherry a friend of stayed with the latter’s family for a few days and was tasked to look after the children while their mother was at work. It was during stay that she learned of the children’s unfortunate experience with , , at around p.m., while waiting for the show time of a television soap opera, told the children to take their dinner first before watching television. the youngest of the three, did not want to eat and instead told that she wanted to go to “daddy”. suddenly blurted out to not to go to appellant’s house because he might do to her what he did to Charlaine - rape her. Shocked by what she heard from turned off the TV and asked the children one by one what happened.[]It turned out that appellant had been abusing his nieces.Sometime in of , then about years old, made one of her usual visits to appellant’s house. other person was then present at the house except appellant and handed to Charlaine a bottle of baby oil and asked her to put some on his penis, a request which she innocently and obediently followed. then applied some oil on the vagina of and thereafter inserted his oily penis into vagina.[]Charmaine and likewise related to that appellant had fondled their genitals when they went to his house.[]The children begged not to tell their mother and grandmother about the incident because appellant had threatened to kill them.[]The following day, reported the children’s plight to their mother.Winnie reported the matter to the as well as to the of and The then requested at to conduct a Physical examination on and to determine if they were victims of sexual abuse.[]On , , of the examined the children. He found the presence of a healing laceration at a o’clock position on hymen. While he found both and in a virgin state physically, he noted that their fourchettes[] were congested. said that the most likely explanation for this condition was that their genitals had been manipulated.[]Appellant asserted the defense of alibi in denying the charges against him. On , , the day of the alleged incident, accused claimed that he was buying silver at the garbage dumpsite of located at Accused stressed that he usually stays at the dumpsite from a.m. until the afternoon. The accused surmised that his refusal to loan to his sister might have provoked the latter into falsely accusing him.[]The trial court, relying on the credibility of the prosecution witnesses and the personal testimonies of the victims themselves, found appellant guilty beyond reasonable doubt of the charges against him. It held, three despite their tender age, said in a direct, clear, straightforward and spontaneous manner that they were violated by the accused.”[] The trial court found appellant guilty of qualified rape and imposed upon him the penalty of death in -H. The trial court also found appellant guilty of acts of lasciviousness in and . The dispositive portion[] of the trial court’s decision reads:“WHEREFORE: In this finds accused beyond reasonable doubt of qualified by minority of the victim and her relationship with the accused, defined under and penalized under of the Revised and hereby imposes upon him the penalty of is further ordered to indemnify for as indemnity.In the likewise finds accused, beyond reasonable doubt of the offense of Acts of only defined under of the Revised but is penalized under of No. , as amended. Accused is hereby sentenced, there being no mitigating or aggravating circumstances, to an indeterminate penalty ranging from years, months and day of reclusion temporal as minimum, to years, also of reclusion temporal, as maximum.In No. , this finds accused also beyond reasonable doubt of Acts of defined and penalized under of the Revised and of No. , as amended. Accused is hereby sentenced, there being no mitigating nor aggravating circumstances, to an indeterminate penalty ranging from years, months and day of reclusion temporal, as minimum, to years, also of reclusion temporal, as maximum.With costs against the accused in all these cases.SO ORDERED.”Hence, this automatic review.Appellant made the following assignment of errors:“I.THE OF OF AND FOR OF the outset, we find that we cannot, for lack of jurisdiction, entertain the appeals in and where the trial court sentenced appellant to reclusion temporal in each of these cases. Appellant merely relied on the automatic appeal of wherein the death penalty was imposed. this has held that an automatic review of the death penalty imposed by the trial court includes an appeal of the less serious crimes (not punished by death) only if the lesser crimes are committed on the same occasion or arise out of the same occurrence as that which gives rise to the more serious offense.[] of , as amended of provides that-”SECTION . The shall have exclusive jurisdiction to review, revise, reverse, modify or affirm on appeal, as the law or rules of court may provide, final judgments and decrees of inferior courts as herein provided, in-- criminal cases involving offenses for which the penalty imposed is death or life imprisonment; and those involving other offenses which, although not so punished, arose out of the same occurrence or which may have been committed by the accused on the same occasion, as that giving rise to the more serious offense, regardless of whether the accused are charged as principals, accomplices or accessories or whether they have been tried jointly or separately.” What we have here is a consolidation of three cases brought against the appellant by his nieces. The two counts of acts of lasciviousness were not committed on the same occasion and did not arise out of the same occurrence as that which gave rise to the crime of rape. this has no jurisdiction to review the decision of the trial court on the two counts of acts of lasciviousness jointly with the automatic review of crime of qualified rape for which the death penalty was imposed.[] for of No. to apply, the lesser offenses must be committed on the same occasion or must arise out of the same occurrence as that the graver offense which merited the death penalty. The for three cases merely state that these offenses were committed on or about in where the appellant and complainants’ houses were located. in the record even remotely suggests that appellant abused all three children on the same occasion. In fact, even tried to warn about her unfortunate experience not knowing that their uncle had already molested her sisters on separate occasions. the three offenses were committed during the same period in but on different dates. For this reason, appellant should have filed separate notices of appeal for the two counts of acts of lasciviousness.In vs. this held that the appeal from a judgment rendered by the in its original jurisdiction imposing a penalty other than reclusion perpetua or death must be taken to the of by filing of a notice of appeal with the trial court and by serving a copy thereof on the adverse party. Since appellant did not appeal the decision of the in and to the of the decision became final and executory after the lapse of the -day period for perfecting an appeal. With this result, we now limit our review to for qualified rape where the trial court imposed the death penalty.Appellant faults the trial court for giving credence to the testimony of despite the fact that her testimony was allegedly replete with inconsistencies.Appellant argues that testimony was a mere product of an orchestrated coaching initiated by her mother and the prosecutor. To stress his point, appellant directs us to testimony during cross-examination where she said that appellant did not really insert his penis into her vagina but merely asked her to apply baby oil on it. When asked whether the prosecutor instructed her to say that there was penetration, answered positively. appellant concludes that was not really raped.We do not agree.Charlaine’s testimony during the entire trial clearly shows that appellant indeed raped her. convincing account of how appellant asked her to put baby oil on his penis, and how he applied the same on her vagina, shows the lecherous intent of her uncle to rape her. It was not logical for appellant to stop after he had applied baby oil on vagina. The logical implication would be that the baby oil was a “lubricant” to facilitate the penetration of appellant’s penis into vagina. enough, narrated in court that after appellant applied baby oil on her vagina, he proceeded to insert his penis into her private organ. bang natatandaang ginawang masama sa iyo si shook her head by answering yes iyong masamang ginawa sa iyo ni A. po siya ng langis sa titi. niya sinabi iyon? akin po. nung sinabi sa iyo ni lagyan mo ng langis ang titi ko, anong ginawa mo? po. mong lagyan ng langis, ano palang langis ang nilagay mo? oil. nilagyan mo ng langis iyong titi ni anong ginawa ni pagkatapos? pekpek ko nilagyan niya ng langis. ano na ang nangyari nung nilagyan ng langis iyong pekpek mo? po ako kay nung gabi po. nagpalagay si ng langis dun sa titi niya tapos nilagyan ni ng langis iyong pekpek mo, anong ginawa ni sa titi niya? niya po sa pekpek ko. noon anong nangyari? po ako kay ba noon? nodded her head by answering yes argument that retracted her statement on cross-examination, saying that there was no “penetration,” is rendered illusory by own clarification on re-direct examination that appellant truly inserted his penis into her vagina. “RE-DIRECT ipinasok ni iyong titi niya sa pepe mo? po. sabi mo kay hindi ipinasok? ka niya, di ba sabi niya hindi ba ipinasok iyong titi, sabi mo ang totoo, ipinasok o hindi? The alleged lapses on testimony serve to strengthen rather than weaken her credibility.[] This is particularly true where, as in this case, the rape victim is only five () years of age. In the case of People vs. this gave full credence to the testimony of a five-year old minor who was raped, thus:“The victim, was only five years old at the time of the rape. At such a tender age, she could not be expected to weave with uncanny recollection such a complicated tale as the sexual assault that unconscionably perpetrated on her. Even on cross-examination, candor and honesty were evident; her language simple and spontaneous, consistent of and befitting someone her age testifying to such a horrible experience.”It did not help either that appellant’s counsel was obviously trying to mislead into retracting her testimony. this notwithstanding, we uphold the trial court in giving full credence to original statement and her confirmation on re-direct examination that appellant indeed raped her. It is improbable for a girl of tender age like not exposed to the ways of the world, to impute a crime as serious as rape to her own uncle, if it were not true.[]Moreover, the medical findings of for brevity), medico-legal officer of support the testimony of on reveals the presence of a “deep healing laceration at a o’clock position and findings compatible with recent loss of physical virginity.”[] explained in court that the deep healing laceration could have been caused by the insertion of a hard blunt object similar to an erect penis penetrating the vagina during a sexual intercourse. “Q. With respect to your findings as to the hymen there is a presence of a deep healing laceration at : o’clock position, what do you mean by deep healing laceration? A. By healing means a duration any day within a four () day period before the time of my examination. And by deep means that it extended beyond one half of the width of the hymen. What would have caused the deep healing laceration? A. It could have been caused by the insertion of a hard blunt object similar to an erectment (sic) penis as in the process of sexual intercourse The deep healing laceration could have been caused by an insertion of a penis right? ma’am.”[] positive testimony, corroborated by medical findings, suffices to support a conviction against appellant.[]Appellant further contends that the statement in the medico-legal report, which says that bore external signs of recent application of any form of physical trauma,”[] negates the fact of sexual abuse.Admittedly, there was no sign of any physical trauma on This could be attributed to the fact that there was no resistance on her part. such fact does not exculpate appellant from his beastly act. grew up without her real father and she turned to her uncle for paternal guidance. She even calls appellant “daddy”.[] it cannot be denied that appellant exercised a great amount of influence and authority over We have held that resistance is immaterial in a rape committed by an uncle against his own niece, since the uncle’s moral ascendancy and influence over his niece sufficiently take the place of violence or intimidation.[] Even intimidation leaves no traces of struggle which could indicate that the victim fought off her attacker.[]The absence of external signs of physical trauma does not negate the fact of sexual abuse. has shown that the absence of any external sign of physical injury does not necessarily negate the occurrence of rape, proof of injury not being an essential element of the crime.[] this, however, we hold that the laceration in hymen confirms the fact of sexual abuse. We have held that lacerations, whether healed or fresh, are the best physical evidence of forcible defloration.[]Appellant, moreover, asserts that granting that his penis touched vagina, it does not satisfy the “penetration” required under existing jurisprudence. main argument relies on the testimony of the child-victim that she neither felt pain, nor cried, or saw blood on her underwear, at the time appellant raped her. According to appellant, it was incredible that none of these events transpired, considering that was a mere five-year () old and appellant was an adult. argues that a penetration of that sort would have provoked those reactions.We do not agree. The “penetration” which ensued in this case fulfills the requirement under existing jurisprudence. The case of People vs. cited by the appellant, provides the criterion in determining whether there was penetration sufficient to warrant a rape conviction. This case states, must be sufficient and convincing proof that the penis indeed touched the labias or slid into the female organ, and not merely stroked the external surface thereof, for an accused to be convicted of consummated rape.”[]We reiterate that manifested in the lower court that appellant inserted his penis into her vagina. To borrow the words of niya po sa pekpek ko.”[] This categorical statement is sufficient to support the conclusion that there was penetration. This testimony is even buttressed by physical evidence since the medical finding on showed that she suffered a recent loss of physical virginity. this to the fact that hymen was lacerated. It would have been improbable for hymen to be lacerated if appellant’s penis merely stroked the external surface, or mons pubis, of her vagina.Dr. explained that the laceration could have been caused by the insertion of a hard blunt object similar to an erect penis, or even a smaller sized hard blunt object provided there was a “more extensive manipulation.”[] the fact that there has to be an extensive manipulation by a blunt object in order to produce the kind of laceration inflicted on vagina rules out the suggestion that appellant’s penis merely grazed the external surface of private organ.Furthermore, appellant’s contention that reaction during the sexual abuse was atypical of a victim of rape deserves no credit. We have repeatedly held that different people react differently to a given type of situation. There is no standard form of human behavioral response when one is confronted with a strange, mysterious, startling or frightful experience, such as when the crime of rape is perpetrated by a person with moral ascendancy over the victim who is a child of tender age.[] In the case of People vs. this held that-“The defense capitalizes on the victims admission that she did not cry at all when she was being raped, which is contrary to human nature. But persons react differently when confronted with situations like this one. One cannot expect a child of five () years to act the same way a ten ()-year old or an older woman would. is almost always brought about by the horrifying experience a woman has undergone and the shame and scandal that she has to go through after the dastardly act has been committed. Not so in the case of a five ()-year old who has not fathomed the ways of man. If she did not cry while she was being raped, it could be because she was afraid of what was being done to her. would oftentimes overwhelm the victim or stupefy her into inaction. This kind of apprehension comes to one when somebody older and close to her does something she does not comprehend but she just keeps quiet because the other person might get mad.”This also had several occasions to accord credence to a child-victim’s testimony that she was raped even without a showing that she felt pain or saw blood during the sexual act, for we have held that pain or vaginal bleeding is not an element of rape.[] it was not correct for appellant to say that did not feel pain during the sexual abuse. told the judge in court that she felt pain when appellant inserted his penis into her vagina.[] It was possible, however, that the penetration was not extremely painful, as may have been expected, considering that baby oil lubricated their genitalias before appellant inserted his penis into vagina. differ on the degree of pain that they could bear. It is not proper to judge the actions of children who have undergone traumatic experiences by the norms expected under the circumstances from mature persons.[] The range of emotions shown by rape victims is yet to be captured even by the calculus. It is thus unrealistic to expect uniform reactions from rape victims.Finally, for his part, appellant can only offer the alibi that he was at the garbage dumpsite in from : a.m. to sometime in the afternoon, at the time of the incident.[] Even granting that he was indeed at that place, at that time, it still does not rule out the possibility that he committed the sexual abuse on since he could have done it in the evening when he went home from work. The Information shows the time of the commission of the crime to be “sometime in without giving the exact day of commission. Considering the many occasions where went to appellant’s house, the rape could have been committed during any of those occasions. Even appellant himself testified that his house is only one () meter away from the house of his niece.[]Appellant attributes the charge against him to his refusal to lend to his sister, the mother of we are not convinced. Not a few accused in rape cases have attributed similar motives to those who brought the charges against them.[] courts are seldom, if at all, convinced that a mother would stoop so low as to subject her daughter to physical hardship and shame concomitant to a rape prosecution just to assuage her own hurt feelings.[] No amount of money is worth letting one’s daughter undergo all the anguish and shame of a rape trial, not for the measly sum of therefore finds that the trial court did not err in finding appellant guilty beyond reasonable doubt of the crime of rape and sentencing him to death.To warrant the imposition of the supreme penalty of death in qualified rape under of the Revised the concurrence of the minority the victim and her relationship to the offender must be specifically alleged and proved with equal certainty as the crime itself.In the instant case, the Information alleges that the child-victim was a five ()-year old minor and appellant was the child-victim’s uncle. The prosecution presented birth certificate[] to prove her age. This undisputed circumstance, standing alone, qualifies the rape. Under of the Revised the death penalty is mandated in rape cases “when the victim is a child below seven () years old” The qualifying circumstance of relationship was also undisputedly proven by the prosecution. The child-victim’s mother, testified in court that appellant is her brother, making appellant a blood relative of the victim within the third civil degree. appellant categorically admitted during trial that the child-victim is his niece.[]With regard to the civil liability of appellant, the indemnity of awarded by the lower court should be increased to in line with recent case law.[] The amount of as moral damages is also awarded, without need for pleading or proof of the basis thereof.[] We have also held that the presence of an aggravating circumstance, whether ordinary or qualifying, entitles the offended party to an award of exemplary damages, hence, the amount of the ruling of the of in finding the accused beyond reasonable doubt of qualified by the minority of the victim and his relationship with the complainant, and imposing the penalty of is with the that the civil indemnity of be raised to and appellant shall further pay complainant as moral damages and as exemplary damages.In accordance with of the Revised as amended by Section of No. , upon finality of this decision, let certified true copies of the records of this case be forwarded forthwith to the of the for the possible exercise of the pardoning power.SO (Acting and concur.Davide, and abroad, on official leave.Corona, took no part in the deliberations. to of the Revised as amended by Section of Penned by , , p. .[] , , p. .[] , , p. .[] , , p. .[] , , pp. -.[] , , pp. -.[] , , pp. , , pp. -.[] , , p. .[] Records of “H”, “H-”, “H-”, pp. p..[] membrane at the posterior junction of the labia minora.[] pp. p. p. p. .[] This should read p. .[] vs. appeal taken. - (a) x x.(c) The appeal to the in cases where the penalty imposed by the is reclusion perpetua or life imprisonment, or where a lesser penalty is imposed but for offenses committed on the same occasion or which arose out of the same occurrence that gave rise to the more serious offense for which the penalty of death, reclusion perpetua, or life imprisonment is imposed, shall be by filing a notice of appeal supplied)[] “.) when the victim is under eighteen () years of age and the offender is a parent, ascendant, step-parent, guardian, relative by consanguinity or affinity within the third civil degree, or the common-law spouse of the parent of the victim.”[] of p. , , p. .[] vs. No. , , ; vs. , members of the maintain their position that No. , insofar as it prescribes the death penalty, is unconstitutional. they submit to the ruling of the by majority vote, that the law is constitutional and the death penalty should be accordingly imposed.',\n",
       "       'SECOND In its decision promulgated on , ,[] the of , in found accused-appellant guilty of rape as defined and penalized under of the Revised was first sentenced to death, but this penalty was reduced to reclusion perpetua in an order of the court a quo dated , , after a post-promulgation review of its decision wherein it was noted that the rape happened in or before the effectivity of , which restored the death penalty for heinous crimes. The trial court then motu proprio amended the dispositive portion of the original decision by reducing the penalty to reclusion perpetua.[]The facts of the case are as follows:On , , appellant was charged with rape, allegedly committed as follows:That on or about the month of , in the municipality of province of and within the jurisdiction of this Honorable the said accused, did then and there, willfully, unlawfully and feloniously, by means of force, intimidation and lewd designs have (sic) carnal knowledge with one against the latter\\'s will and consent.CONTRARY arraignment, appellant with assistance of counsel pleaded not guilty to the charge. trial on the merits ensued.The prosecution\\'s evidence consisted of the medical certificate issued by and the testimonies of private complainant her aunts and her father defense offered in evidence the lone testimony of the accused.Records show that private complainant is appellant\\'s granddaughter, the daughter of his son mother died a week after her birth on , remarried thereafter, and had four children by his second wife.[]At the time of the alleged offense, in , was years old and a pupil. With her stepbrothers, stepsisters and grandfather she lived with her father in As the eldest child, she looked after her younger siblings since and his second wife were usually at their kaingin in the forest of They returned home only on house in was made of cogon and bamboo. Its floor was raised one () meter from the ground. Near the house was a smaller hut, where appellant stayed. had four nearby neighbors, one of them his sister, whose house was only ten () meters away.Sometime in , at around : P.M., while her parents were in and while her siblings were asleep, appellant armed with a foot-long knife[] entered the room where was sleeping. He woke her up and told her he was going to \"use her\" gamitin nac\"),[] threatening her that if she refused, he was going to kill her sige ket patayin ka\").[] allowed him to do as he pleased.Appellant went on top of the victim and after caressing her, he succeeded in inserting his stiff penis inside her vagina. He then stayed on top of her for almost an hour and after satisfying his lust dismounted her and left.[]That same night, the victim\\'s aunt heard what sounded like weeping. woke up her sister-in-law, who was staying for the night. They went to house. they crept beneath the floor and eavesdropped. They heard appellant telling to remove her panty (\"Ikkatemon ta sapin mon.\"). [] He threatened to kill her if she refused. They also heard a bolo being unsheathed.[] and afraid, kept absolutely still. The victim pleaded with appellant to \"remove it as it was painful\" co, ikkatemon ta nasaket.\")[] He replied should I remove it when I am not yet through?\" then flatly stated \"If you are going to report it, I will kill you\" ipulong mo uray siasino patayen ca.\")[] and then left. They did not reveal what they had overheard to anyone. were deathly afraid of appellant who had been previously jailed for having killed his brother and a nephew.[]From then on, appellant had his way with complainant, having sexual intercourse with her whenever he wanted.[] did not resist or shout for help when she was sexually abused. She was terrified of her grandfather\\'s death threats. for her life as well as those of her family members, she did not reveal her harrowing experience to anyone.[]In , when could not endure her ordeal anymore, she told her father that appellant raped her.On , , she filed a complaint for rape with the of She underwent a medical examination. The examining physician found no lacerations in her hymen, but noted that she had a \"ruptured hymen.\"[] Finding probable cause to hold appellant for the rape charge, the municipal judge ordered his arrest and the filing of the proper information against him before the , , after the prosecution had presented its evidence, appellant with leave of court filed a motion to dismiss on demurrer to evidence[] on the ground that material inconsistencies and discrepancies in the testimonies of the prosecution witnesses raised reasonable doubt concerning appellant\\'s probable guilt.On , , the trial court denied appellant\\'s motion and ordered the defense to present its evidence.On the witness stand, appellant denied raping private complainant.[] He professed ignorance why his own granddaughter would accuse him of such a crime. He claimed that he was seventy () years old and no longer capable of having an erection.[]After trial, the court rendered judgment as follows:WHEREFORE, finding the accused beyond reasonable doubt of with which he is charged with the use of deadly weapon attended with the aggravating circumstance of relationship, the hereby sentences him to suffer the penalty of and to indemnify the victim moral damages without subsidiary imprisonment in case of insolvency.SO this appeal, with appellant assigning the following errors:I OF OF assigned errors involve the issue of credibility of witnesses and shall be jointly discussed.At the outset, appellant asks us to note that even the trial court noted inconsistencies in private complainant\\'s testimony, to wit:x To be sure, there are some contradictions in the testimony of For instance, she declared that the first sexual intercourse with the accused was done inside the house, only to change it later and say that it was done inside the hut in front of the house. Then she said that the first sexual intercourse was done at night only to change it later on and say that it was done at daytime.[]x contends that it was error for the trial court to believe the victim\\'s story despite these inconsistencies. He argues that mere passage of time is insufficient to account for such inconsistencies regarding time and place of the alleged rape because what she was being asked to recall was only the approximate time. Her inconsistencies put into serious doubt her credibility.For the the of the admits that the victim indeed committed minor inconsistencies in narrating the details of where and when she was raped. according to the such lapses are understandable when a person is asked to recount details she considers too painful to recall.In rape cases, we note that the only persons present during a rape are usually only the offender and the offended. While the lone testimony of the victim is sufficient to convict the accused, her testimony must be clear, positive, convincing, and consistent with human nature and the normal course of things.In the present case, in our view, the perceived discrepancies in the testimony of concerning when and where she was raped do not destroy her credibility as complaining witness, much less vitiate the evidentiary value of said testimony. of this nature can be expected of a young girl whose ravishment she is called upon to recall painfully. victims hardly retain in their memories the dates, number of times, and manner of their ravishment. For this reason the exact time and date of the commission of the rape is not an essential element of the crime.[] The victim in the present case only finished But despite her educational limitations, her narration of her ordeal on the witness stand was straightforward, spontaneous and candid. Under rigid cross-examination, she was steadfast on her tragic tale of defilement. Lapses concerning the date, time, and place of the sexual assaults only tend to buttress, rather than weaken her credibility, since they show that she was neither coached nor were her answers contrived.[] no motive has been attributed to her that would make her testify falsely against the accused.[] Note that her alleged rapist was her own grandfather. rape victim\\'s testimony is entitled to great weight when she accuses a blood relative of having raped her.[] finally that cried as she narrated her ravishment at her grandfather\\'s hands.[] The crying of the victim during her testimony is added hallmark of the credibility of the rape charge.[]Appellant next assails failure to report immediately the alleged rape and the successive acts of sexual abuse that allegedly followed. He claims her silence for some sixty () months is inconsistent with the natural reaction of an outraged victim. long silence creates room for doubt on the veracity of her story, according to him.The however, points out that silence is not unusual among young victims of rape, considering that she was overwhelmed by fear. girls like often conceal the assaults on their virtue, out of shame, humiliation and social ostracism but their initial reluctance in reporting their rape is neither unknown nor uncommon.[] vacillation in filing charges does not undermine their credibility if the delay can be satisfactorily explained.[]Moreover, was not unaware that her ravisher had been jailed for killing blood relatives. She had reason to fear and not to ignore his mortal threats. in reporting a rape in the face of threats of death or physical violence should not be taken against the victim.[]Appellant also faults the testimonies of the prosecution\\'s corroborative witnesses as highly incredulous and unworthy of belief. He insists it is contrary to human experience that and did not rush to the victim\\'s aid nor report the incident to the police when they heard her being raped. testimonies then are suspect as fabrications, according to him.The points out, however, that nowhere was it shown that the victim\\'s father and two aunts were motivated by improper motives enough to falsely accuse their own kin of a crime so serious and despicable. They were only motivated by their sense of justice for a wronged kin.We find and testimonies credible. It is not rare for witnesses to delay reporting a crime and the delay, if adequately explained, does not destroy their credibility.[] We are convinced and were indeed held back in terror because of appellant\\'s violent reputation. They could not ignore the possibility of reprisals should they aid the victim.[] Even the victim\\'s father admitted in open court his fear of appellant, as the latter was capable of carrying out any threat he might make.[] threats and fear of reprisals are adequate reasons why witnesses are reluctant to get involved in criminal cases.[]Noteworthy, corroborative testimonies of witnesses in this case are mere icing on the cake. The peculiar nature of rape is that conviction or acquittal depends almost entirely upon private complainant\\'s word.[] accusations are supported by her credible, pertinent, and material testimony.The gravamen of rape is carnal knowledge of a woman against her will or without her consent.[] failed to rebut private complainant\\'s categorical testimony that he was able to ravish her by holding a bladed weapon, with threats to kill her. The act of holding a knife by itself is strongly suggestive of force and threatening the victim with a knife is sufficient to bring a woman, much more a young and naïve barrio lass, to submission.[] positive declaration, all he can offer is mere self-serving denial. is an inherently weak defense, which cannot prevail over the positive testimony of private complainant.[] his appeal must fail for sheer want of merit.Appellant is the grandfather of the victim. Under the Revised the alternative circumstance of relationship is considered \"when the offended party is the spouse, ascendant, descendant, legitimate, natural, or adopted brother or sister, or relative by affinity in the same degrees of the offender.\"[] The relationship between appellant and private complainant is especially aggravating circumstance in this case.Some modifications in the monetary awards are in order. The trial court did not award any civil indemnity which current jurisprudence has fixed at appellant is further sentenced to indemnify private complainant in the amount of for the rape he committed against her. We however reduce the moral damages of to conformably with prevailing jurisprudence. The alternative circumstance of relationship having aggravated the offense, the award of as exemplary damages is in order.[]WHEREFORE, the decision of the finding guilty beyond reasonable doubt of rape and sentencing him to reclusion perpetua is with the that he is also sentenced to pay complainant the amount of as civil indemnity, as moral damages and as exemplary damages. Costs against appellant.SO (Acting (Acting and concur.Buena., official leave).[] pp. at p. at at . also and \"-a\".[] , , pp. -.[] at at at ; , , p. .[] , , pp. -.[] , , pp. -; , , pp. -.[] at , -; at at ; at at , , p. .[] , , p. .[] at p. at at , , pp. -.Id. at pp. at at , citing v. , , , p. .[] , citing v. , ().[] v. , citing v. , ().[] v. , citing v. , , , p. ; , , p. .[] , citing v. , ().[] v. , citing v. , ().[] v. , ().[] v. et al., , citing v. , ().[] v. , , , pp. -; , , pp. , , , pp. -, .[] v. , (); v. , - ().[] People v. , citing v. , ().[] v. , citing v. , - ().[] People v. , - ().[] People v. , , .',\n",
       "       'de appeals from the dated , in and of the , of convicting him of the crime of committed on two () separate occasions. In the reads as follows: \"That on or about , at municipality of province of and within the jurisdiction of this Honorable the above-named accused, armed with a dagger, by means of force and intimidation, did then and there wilfully, unlawfully and feloniously have carnal knowledge of one years of age, to her damage and prejudice. \"Contrary to , Revised In the crime of rape was allegedly committed as follows: \"That on or about , at barangay municipality of province of and within the jurisdiction of this Honorable the above-named accused, by means of force and intimidation, did then and there wilfully, unlawfully and feloniously have carnal knowledge of one years of age, to her damage and prejudice.\" arraignment on , the accused pleaded not guilty to the commission of the crime of rape on two occasions. In finding the accused guilty of the crime charged, the trial court states: \"In an attempt to extricate himself from a stigma of conviction, accused de wanted the court to believe his version that he was, on , , at the house of his sister at , where he stayed up to , . corrobora\\xadted the testimony of her brother. The defense is alibi. It is unavailing as a defense since in this particular case, accused de was positively identified by the victim The evidence leaves no room for doubt that the crimes of which were perpetrated on , and , were, as the prosecution\\'s evidence show, correctly as\\xadcribed to The court has pain\\xadstakingly scrutinized the evidence on how the victim narrated in detail the horrifying incidents. It has been clearly proven that on , at about : o\\'clock in the morning after the victim\\'s mother and sister had left their house, the accused de entered the room. While inside, he clamped his hands on her (Marissa mouth, removed her pantie and then lowered his brief and short pants to the level of his knees. Then he (accused) laid his weight against her thighs and spread her two legs, knelt down and then jerked his body lan kinot), made a push and pull, and uttered and warned the victim, move or else I will kill during which time he inserted his penis inside the vagina of The victim felt pain and cried. It is unquestionable therefore that accused employed force in accomplishing his vicious purpose when he laid his weight against the thighs of spread her two legs, and intimidated the victim by saying, \\'don\\'t move or else I will kill you.\\' These led to the consummation of the crime of falling squarely under of of the Revised on , at around : o\\'clock in the morning, accused entered the same room where he abused on , , and by means of a knife which he pointed to said, \\'don\\'t say a word, or else I will kill you\\', at which time he inserted his penis to the vagina of the victim. The crime of which was perpetrated on , was accomplished by force and intimidation because accused pointed a knife on the neck of the victim. conducted a medical examination, evidenced by a medico-legal certificate, A. In examining the hymen, he found out that there was a healed lacerated wound at : and : o\\'clock position, and there was an indentation which is not seen in normal hymen. The medico-legal officer declared that the healed lacerated wound was caused by a human penis. These are clear indicia that the crime of during the incidents on , and , are consummated. accused denied the charges saying that he does not know of anything wrong that he did. The only reason that he knows is that he and his wife quarreled because he sold their personal belongings. This defense is implausible. is a year old first year high school student. She submitted herself to medical examination. She gave a statement and testified in narrating in detail the traumatic and unforgettable experience she went through on , and , under the callous hands of de is a woman. In this connection, the ruling in the case of People versus In giving credence to the fabricated story of private complainant and her witnesses that she was allegedly raped by accused--appellant on , at about : o\\'clock in the morning; “. In giving credence to the fabricated story of private complainant and her witnesses that she was allegedly raped by accused--appellant on , at about : o\\'clock in the morning; “. In convicting the accused-appellant without proof beyond reasonable doubt.\" the principal issue raised by the accused is the credibility of complainant\\'s testimony and those of her witnesses. The accused finds it quite strange and unnatural for a twelve-year-old girl to be articulate as to vividly describe the act of rape committed against her by the accused; that she did not offer any form of resistance while she was allegedly being sexually abused by the accused; and there\\xadafter not reporting the incidents to her parents, sister barangay officials or to police authorities. He finds it even more surprising and strange that after the alleged rape, she acted normally - went about her usual activities at home and in school and could even sleep soundly from up to . accused-appellant posits that the strong driving force that compelled the private complainant to file the complaint was the concerted action of complainant her\\xadself, her parents, her sister (wife of the accused) in retaliation for his previous act of selling his sander motor in the amount of but giving only to his wife, and in selling his set in the amount of - \"that fanned the flame of hatred and aggravated the worsening relationship between the accused and his wife and his in-laws.\"[] We find no merit in this appeal. There is nothing strange or unnatural in the behavior of the complainant when she did not shout for help while being sexually abused by the accused. She testified that the accused clamped his hand on her mouth. she repeatedly testified that the accused threatened to kill her if she reported the incident. According to her, during the second assault, on , the accused pointed a dagger at her. As for the apparent normal behavior of after the commission of the two () rapes, this can be explained by the fact that she did not want any member of her family to suspect that something wrong had happened to her. She repeatedly stated during the trial that she was afraid the accused would kill her if she reported what happened to her. As for the alleged articulateness of the complainant in describing the rape on two () occasions committed against her, we do not find anything so articulate or graphic in the victim\\'s testimony which stated simply and clearly the sexual assaults upon her. she was already thirteen () years old when she testified before the court. per\\xadson of that age can already express her feelings or observa\\xadtions in comprehensible language. witness who testifies in a categorical, straight\\xadforward, spontaneous and frank manner and remains consistent on cross-examination is a credible witness. vs. .) The last-ditch defense of the accused that the com\\xadpelling reason why complainant filed the complaint was because of the acts of the accused of selling his sander motor and the set is bizarre and unacceptable. We must not lose sight of the fact that is a \"barrio lass.\" It is hard to believe that she would risk the ignominy that would befall her if she were to expose the humiliating incidents, and for what? Because she was deprived of the pleasure of watching TV or decent woman would publicly admit that she had been criminally ravished unless that is the truth, for the natural instinct is to protect her honor. (People vs. We have carefully examined the records of these cases and read the transcripts of the hearings. We do not find any abuse of discretion or error in the conclusions arrived at by the trial judge based on the evidence presented as to call for a reversal of the appealed joint decision. It is settled that the findings of the trial court pertaining to the credibility of a witness are entitled to great respect since it had the opportunity to examine his demeanor as he testified on the witness stand, and, there\\xadfore, it could discern if such witness was telling the truth or not. (People vs. No. , , , , citing People vs. the joint decision of the court a quo which found de guilty beyond reasonable doubt of the crime of rape on two () counts is hereby with costs against the appellant. and concur. [] Penned by p. , for',\n",
       "       ...,\n",
       "       'SECOND The saddest thing about court decisions is that they cannot prevent moral depravity when it has already happened. We can only do justice by imposing the proper penalty upon the finding of guilt beyond reasonable doubt.We affirm with modification the conviction of accused-appellant for the crime of rape with homicide. to the sheer depravity of the offense, in that accused-appellant raped a seven-year-old child and drowned her to death, we increase the award of damages to as civil indemnity, as moral damages, and as exemplary damages.In an accused-appellant was charged with the rape and killing of a seven-year-old girl identified as on the th day of in the of and within the jurisdiction of this said accused, through force, threat and intimidation did then and there wilfully, unlawfully and criminally have carnal knowledge with against her will and having succeeded in raping the seven () years (sic) old girl kill the latter by drowning her at the river.CONTRARY witnesses testified for the prosecution: mother, and rebuttal witness mother testified that at about : p.m. on , , sought her permission to play at the day care center, which was a short distance from their house. At about : p.m., arrived with both of them wet from head to toe. They informed her that they bathed at the seawall. They then asked her permission to go for a \"joy-ride\"[] in trisikad. They returned at about : p.m. At about : p.m., she noticed that her daughter was missing. She then went to the to look for her common-law partner so that he may assist her. After a certain informed them that might have returned to the seawall, mother sought assistance in searching for initially refused, but with her prodding, reluctantly relented. With the permission of the landowner and they entered the seawall, where they found the lifeless body of testified that at about : p.m. on , , he saw in a white sleeveless shirt and short pants driving his trisikad with in the passenger seat. They had passed by the seawall. in the day, he joined the search for testified that at about : p.m. on , , he was outside the gate of the house of his employer where they were having a conversation. He saw a trisikad parked some three () arms\\' length away with no one in it. About minutes later, he saw a person clad in a white sleeveless shirt and short pants (whom he later identified in open court as coming from the river. He appeared nervous and hurried away, driving the same trisikad that was earlier parked. At about : p.m., he heard persons crying near the river. The following day, he revealed to Gascon what he saw the previous day. Upon prodding, he reported the matter to the police. he identified in a police line-up as the person he saw on , testified that sometime between : and : p.m. of , , and sought her permission to enter the seawall as who earlier went there, was missing. and pointed to lifeless body. who was also present, told him that ought to be imprisoned as it was he whom he saw accompanying earlier in the day.[]Ma. a -year-old acquaintance of testified that at about : p.m. on , , invited her to play at the seawall. She refused, and proceeded to the seawall herself. She saw a medium-built man, clad in a white sleeveless shirt and short pants, following seven-year-old cousin, narrated that on , , she and were playing with another girl, when was picked up by She knew as he was the husband of her mother\\'s younger sister. never returned to play with them. That evening, her mother told her that had died.[]Dr. of the prepared autopsy report and death certificate. He testified on his medico-legal findings. On drowning, he noted that the presence of water in her lungs showed that she was still alive when she was submerged.[]Romeo the common-law partner of mother, was presented as a rebuttal witness after pointed to him as the culprit. He testified that at about : p.m. on , , he was playing tong-its at the day care center near their house when and arrived, all wet. then asked mother if he could bring along for a joy ride, to which she acceded. He added that from : to : p.m., he was at the parking area beside the witnesses testified for the defense: and wife.Baron resorted to a denial. He testified that at about : p.m. on , , joined him for a joy ride aboard his trisikad. At about : p.m., he turned over to her mother in the presence of Gingging and At about : p.m., mother approached him in the vicinity of asking about whereabouts. He reminded her that he had returned to her. asked him to go to the seawall, where they found lifeless body. He claimed to have learned of being implicated in rape and killing only after he was apprehended.[]Trinidad testified that at about : p.m. on , , she rode the trisikad driven by from the to their house. She added that stayed at the day care center for about minutes, eating arroz caldo. At about : p.m., she returned to the and she saw trisikad parked across the road. then met mother, who asked about whereabouts. He reminded her that he had turned over to her. He then joined in the search for testified on the same circumstances of having sought permission from mother for to go to the seawall, and, much later, to join him on a joy ride, as well as of the search for On cross-examination, she said that between : and : p.m., she never saw its dated , , the , found guilty beyond reasonable doubt of rape with homicide and sentenced him to death. The dispositive portion of this reads:WHEREFORE, in light of the facts obtaining and the jurisprudence aforecited, judgment is hereby rendered finding the accused beyond reasonable doubt of the crime of hereby sentencing the said accused to the supreme penalty of via lethal injection, further condemning the said accused to indemnify the heirs of the victim civil indemnity of moral damages in the amount of temperate damages in the amount of and the actual damages of the entire records of this case be elevated to the Honorable for automatic review.SO to this court\\'s in which settled on the of as an intermediate level of appeal in criminal cases imposing the penalty of reclusion perpetua or higher, the case was referred for review to the of its dated , , the of affirmed with modification the of the The dispositive portion of this reads:WHEREFORE, the appeal is hereby The of the , in - dated , is hereby is found beyond reasonable doubt of the special complex crime of rape with homicide and sentenced to suffer the penalty of reclusion perpetua without eligibility for parole. is ordered to pay the heirs of the amounts of as civil indemnity, as moral damages, as exemplary damages, as temperate damages and as actual damages.SO , , filed before the of his of The of then forwarded its records to this court.In the dated , , this court noted the records forwarded by the of and informed the parties that they may file their supplemental briefs.On , , the of the filed a on behalf of the of the informing the court that it will no longer file a supplemental brief.On , , filed a noting that he will no longer file a supplemental brief and that he is, instead, adopting the he filed before the of resolution is the sole issue of whether accused-appellant guilt has been established beyond reasonable doubt.Accused-appellant is of the position that the prosecution has not established his involvement with certainty. He bewails the prosecution\\'s reliance on supposedly tenuous circumstantial evidence.The requirements for circumstantial evidence to sustain a conviction are settled. , Section of the Revised on provides:Section . evidence, when sufficient. — Circumstantial evidence is sufficient for conviction if:(a) There is more than one circumstances;(b) The facts from which the inferences are derived are proven; and(c) The combination of all the circumstances is such as to produce a conviction beyond reasonable doubt.[]Moreover, \"factual findings of the trial court and its evaluation of the credibility of witnesses and their testimonies are entitled to great respect and will not be disturbed on appeal, unless the trial court is shown to have overlooked, misapprehended, or misapplied any fact or circumstance of weight and substance.\"[]A careful examination of the records shows that there is nothing that warrants a reversal of the of the and of the of pointed out by the of a multiplicity of circumstances, which were attested to by credible witnesses and duly established from the evidence, points to no other conclusion than that accused-appellant was responsible for the rape and killing of the seven-year-old child, was playing with when picked up and brought her to the river/seawall. saw accused-appellant clad in a white sleeveless shirt and short pants with walking towards the seawall at about : p.m. on , . () Twelve-year-old saw a man clad in a white sleeveless shirt and short pants right behind as she was going towards the seawall. description of what the man was wearing matched and description of what was wearing. saw accused-appellant, clad in a white sleeveless shirt and short pants, nervously and hurriedly leaving the seawall and, thereafter, boarding his trisikad. () conduct when he was asked by mother to join the search, in which he expressed much reluctance despite his having been the last known companion of body, which bore injuries at the vaginal area, was discovered at the seawall. The seawall is the same place several witnesses identified as where and accused- appellant went in the afternoon of , . This is also the same from where accused-appellant nervously and hurriedly left in the same afternoon. () The lacerations sustained by on her vagina, which, per could very well have been caused by the insertion of an erect penis. () The medico-legal findings pointing to asphyxiation by drowning as the cause of death, along with other injuries on her thorax, abdomen, and extremities. Testimonies regarding these details were given by disinterested witnesses whom himself had not managed to discredit for having any ill-motive against him. Two () of the prosecution witnesses are even children of tender age.As against these details and testimonies, all that accused-appellant had offered in defense were denial and alibi—defenses that jurisprudence has long considered weak and unreliable. It is hardly a relief to accused-appellant that two () witnesses have testified in his defense. Even their testimonies failed to definitively establish that accused-appellant neither raped nor killed witness even admitted that during the critical time between : and : p.m. of , , when the rape and killing most likely took place, she was never really aware of accused-appellant\\'s whereabouts.[]There is, thus, no error in the and the of conclusion that accused-appellant is guilty beyond reasonable doubt of the crime of rape with homicide of the seven-year-old child, His conviction must be affirmed.However, we do not merely affirm his conviction as it stands.It was error for the to award temperate damages alongside actual damages. we delete the award of temperate damages.In we took occasion to require an increase in the minimum award of damages where the death penalty would have been imposed, were it not for a law[] preventing it:We take this opportunity to increase the amounts of indemnity and damages, where, as in this case, the penalty for the crime committed is death which, however, cannot be imposed because of the provisions of as civil indemnity;P,. as moral damages which the victim is assumed to have suffered and thus needs no proof; andP,. as exemplary damages to set an example for the public good.These amounts shall be the minimum indemnity and damages where death is the penalty warranted by the facts but is not imposable under present law.[] (Emphasis supplied)Thus, for the sheer heinousness and depravity of accused-appellant\\'s acts of raping and drowning a seven-year-old girl to death and in accordance with People v. we exercise our judicial prerogative and increase the award of damages to as civil indemnity, as moral damages, and as exemplary damages.No amount of remorse can change the fact that a seven-year-old girl is dead. There is no penalty commensurate with the indignity and the suffering that this child endured in the fading moments of her brief life. is there any pecuniary equivalent to the loss of potential and the lifelong grief of her family.WHEREFORE, the of the of in No. is hereby with is found beyond reasonable doubt of the special complex crime of rape with homicide and sentenced to suffer the penalty of reclusion perpetua without eligibility for parole. is ordered to pay the heirs of the amounts of as civil indemnity, as moral damages, as exemplary damages, and as actual damages.Furthermore, all monetary awards for damages shall earn interest at the legal rate of % per annum from the date of the finality of this judgment until fully paid.SO and concur.[] p. .[] to as in the of but referred to as in the records.[] p. at at at at at at at at at pp. -. The was penned by actual expenses relating to death in the amount of were substantiated by receipts.[] p. pp. -. The case was docketed as No. . The was penned by and concurred in by and of the of at at at at at also , v. No. , , , , citing v. No. , , , , p. No. , , , , An Prohibiting the of in the ().[] v, No. , , , ,',\n",
       "       'SECOND This is an appeal from the , of the of in on or about the th day of , at around : o\\'clock in the morning, in of of and within the jurisdiction of this Honorable the above-named accused with treachery, without any justifiable cause and with the deliberate intent to take the life of alias did then and there willfully, unlawfully, feloniously and suddenly attack, assault and stab the said with a sharp-pointed instrument thereby inflicting upon the latter mortal wound on the chest, causing his untimely demise.That in the commission of the aforecited offense, the qualifying circumstance of treachery was attendant.[]Accused-appellant pleaded \"not guilty\" to the charge. During trial, the prosecution presented a councilperson of and an eyewitness to the crime. testified that on , , around : a.m., he, and were playing mahjong at the wake of a certain tanods were also present at the wake, about three meters from the mahjong table. At the table, was seated across while accused-appellant and a certain were seated at the right side of watching the game. While was picking a mahjong tile, saw accused-appellant about to stab so shouted \"huwag.\" however, suddenly stabbed with a Swiss-type knife, hitting the latter on the right breast. Accused-appellant thereafter fled towards the residence of barangay captain of while ran to his house. Around : a.m. of the following day, dead body was found by the side of the road, approximately meters from the location of the wake. In the same morning, the barangay captain of surrendered accused-appellant to the authorities. added that he does not know of any reason why accused-appellant stabbed the victim because prior to the incident, accused-appellant was even cracking jokes with them. He said that he does not know if there were ill feelings between accused-appellant and the victim.[]Another witness, a councilperson of testified that when she and accused-appellant were in the terrace of the house of the barangay captain of accused-appellant admitted to her that he stabbed the victim. The prosecution also presented a public health nurse at She testified on the necropsy report which stated that the victim suffered a stab wound that led to profuse hemorrhage and eventual death. The prosecution dispensed with evidence regarding the civil aspect of the case after the defense admitted the testimony of the victim\\'s mother, on the other hand, claimed killing in self-defense. He alleged that the victim suspected him of stealing and because of that, the victim boxed him three times. The victim allegedly scolded him, saying ina mo. mo manyapat may dala ka lang balisong.\" Accused-appellant allegedly replied, hindi ko naman ipinagyayabang ito. ko ito sa pangingisda.\" claimed that the victim called him \"patay gutom at pulubi\" and boxed him at the right shoulder. he stabbed the victim with his fan knife then ran to the house of the barangay captain.[]On , , the rendered judgment, the dispositive portion of which reads:ACCORDINGLY, finding herein accused alias guilty beyond reasonable doubt as principal by direct participation of the crime of qualified by treachery which is punishable under Article of the Revised as amended by No. , and there being no other aggravating or mitigating circumstances present in the instant case, said accused is hereby sentenced to suffer the penalty of with all the accessory penalties provided for by law. The accused is likewise ordered to indemnify the heirs of the victim alias the amount of as actual damages; the amount of as civil indemnity and the additional amount of as moral and exemplary damages.The accused shall be credited with the full time during which he had undergone preventive imprisonment provided that said accused voluntarily in writing to abide with the disciplinary rules imposed upon convicted prisoners, otherwise, he shall be credited in the service of his sentence with only four-fifths (/) of the time during which he has undergone preventive imprisonment.SO filed a of on , and thereafter filed his brief before this on , , docketed as in view of the foregoing, we resolve to AFFIRM the decision appealed form with that the accused-appellant is ordered to pay the heirs of the amount of as exemplary damages. The award of as moral and exemplary damages is of the instant appeal, accused-appellant assigns the following errors on the part of the OF THAT appeal has no merit.It is important to note that accused-appellant admitted stabbing the victim but claimed that he did it in self-defense. When self-defense is invoked, the burden of evidence shifts to the accused to show that the killing was legally justified.[] the accused must prove these requisites for self-defense: unlawful aggression on the part of the victim; lack of sufficient provocation on the part of the accused; and () employment of reasonable means to prevent and repel aggression.[]In this case, the trial court found that accused-appellant failed to prove the requisites of self-defense. Accused-appellant alone testified regarding the alleged fist blows thrown at him by the victim. There was no other testimony to that effect. For accused-appellant\\'s defense to stand, his testimony must be credible. During his direct examination, however, he stated:Atty. there were many other persons around particularly the three players who were playing mahjong with what did they do to when boxed you?A: They just looked at us, sir.[]As aptly observed by the trial court, it is unlikely that the spectators will continue their business despite seeing the victim hit accused-appellant. It is unnatural for the players of mahjong and the barangay tanods present to not attempt to pacify them. could have presented at least one of the witnesses who can support his claim of unlawful aggression by the victim, but he failed to do so. testimony is not realistic and, therefore, doubtful.In contrast, the prosecution witness, stated that accused-appellant suddenly attacked the victim. was able to present a convincing and straightforward account of the incident, particularly the identity of accused-appellant and the suddenness of the attack on the victim. failed to impeach testimony and there was no ill motive imputed against the latter. The trial court was thus correct in believing account of the incident. Such finding of fact of the trial court is accorded great weight and respect and will not be disturbed on appeal.[] Since accused-appellant failed to prove that there was unlawful aggression on the part of the victim, the claim of self-defense cannot prosper.Accused-appellant\\'s alternative claim of passion or obfuscation likewise deserves no credit. To be entitled to this mitigating circumstance, the following elements must be present: there should be an act both unlawful and sufficient to produce such condition of mind; and () the act that produced the obfuscation was not far removed from the commission of the crime by a considerable length of time, during which the perpetrator might recover his normal equanimity.[] There was no evidence of unlawful aggression or any act on the part of the victim that could have caused accused-appellant to act with passion or obfuscation. He failed to present any witness or proof that would support his claim. the trial and appellate courts were correct in overruling the claim for said mitigating circumstance.As regards the second issue, we agree with the courts\\' finding of treachery. We held that treachery exists when the offender commits any of the crimes against the person, employing means, methods or forms in the execution thereof which tend directly or specially to ensure its execution, without risk to himself arising from the defense which the offended party might make.[] In the case at bar, the victim was unarmed and unsuspecting when accused-appellant suddenly stabbed him. was clearly present in accused-appellant\\'s method.The appellate court should not have deleted the award of moral damages. In murder cases, the heirs of the victim should be automatically indemnified in the amount of , as moral damages. proof is necessary since the emotional and mental suffering of the heirs is apparent.[]WHEREFORE, the , of the in No. , finding accused-appellant guilty beyond reasonable doubt of the crime of murder with treachery, is in all respects with the that he is hereby ordered to pay the heirs of the amount of , as moral damages. The instant appeal is accordingly costs.SO and pp. -. Penned by and concurred in by and rollo, pp. -. Penned by at at at at at , , note , at .[] v. No. , , , , v. No. , , , , , , records, pp. -.[] People v. No. , , , , .[] v. No. , , , , .[] v. , , , v. No. , , ; citing v. No. , , , .',\n",
       "       'THIRD and were charged with the crime of under , No. , in relation to , and of No. , in an Information reading as follows:That on or about , , in the of of and within the jurisdiction of this Honorable the said accused, and conspiring together and helping each other, with malice aforethought, with intent to destroy and to cause damage and motivated by hatred and resentment which they entertained against did then and there wilfully, unlawfully and feloniously set fire on the house of the said knowing that the said house was occupied by the said and her family at that time, thereby setting the said house into flames and partially razing it to ashes, to the damage and prejudice of the said owner, in the amount of , trial, the lower court convicted but acquitted in a decision dated , , the dispositive portion of which reads as follows:WHEREFORE, finding the accused guilty beyond all reasonable doubt of the crime of arson penalized under Section , No. , is hereby sentenced to reclusion perpetua; to pay as actual damages, and to pay the costs of the suit. is hereby acquitted for insufficiency of evidence.(pp. has now interposed the instant appeal upon his perception, expressed in the most general of statements in his lone assigned error, that the court below erred in finding him guilty beyond reasonable doubt of the crime charged.The facts of the case, as correctly summarized by the of the and as borne out by the evidence, are as follows:At about o\\'clock in the afternoon of , , a resident of was at home resting in the company of her husband and their two children. Sensing that there was trouble going on outside, she peeped through the window and saw arguing with appellant. The protagonists were around five () meters away from each other, with their fathers, and standing near them. tsn., , altercation became more heated such that and appellant traded sling shots but in the process, it was who got hit on the forehead.Appellant then ran home closely followed by his father while the just stayed behind. returned to the scene, holding a handgun, while his father carried a stone and a pipe. and son gave chase to the who sought refuge inside the house of wanting to be involved, asked the to get out of her house but told her that they would get out as soon as the stopped chasing them. The meanwhile, stood guard outside. appellant opened the window and upon seeing he shot the latter, hitting him at the left arm. This prompted to get out and call for the assistance of the barangay captain. But she was stopped by the poked a gun at her and shouted, \"you are also one of them.\" replied, pare, that is why I am proceeding to the house of the barangay captain so that he will be the one to get those people outside from my house.\" then left and returned with a plastic container filled with gasoline. He poured the contents thereof on the rooftop of house and lit it up. the fire was immediately put out. (p. , tsn., went around the house and again set on fire the eaves of the roof. he threw the container on top of the roof, with its gasoline contents spilling all over. tsn., people around could not stop appellant from burning the house since the latter menacingly pointed his gun at those who wanted to help the made no effort to stop his son from burning the house, but even egged him on by shouting \"you burn them.\" , tsn., frantically asked the to get out of the house which was already burning. and jumped out of the window and they were chased by the , tsn., shouted for help and some of her neighbors responded by putting out the fire. They climbed the roof and removed the top roof to prevent the fire from spreading. (p. , tsn., makes an issue of the fact that the judge who penned the decision was not the judge who heard and tried the case and concludes therefrom that the findings of the former are erroneous. Accused-appellant\\'s argument does not merit a lengthy discussion. It is well-settled that the decision of a judge who did not try the case is not by that reason alone erroneous.It is true that the judge who ultimately decided the case had not heard the controversy at all, the trial having been conducted by then who was indefinitely suspended by this the transcripts of stenographic notes taken during the trial were complete and were presumably examined and studied by before he rendered his decision. It is not unusual for a judge who did not try a case to decide it on the basis of the record. The fact that he did not have the opportunity to observe the demeanor of the witnesses during the trial but merely relied on the transcript of their testimonies does not for that reason alone render the judgment erroneous.(People vs. , [])Although it is true that the judge who heard the witnesses testify is in a better position to observe the witnesses on the stand and determine by their demeanor whether they are telling the truth or mouthing falsehood, it does not necessarily follow that a judge who was not present during the trial cannot render a valid decision since he can rely on the transcript of stenographic notes taken during the trial as basis of his decision.Accused-appellant\\'s contention that the trial judge did not have the opportunity to observe the conduct and demeanor of the witnesses since he was not the same judge who conducted the hearing is also untenable. While it is true that the trial judge who conducted the hearing would be in a better position to ascertain the truth or falsity of the testimonies of the witnesses, it does not necessarily follow that a judge who was not present during the trial cannot render a valid and just decision since the latter can also rely on the transcribed stenographic notes taken during the trial as the basis of his decision.(People vs. , any rate, the test to determine the value of the testimony of a witness is whether or not such is in conformity with knowledge and consistent with the experience of mankind (People vs. the credibility of witnesses can also be assessed on the basis of the substance of their testimony and the surrounding circumstances (People vs. []). critical evaluation of the testimony of the prosecution witnesses reveals that their testimony accords with the aforementioned tests, and carries with it the ring of truth and perforce, must be given full weight and credit.The attempt of accused-appellant to impugn the testimony of the prosecution witnesses is feeble and inconsequential. Accused-appellant points out that the declaration of to the effect that was armed with a gun is inconsistent with the testimony of that was armed only with a pipe and a stone. accused-appellant likewise directs our attention to the testimony of that the did not fire a single shot which contradicts the testimony of that accused-appellant fired his gun and hit the left arm of one The alleged inconsistencies are not material to the offense charged and of which accused-appellant was found guilty.Danilo testified that he witnessed the events while he was standing in front of the house of one which, according to him \"is not very near the house of , tsn., , ). At such a distance, it was not improbable for him to receive a false impression of the weapon carried by especially so in the agitation of an impending tragedy or probable bloodshed. It is to be expected that the testimony of witnesses regarding the same incident may be inconsistent in some aspects because different persons may have different impressions or recollection of the same incident.We have also said, no less frequently, that inconsistencies among witnesses testifying on the same incident may be expected because different persons may have different impressions or recollections of the same incident. One may remember a detail more clearly than another. Witnesses may have seen that same detail from different angles or viewpoints. That same detail may be minimized by one but considered important by another. these disparities do not necessarily taint the witnesses\\' credibility as long as their separate versions are substantially similar or agree on the material points.(People vs. , - [])The most honest witnesses may make mistakes sometimes but such innocent lapses do not necessarily impair their credibility; the testimony of a witness must be considered and calibrated in its entirety and not by truncated portions thereof or isolated passages therein (People vs. so, as in the case at bench where the inconsistencies in the testimony of the witnesses concern minor details, having nothing to do with the integrity of the witness (People vs. and may be disregarded if they do not impair the essential veracity of his testimony (People vs. ). The main substance of the testimony of that he saw accused-appellant set fire to the house of remains untouched and unaffected by the alleged inconsistency in his testimony and, therefore, must be accepted.A reading of the testimony of and readily discloses that the further contention of accused-appellant that the testimony of that accused-appellant fired at hitting his left arm is inconsistent with the testimony of that accused-appellant did not fire a single shot, is totally bereft of evidentiary support. It is obvious that their testimony refer to different time frames of the incident. The testimony of pertains to the time when the accused were chasing the - Were they pointing their firearms at the time they were chasing the two? - Yes, sir. - They did not fire any single shot at the two and - sir. , tsn., ) On the other hand, the testimony of relates to the time when the were taking refuge in the house of - While the were inside your house, what else transpired, if any? - Avelino opened our window and he shot sir. - And what part of the body of what shot? A - Left arm, sir , tsn., , defense that the fabricated the charges against him and his father in order that the criminal charges he filed against husband of for arson be settled, is manifestly flimsy. The following observation of the trial court rightly disposes of said defense.The assertion of and that they were implicated by the was because they (Galamays) would want the criminal case filed against them settled, is to the mind of the court far-fetched. It is so because the were the first one who were charged by the of The burning of the house of the happened at o\\'clock in the afternoon of , , while the burning of the house of happened in the evening at around o\\'clock. When the executed their statements on , , before the the culprits who burned the house of were not yet known. It was only on , , that and gave their statements to the , is no reason to withhold full faith and credit to the testimony of the prosecution witnesses. Accused-appellant having failed to prove any improper motive on the part of these witnesses for testifying against him, their testimony shall be entitled to full faith and credit (People vs. that was the offended party, as it was her house set afire by accused-appellant, her natural interest in securing the conviction of the guilty would deter her from implicating persons other than the culprit otherwise the latter would thereby escape punishment and gain immunity vs. need not tarry long on the defense of alibi put up by accused-appellant that he accompanied his father to a hospital for treatment at the time of the commission of the crime. cannot prevail over the positive identification of the accused by the prosecution witnesses (People vs. was positively identified by and as the culprit who set fire to the house accused-appellant\\'s father, categorically declared on the witness stand that he was accompanied by one when he was treated at the hospital. was your companion when you went to have your injury treated? one of the councilmen in that and , tsn., , accused-appellant presses forth the argument that, since his co-accused, his father was acquitted for insufficiency of evidence, he should likewise be acquitted. argument is unsound. The evidence against him is overwhelming. Two prosecution witnesses, and positively and categorically testified that accused-appellant poured gasoline on the roof of the house of and thereafter ignited it. On the other hand there is no evidence that participated in the act of burning the house of the trial court not having committed any of the errors imputed to it, the appealed decision should be upheld.WHEREFORE, the decision appealed from is hereby with costs against accused-appellant.SO and concur.'],\n",
       "      dtype=object)"
      ]
     },
     "execution_count": 3,
     "metadata": {},
     "output_type": "execute_result"
    }
   ],
   "source": [
    "# columns that are dependent variable\n",
    "# X = data.iloc[:,[9,22]].values\n",
    "X = data['text'].values\n",
    "X"
   ]
  },
  {
   "cell_type": "code",
   "execution_count": 4,
   "id": "90c915a6",
   "metadata": {},
   "outputs": [
    {
     "data": {
      "text/plain": [
       "array([[1, 1],\n",
       "       [1, 1],\n",
       "       [1, 1],\n",
       "       ...,\n",
       "       [1, 1],\n",
       "       [0, 1],\n",
       "       [0, 1]], dtype=int64)"
      ]
     },
     "execution_count": 4,
     "metadata": {},
     "output_type": "execute_result"
    }
   ],
   "source": [
    "# column that is independent variable\n",
    "# y= data.iloc[:,23].values\n",
    "y = data.iloc[:,[9,22]].values\n",
    "y"
   ]
  },
  {
   "cell_type": "code",
   "execution_count": 5,
   "id": "8cb4e9e8",
   "metadata": {},
   "outputs": [],
   "source": [
    "from sklearn.model_selection import train_test_split\n",
    "X_train, X_test, y_train, y_test =train_test_split(X,y,test_size=0.2,random_state=0)"
   ]
  },
  {
   "cell_type": "code",
   "execution_count": 6,
   "id": "6c3ae98c",
   "metadata": {},
   "outputs": [],
   "source": [
    "from sklearn.model_selection import train_test_split\n",
    "from sklearn.feature_extraction.text import TfidfVectorizer\n",
    "from sklearn.multiclass import OneVsRestClassifier\n",
    "from sklearn.metrics import classification_report"
   ]
  },
  {
   "cell_type": "code",
   "execution_count": 7,
   "id": "12379ed5",
   "metadata": {},
   "outputs": [],
   "source": [
    "tfidf_vectorizer = TfidfVectorizer(strip_accents='unicode', ngram_range=(1,3))\n",
    "\n",
    "# create TF-IDF features\n",
    "xtrain_tfidf = tfidf_vectorizer.fit_transform(X_train)\n",
    "xtest_tfidf = tfidf_vectorizer.transform(X_test)"
   ]
  },
  {
   "cell_type": "code",
   "execution_count": 8,
   "id": "934fdaf8",
   "metadata": {},
   "outputs": [],
   "source": [
    "from sklearn.neighbors import KNeighborsClassifier\n",
    "classifier = KNeighborsClassifier(n_neighbors=5, metric='minkowski',p=2)\n",
    "classifier.fit(xtrain_tfidf, y_train)\n",
    "y_pred = classifier.predict(xtest_tfidf)"
   ]
  },
  {
   "cell_type": "code",
   "execution_count": 9,
   "id": "d186c8c9",
   "metadata": {},
   "outputs": [],
   "source": [
    "from sklearn.metrics import *"
   ]
  },
  {
   "cell_type": "code",
   "execution_count": 10,
   "id": "d4e5aed7",
   "metadata": {},
   "outputs": [
    {
     "name": "stdout",
     "output_type": "stream",
     "text": [
      "Test accuracy is 0.6626984126984127\n"
     ]
    }
   ],
   "source": [
    "print('Test accuracy is {}'.format(accuracy_score(y_test, y_pred)))"
   ]
  },
  {
   "cell_type": "code",
   "execution_count": 20,
   "id": "7157a9b4",
   "metadata": {},
   "outputs": [
    {
     "name": "stdout",
     "output_type": "stream",
     "text": [
      "Test recall is 0.4118623962040332\n",
      "Test recall is 0.5730337078651685\n",
      "Test recall is 0.5730337078651685\n"
     ]
    }
   ],
   "source": [
    "print('Test recall is {}'.format(recall_score(y_test, y_pred,average='macro')))\n",
    "print('Test recall is {}'.format(recall_score(y_test, y_pred,average='micro')))\n",
    "print('Test recall is {}'.format(recall_score(y_test, y_pred,average='weighted')))"
   ]
  },
  {
   "cell_type": "code",
   "execution_count": 19,
   "id": "610e997f",
   "metadata": {},
   "outputs": [
    {
     "name": "stdout",
     "output_type": "stream",
     "text": [
      "Test precision is 0.9110169491525424\n",
      "Test precision is 0.8292682926829268\n",
      "Test precision is 0.8595267568082271\n"
     ]
    }
   ],
   "source": [
    "print('Test precision is {}'.format(precision_score(y_test, y_pred,average='macro')))\n",
    "print('Test precision is {}'.format(precision_score(y_test, y_pred,average='micro')))\n",
    "print('Test precision is {}'.format(precision_score(y_test, y_pred,average='weighted')))"
   ]
  },
  {
   "cell_type": "code",
   "execution_count": 11,
   "id": "d66550ea",
   "metadata": {},
   "outputs": [],
   "source": [
    "# from sklearn.metrics import confusion_matrix\n",
    "# cm = confusion_matrix(y_test,y_pred)\n",
    "# cm"
   ]
  },
  {
   "cell_type": "code",
   "execution_count": 12,
   "id": "3531a937",
   "metadata": {},
   "outputs": [],
   "source": [
    "# from sklearn.neighbors import KNeighborsClassifier\n",
    "# from sklearn.pipeline import Pipeline\n",
    "# from sklearn.metrics import accuracy_score\n",
    "# from sklearn.multiclass import OneVsRestClassifier\n",
    "\n",
    "# # Using pipeline for applying logistic regression and one vs rest classifier\n",
    "# KNN_pipeline = Pipeline([\n",
    "#                 ('clf', OneVsRestClassifier(KNeighborsClassifier(solver='sag', random_state=42), n_jobs=-1)),\n",
    "#             ])\n",
    "\n",
    "# final_pred = pd.DataFrame()\n",
    "\n",
    "# for category in categories:\n",
    "#     print('**Processing {} cases...**'.format(category))\n",
    "    \n",
    "#     # Training logistic regression model on train data\n",
    "#     KNN_pipeline.fit(xtrain_tfidf, y_train[category])\n",
    "    \n",
    "#     # calculating test accuracy\n",
    "#     prediction = KNN_pipeline.predict(xtest_tfidf)\n",
    "#     print('Test accuracy is {}'.format(accuracy_score(y_test[category], prediction)))\n",
    "#     result = pd.DataFrame(prediction).rename(columns={0:category})\n",
    "# #     display(result)\n",
    "#     final_pred = pd.concat([final_pred, result], axis=1)\n",
    "# #     display(final_pred)\n",
    "#     print(classification_report(y_test[category], prediction))\n",
    "#     print(\"\\n\")"
   ]
  },
  {
   "cell_type": "code",
   "execution_count": null,
   "id": "e92bbbc4",
   "metadata": {},
   "outputs": [],
   "source": []
  },
  {
   "cell_type": "code",
   "execution_count": null,
   "id": "766a779b",
   "metadata": {
    "scrolled": true
   },
   "outputs": [],
   "source": []
  },
  {
   "cell_type": "code",
   "execution_count": null,
   "id": "516c2e78",
   "metadata": {},
   "outputs": [],
   "source": []
  },
  {
   "cell_type": "code",
   "execution_count": null,
   "id": "bb86f29d",
   "metadata": {},
   "outputs": [],
   "source": []
  }
 ],
 "metadata": {
  "kernelspec": {
   "display_name": "Python 3",
   "language": "python",
   "name": "python3"
  },
  "language_info": {
   "codemirror_mode": {
    "name": "ipython",
    "version": 3
   },
   "file_extension": ".py",
   "mimetype": "text/x-python",
   "name": "python",
   "nbconvert_exporter": "python",
   "pygments_lexer": "ipython3",
   "version": "3.8.10"
  }
 },
 "nbformat": 4,
 "nbformat_minor": 5
}
