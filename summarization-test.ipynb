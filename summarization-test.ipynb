{
 "cells": [
  {
   "cell_type": "code",
   "execution_count": 1,
   "id": "69990fd7",
   "metadata": {},
   "outputs": [],
   "source": [
    "import re\n",
    "import pandas as pd"
   ]
  },
  {
   "cell_type": "code",
   "execution_count": 3,
   "id": "d6e3781d",
   "metadata": {},
   "outputs": [],
   "source": [
    "from transformers import BartTokenizer, BartForConditionalGeneration, BartConfig"
   ]
  },
  {
   "cell_type": "code",
   "execution_count": 4,
   "id": "fa854cd8",
   "metadata": {},
   "outputs": [
    {
     "data": {
      "application/vnd.jupyter.widget-view+json": {
       "model_id": "9aff4893c370422b87e05f5e02b84924",
       "version_major": 2,
       "version_minor": 0
      },
      "text/plain": [
       "Downloading:   0%|          | 0.00/1.58k [00:00<?, ?B/s]"
      ]
     },
     "metadata": {},
     "output_type": "display_data"
    },
    {
     "data": {
      "application/vnd.jupyter.widget-view+json": {
       "model_id": "c5b4f3f686e1417b91eb1afa8860220a",
       "version_major": 2,
       "version_minor": 0
      },
      "text/plain": [
       "Downloading:   0%|          | 0.00/1.63G [00:00<?, ?B/s]"
      ]
     },
     "metadata": {},
     "output_type": "display_data"
    }
   ],
   "source": [
    "model = BartForConditionalGeneration.from_pretrained('facebook/bart-large-cnn')"
   ]
  },
  {
   "cell_type": "code",
   "execution_count": 5,
   "id": "c2d225bb",
   "metadata": {},
   "outputs": [
    {
     "data": {
      "application/vnd.jupyter.widget-view+json": {
       "model_id": "7aa54644df7d4999bb21aeac8102f966",
       "version_major": 2,
       "version_minor": 0
      },
      "text/plain": [
       "Downloading:   0%|          | 0.00/899k [00:00<?, ?B/s]"
      ]
     },
     "metadata": {},
     "output_type": "display_data"
    },
    {
     "data": {
      "application/vnd.jupyter.widget-view+json": {
       "model_id": "0b03b2a32b824a33819f0cfb656e9f7a",
       "version_major": 2,
       "version_minor": 0
      },
      "text/plain": [
       "Downloading:   0%|          | 0.00/456k [00:00<?, ?B/s]"
      ]
     },
     "metadata": {},
     "output_type": "display_data"
    },
    {
     "data": {
      "application/vnd.jupyter.widget-view+json": {
       "model_id": "93b97e1adc7945d4895ee4b047930a25",
       "version_major": 2,
       "version_minor": 0
      },
      "text/plain": [
       "Downloading:   0%|          | 0.00/1.36M [00:00<?, ?B/s]"
      ]
     },
     "metadata": {},
     "output_type": "display_data"
    }
   ],
   "source": [
    "tokenizer = BartTokenizer.from_pretrained('facebook/bart-large-cnn')"
   ]
  },
  {
   "cell_type": "code",
   "execution_count": null,
   "id": "a0ea6849",
   "metadata": {},
   "outputs": [],
   "source": []
  },
  {
   "cell_type": "code",
   "execution_count": null,
   "id": "789a6505",
   "metadata": {},
   "outputs": [],
   "source": []
  },
  {
   "cell_type": "code",
   "execution_count": 6,
   "id": "4de35ce6",
   "metadata": {},
   "outputs": [],
   "source": [
    "df = pd.read_pickle('raw_dataset.pkl')"
   ]
  },
  {
   "cell_type": "code",
   "execution_count": 7,
   "id": "4520feab",
   "metadata": {},
   "outputs": [],
   "source": [
    "df.columns = ['id',\n",
    " 'case_title',\n",
    " 'ponente',\n",
    " 'year',\n",
    " 'month',\n",
    " 'decision_date',\n",
    " 'gr_no',\n",
    " 'case_link',\n",
    " 'content',\n",
    " 'has_pdf',\n",
    " 'views',\n",
    " 'downloads',\n",
    " 'status',\n",
    " 'modified_by',\n",
    " 'created_at',\n",
    " 'updated_at']"
   ]
  },
  {
   "cell_type": "code",
   "execution_count": 9,
   "id": "a68f62e8",
   "metadata": {},
   "outputs": [
    {
     "data": {
      "text/plain": [
       "0        <center>\\n<h2></h2>\\n<h2>G.R. No. 91, November...\n",
       "1        <center>\\n<h2></h2>\\n<h2>G.R. No. 94, October ...\n",
       "2        <center>\\n<h2></h2>\\n<h2>G.R. No. 299, October...\n",
       "3        <center>\\n<h2></h2>\\n<h2>G.R. No. 17, August 2...\n",
       "4        <center>\\n<h2></h2>\\n<h2>G.R. No. 43, Septembe...\n",
       "                               ...                        \n",
       "62663    <center>\\n<h2>THIRD DIVISION</h2>\\n<h2>G.R. No...\n",
       "62664    <center>\\n<h2>THIRD DIVISION</h2>\\n<h2>G.R. No...\n",
       "62665    <center>\\n<h2>SECOND DIVISION</h2>\\n<h2>G.R. N...\n",
       "62666    <center>\\n<h2>SECOND DIVISION</h2>\\n<h2>G.R. N...\n",
       "62667    <center>\\n<h2>THIRD DIVISION</h2>\\n<h2>G.R. No...\n",
       "Name: content, Length: 62668, dtype: object"
      ]
     },
     "execution_count": 9,
     "metadata": {},
     "output_type": "execute_result"
    }
   ],
   "source": [
    "df.content"
   ]
  },
  {
   "cell_type": "code",
   "execution_count": 10,
   "id": "2899fd81",
   "metadata": {},
   "outputs": [],
   "source": [
    "# TODO: Use the predictions get similarities\n",
    "#\n",
    "# pred_df = pd.read_csv('tfidf_logreg_model_predictions.csv')"
   ]
  },
  {
   "cell_type": "code",
   "execution_count": null,
   "id": "b9695e26",
   "metadata": {},
   "outputs": [],
   "source": []
  },
  {
   "cell_type": "code",
   "execution_count": null,
   "id": "855716ab",
   "metadata": {},
   "outputs": [],
   "source": []
  },
  {
   "cell_type": "code",
   "execution_count": 13,
   "id": "cae5136f",
   "metadata": {},
   "outputs": [],
   "source": [
    "def remove_tags(text):\n",
    "  TAG_RE = re.compile(r'<[^>]+>')\n",
    "  return TAG_RE.sub('', text)"
   ]
  },
  {
   "cell_type": "code",
   "execution_count": 14,
   "id": "a07a9a7a",
   "metadata": {},
   "outputs": [],
   "source": [
    "df['clean_content'] = df.content.apply(remove_tags)"
   ]
  },
  {
   "cell_type": "code",
   "execution_count": 31,
   "id": "5c21f6ce",
   "metadata": {},
   "outputs": [],
   "source": [
    "df['clean_content'] = df['clean_content'].str.replace('\\xa0',' ')\n",
    "\n",
    "# print('Handling D E C I S I O N text...')\n",
    "df['clean_content'] = df['clean_content'].apply(lambda x:  x.split(\"D E C I S I O N\", maxsplit=1)[1] if re.search(\"D E C I S I O N\", x) else x)\n",
    "\n",
    "# print('Splitting on first colon...')\n",
    "df['clean_content'] = df['clean_content'].apply(lambda x:  x.split(\":\", maxsplit=1)[1] if re.search(\":\", x) else x)"
   ]
  },
  {
   "cell_type": "code",
   "execution_count": 67,
   "id": "e667eaef",
   "metadata": {},
   "outputs": [],
   "source": [
    "# additional remove footnotes\n",
    "df['clean_content'] = df['clean_content'].apply(lambda x: re.sub(r\"\\[\\d+\\]\", '', x))"
   ]
  },
  {
   "cell_type": "code",
   "execution_count": null,
   "id": "d0431296",
   "metadata": {},
   "outputs": [],
   "source": []
  },
  {
   "cell_type": "code",
   "execution_count": null,
   "id": "beb8d86c",
   "metadata": {},
   "outputs": [],
   "source": []
  },
  {
   "cell_type": "code",
   "execution_count": 68,
   "id": "7c7732b7",
   "metadata": {},
   "outputs": [],
   "source": [
    "ARTICLE_TO_SUMMARIZE = df.clean_content[61323]"
   ]
  },
  {
   "cell_type": "code",
   "execution_count": null,
   "id": "04041e81",
   "metadata": {},
   "outputs": [],
   "source": []
  },
  {
   "cell_type": "code",
   "execution_count": 69,
   "id": "55ea6eb7",
   "metadata": {},
   "outputs": [
    {
     "data": {
      "text/plain": [
       "'Before the Court is a petition for review on certiorari assailing the Decision and Resolution dated April 20, 2012 and October 29, 2012, respectively, of the Court of Appeals (CA) in CA-G.R. CR No. 33353. The CA affirmed but modified only as to the penalty imposed and damages awarded the Judgment rendered on April 15, 2010 by the Regional Trial Court (RTC) of Bontoc, Mountain Province, Branch 36, in Criminal Case No. 2227, convicting Jester Mabunot (petitioner) of violation of Republic Act (R.A.) No. 7610, Article VI, Section 10(a).AntecedentsThe Information indicting the petitioner reads:That on or about Sept. 14, 2007, in the morning thereof, inside one of the classrooms at the Paracelis National High School, Butigue, Paracelis, Mountain Province, and within the jurisdiction of this Honorable Court, the [petitioner,] with intent to physically abuse and with cruelty, did then and there, wilfully, unlawfully and feloniously, box Shiva Baguiwan, a minor who is 14 years and 5 months old, on the left side below her ribs[,] which caused the latter to lose consciousness, to the damage and prejudice of the said minor-victim.CONTRARY TO LAW.Upon arraignment, the petitioner pleaded \"not guilty.\"In the course of the trial, the prosecution offered the testimonies of: (a) private complainant Shiva Baguiwan (Shiva); (b) Mercy Baguiwan, Shiva\\'s mother; (c) Melanie Lipawen (Melanie) and James Aquino (James), students at Butigue National High School (BNHS); (d) PO2 Naida Dumjalan, Women and Children\\'s Desk Officer assigned to handle Shiva\\'s complaint; and (e) Dr. Jessie Guimbatan, government doctor who provided with Shiva medical treatment.The evidence for the prosecution sought to establish that Shiva and the petitioner were classmates at BNHS. On September 14, 2007, at around 11:00 a.m., Shiva and her group were sewing inside the classroom when the petitioner, who was then under the influence of alcohol, arrived. The petitioner twisted the arm of Michael Fontanilla, strangled James and boxed William Thomas (William). The rest of their classmates ran away, but the petitioner went after them. He boxed Shiva on her left flank leaving the latter with a fractured rib. Shiva passed out and was thereafter taken to Potia District Hospital, where she stayed for two days. Before finally leaving, the petitioner also boxed Dennis Kenept (Dennis). Back then, Shiva was 14 years old, while the petitioner was 19. The petitioner dropped out from BNHS after the incident.On its part, the defense presented the following as witnesses: (a) the petitioner; (b) Consolacion Saludo (Consolacion), teacher at BNHS; (c) Dennis; and (d) Eva Joy Malindao (Eva), also a student at BNHS.The testimonies of the defense witnesses tend to prove that on September 14, 2007, at around 10:30 a.m., the class, to which both Shiva and the petitioner belonged, was doing its Technology Livelihood Education project. William suddenly threw an object at the petitioner\\'s back. The petitioner reacted by boxing William. When the petitioner stepped out of the room, Dennis followed him and a fist fight ensued between the two. Shiva came to pacify them, but she was shoved, causing her to fall to the ground. The petitioner posited that since he and Dennis were grappling at that time, there cannot be any certainty as to who actually injured Shiva.Ruling of the RTCOn April 15, 2010, the RTC rendered its Judgment, the fallo of which reads as follows:Wherefore, the Court finds that the [petitioner] is guilty beyond reasonable doubt of the offense charged as principal by direct participation and is hereby sentenced to suffer imprisonment of four (4) years, 9 months, and 11 days of prision correccional as minimum to seven (7) years and 4 months of prision mayor as maximum, and to pay [Shiva] the amount of P25,000.00 as temperate damages in lieu of actual damages.SO ORDERED.The RTC convicted the petitioner on the basis of the grounds cited below:The evidence is positive and convincing that an act of cruelty and physical abuse has been inflicted upon a female child of fourteen (14) years of age by the [petitioner,] who was an adult of twenty (20) years of age. The credible evidence clearly demonstrates that the [petitioner] boxed the left side of [Shiva\\'s] body causing excruciating pain[,] which made the latter feel dizzy and lose consciousness. The medical findings confirm that a rib of [Shiva] was fractured[,] which caused pain even long after the incident. It is not hard to imagine that a bare fist of a twenty[-]year[-]old male could fracture a rib of a frail fourteen[-]year[-]old female. The testimonies of [Shiva], [Melanie], and [James] are found to be clear, candid and convincing narrations of what happened, of how the [petitioner] maltreated and injured [Shiva].x x x [T]here is nothing on record which shows any evil or improper motive on [the part of the prosecution witnesses] to falsely testify or frame up the [petitioner,] hence, said testimonies are given full faith and credence x x x. The physical and medical evidence[,] which show that [Shiva] suffered rib fracture that caused great pain[,] highly corroborate and confirm that [Shiva] was hurt by the [petitioner] with a hard fist blow, which made her unconscious and [led her to] be hospitalized.x x x [T]he defense of the [petitioner] that he did not box [Shiva], but that the latter fell to the ground when she was shoved as she tried to pacify the former and [Dennis,] who were exchanging blows and grappling with each other, has to be taken with a grain of salt. x x x [I]t is highly improbable that a young lass[,] who is not even related to the combatants [,] would dare to put herself at risk to serious and inevitable injury by trying to pacify two older male persons[,] who were exchanging hard blows. That would not conform to ordinary human experience; the natural thing for the young girl was to shout or run[,] which [Shiva] did but the [petitioner] still got near and boxed her.[It] is also highly indicated and very credibly established by the evidence that the [petitioner] boxed and maltreated four other classmates. x x x All these indicate that the [petitioner] was on a rampage and had no qualm[s] about inflicting injury upon a helpless female classmate. At his age of twenty x x x, and in addition to the fact that he was under the influence of liquor, the [petitioner] easily terrorized and frightened his classmates. x x x The denial of the [petitioner] can not be accorded greater evidentiary value than the declarations of credible prosecution witnesses that the [petitioner] boxed [Shiva] x x x.Ruling of the CAIn the appeal filed before the CA, the petitioner claimed that the injury inflicted on Shiva was not intentional or deliberate. The petitioner insisted that he could not have adopted a deliberate design to injure Shiva since he was trading punches with Dennis. Further, Article 265 of the Revised Penal Code (RPC), and not R.A. No. 7610, should be the applicable provision. A single and unintended act of shoving Shiva while the petitioner was engaged in a fist fight with Dennis can hardly be considered as within the definition of child abuse under R.A. No. 7610.On April 20, 2012, the CA affirmed the conviction but modified the penalty imposed and the damages awarded. The CA instead sentenced the petitioner to suffer imprisonment of four (4) years, nine (9) months and eleven (11) days of prision correccional, as minimum, to six (6) years, eight months and one (1) day of prision mayor, as maximum, and to pay Shiva actual damages in the amount of P18,428.00.The CA explained its disquisition, viz:[T]he [petitioner] wants Us to weigh the credibility of prosecution witnesses vis-a-vis the defense witnesses, a task entrusted to the trial court. x x x [T]he trial court is in a better position to decide the credibility of witnesses, having heard their testimonies and observed their deportment and manner of testifying during the trial.It is observed that although [Dennis], [Eva] and [Consolacion] testified for the defense, the court a quo correctly ruled that their testimonies are incredible and unworthy of belief. x x x [Consolacion] testified that she went out of her classroom at about 10:30 o\\'clock in the morning of September 14, 2007 because of a commotion, but she failed to recognize the students involved in the brawl. x x xx x x xQ: You said that you rushed outside, what did you see when you were outside?A: When I was at the porch, I have (sic) seen two boys boxing but I cannot recognize them because I haven\\'t taken my eyeglasses and it was twenty (20) meters away.x x x x[The petitioner\\'s] testimony revealed that Consolacion was at the second floor of the building, hence, supporting the court a quo\\'s conclusion that Consolacion did not see the whole incident. x x xx x x xThe court a quo likewise correctly dismissed [Dennis\\'] testimony as doubtful since on cross-examination, he stated that he does not know Michael Fontanilla and [James] when the [petitioner] himself revealed that Fontanilla and [James] were their classmates.x x x [Eva], who was then a third year high school student at [BNHS], corroborated the [petitioner\\'s] testimony that [Shiva] pacified [the petitioner] and [Dennis]. We note, however, that she mentioned that [Shiva] was shoved to the ground [w]hen their teacher, [Consolacion], shouted which caused [the petitioner] and [Dennis] to run away. A perusal of [Consolacion\\'s] testimony, however, reveals that she directed the students around to pacify [the petitioner] and [Dennis] then she saw a lady going near the two boys fighting. Afterwhich, she did not witness any incident anymore since she had to pacify her students[,] who were then coming out of the classroom. There was no mention that she shouted at the [petitioner] or [Dennis] after [Shiva] fell to the ground. x x xx x x [P]rosecution witness [Melanie] bolstered [Shiva\\'s] claim that the [petitioner] boxed her. x x x.x x x xQ: How far are you (sic) from [the petitioner] when you said you saw him boxed [sic] Shiva? A: Just near him.Q: Will you point from the witness stand?A:  x x x More or less 2 meters.x x x xx x x [James] likewise averred that he personally saw the [petitioner] boxed [sic] [Shiva]. He said:x x x xQ: You said that [the petitioner] boxed Shiva, did you personally see [the petitioner] boxed [sic] Shiva? A: Yes, ma\\'am.Q: What part of Shiva\\'s body was hit? A: In (sic) the left rib.Q: How far are (sic) you from Shiva and [the petitioner] when you said you saw [the petitioner] boxed [sic] Shiva?A: x x x (4 to 5 meters).x x x xUnder Subsection (b), Section 3 of [R.A. No. 7610], child abuse refers to the maltreatment of a child, whether habitual or not, which includes any of the following:  (1) Psychological and physical abuse, neglect, cruelty, sexual abuse and emotional maltreatment;x x x xx x x [W]hen the incident happened, [Shiva] was a child entitled to the protection extended by R.A. No. 7610 x x x. As defined [by] law, child abuse includes physical abuse of the child, whether the same is habitual or not. The act of [the petitioner] of boxing [Shiva\\'s] left flank falls squarely within this definition. x x x.x x x As a statute that provides for a mechanism for strong deterrence against the commission of child abuse and exploitation, [R.A. No. 7610] has stiffer penalties for their commission.x x x xIn the absence of any modifying circumstances, We find that the proper penalty should be four (4) years, nine (9) months and eleven (11) days of prision correccional, as minimum, to six (6) years, eight (8) months and one (1) day of prision mayor as maximum[,] not the maximum term imposed by the trial court which is much higher, i.e., \"seven (7) years and [four (4)] months of prision mayor.\" x x x.x x x [Shiva] was able to prove actual damages in the amount of Php 18,428.00. The court a quo incorrectly awarded temperate damages in the amount of Php 25,000.00 in lieu of actual damages of a lesser amount since such is proper only in cases when the victim died and no evidence of burial and funeral expenses was presented in the trial court. (Citations omitted and underlining ours)The petitioner filed a motion for reconsideration, which the CA denied in the herein assailed Resolution dated October 29, 2012.IssuesUnperturbed, the petitioner presents for the Court\\'s resolution the issues of whether or not the CA committed reversible errors in (1) ruling that the injury inflicted on Shiva was intentional and deliberate, and (2) applying the much higher penalty provided for under Section 10 of R.A. No. 7610, instead of Article 265 of the RPC for slight physical injuries.The petitioner claims that he and Dennis were trading punches when they saw Shiva slump to the ground. In Dennis\\' testimony, he was uncertain as to who actually shoved Shiva. Thus, the injury sustained by Shiva merely resulted from an accident and is not within the contemplation of child abuse under R.A. No. 7610.The petitioner also posits that Section 10 of R.A. No. 7610 penalizes acts of child abuse which are not covered by the RPC. Assuming arguendo that the petitioner caused Shiva\\'s injury, Article 265 of the RPC should instead be applied.In its Comment, the Office of the Solicitor General contends that the petitioner raises factual issues. Besides, even if the merits of the petition are to be considered, the prosecution witnesses, namely, Melanie and James, positively identified the petitioner as the one, who had boxed Shiva. The RTC and CA properly accorded probative weight to the testimonies of the eyewitnesses.Ruling of the CourtThe Court affirms the conviction and the sentence, but imposes interest on the amount of actual damages awarded by the CA.On the propriety of the petitioner\\'s convictionIn Villareal v. Aliga, the Court declared:It is a fundamental aphorism in law that a review of facts and evidence is not the province of the extraordinary remedy of certiorari, which is extra ordinem — beyond the ambit of appeal. In certiorari proceedings, judicial review does not go as far as to examine and assess the evidence of the parties and to weigh the probative value thereof. It does not include an inquiry as to the correctness of the evaluation of evidence. x x x It is not for this Court to re-examine conflicting evidence, re-evaluate the credibility of the witnesses or substitute the findings of fact of the court a quo.In the case at bar, the RTC and the CA uniformly accorded probative value to the testimonies of two eyewitnesses, namely, Melanie and James, who positively identified the petitioner as the one who had boxed Shiva.Besides, even if the Court were to exercise leniency, a recalibration of the parties\\' evidence would yield the same result. For one, the defense did not impute and prove any ill motives on the part of the eyewitnesses in testifying against the petitioner. Note that the two witnesses were classmates of both the petitioner and Shiva, and they saw at close range what had transpired. Further, the defense witnesses failed to amply refute the statements of Melanie and James. Consolacion was 20 meters away from where the fist fight between the petitioner and Dennis took place. She also admitted that she was not wearing her eyeglasses then. On the other hand, Eva\\'s statements on what she saw were unclear. Anent Dennis\\' narrations, he admitted his uncertainty as to who had shoved Shiva to the ground. However, Melanie and James were categorical in identifying the petitioner as the one who boxed Shiva. Dennis\\' declaration of uncertainty pales in comparison to Melanie and James\\' positive testimonies. Dennis was then trading punches with the petitioner, and understandably, his recollection of the details of the event was not as comprehensive.The petitioner also posits that since he and Dennis were exchanging punches then, he could not have made a deliberate design to injure Shiva. Without intent to harm Shiva, the petitioner insists that he deserves an acquittal.The foregoing argument is untenable.\"When the acts complained of are inherently immoral, they are deemed mala in se, even if they are punished by a special law. Accordingly, criminal intent must be clearly established with the other elements of the crime; otherwise, no crime is committed.\"The petitioner was convicted of violation of Section 10(a), Article VI of R.A. No. 7610, a special law. However, physical abuse of a child is inherently wrong, rendering material the existence of a criminal intent on the part of the offender.In the petitioner\\'s case, criminal intent is not wanting. Even if the Court were to consider for argument\\'s sake the petitioner\\'s claim that he had no design to harm Shiva, when he swang his arms, he was not performing a lawful act. He clearly intended to injure another person. However, it was not Dennis but Shiva, who ended up with a fractured rib. Nonetheless, the petitioner cannot escape liability for his error. Indeed, criminal liability shall be incurred by any person committing a felony (delito) although the wrongful act done be different from that which he intended.On the application of Section 10(a), Article VI of R.A. No. 7610The petitioner avers that Section 10(a), Article VI of R.A. No. 7610 only penalizes acts of child abuse which are not covered by the RPC. He insists that the acts complained of should fall under Article 265 of the RPC, which imposes a lighter penalty.The claim is unpersuasive.Article 265 of the RPC punishes physical injuries in general. On the other hand, R.A. No. 7610 is intended to \"provide special protection to children from all forms of abuse, neglect, cruelty, exploitation and discrimination and other conditions, prejudicial to their development.\" Child abuse refers to the infliction of physical or psychological injury, cruelty to, or neglect, sexual abuse or exploitation of a child. Physical injury includes but is not limited to lacerations, fractured bones, turns, internal injuries, severe injury or serious bodily harm suffered by a child.It is clear that Shiva was 14 years old when she received the blow, which fractured her rib. Being a child, she is under the protective mantle of R.A. No. 7610, which punishes maltreatment of a child, whether the sam habitual or not. Moreover, the Implementing Rules and Regulation R.A. No. 7610 even explicitly refer to fractured bones as falling within coverage of physical injuries, which may be inflicted on a child, for which an accused shall be held liable. Further, under R.A. No. 7610, s penalties are prescribed to deter and prevent violations of its provisions.On the penalties imposed by the courts a quoThe RTC imposed upon the petitioner an indeterminate sentence of four (4) years, nine (9) months, and eleven (11) days of prision correccional as minimum, to seven (7) years and four (4) months of prision mayor as maximum.Subsequently, the CA modified the sentence to four (4) years, nine (9) months and eleven (11) days of prision correccional, as minimum, to six (6) years, eight (8) months and one (1) day of prision mayor, as maximum.Section 1 of the Indeterminate Sentence Law (IS Law) provides:Section 1. Hereafter, in imposing a prison sentence for an offense punished by the Revised Penal Code, or its amendments, the court shall sentence the accused to an indeterminate sentence the maximum term of which shall be that which, in view of the attending circumstances, could be properly imposed under the rules of the said Code, and the minimum which shall be within the range of the penalty next lower to that prescribed by the Code for the offense; and if the offense is punished by any other law, the court shall sentence the accused to an indeterminate sentence, the maximum term of which shall not exceed the maximum fixed by said law and the minimum shall not be less than the minimum term prescribed by the same.There are, however, instances when the penalties provided for in a special law adopt the nomenclature of the penalties under the RPC. In such cases, the ascertainment of the indeterminate sentence will be based on the rules applied for those crimes punishable under the RPC.In Sanchez v. People, et al., the Court is emphatic that:[T]he penalty for Other Acts of Child Abuse is prision mayor in its minimum period. This penalty is derived from, and defined in, the [RPC]. Although R.A. No. 7610 is a special law, the rules in the [RPC] for graduating penalties by degrees or determining the proper period should be applied. Thus, where the special law adopted penalties from the [RPC], the [IS Law] will apply just as it would in felonies. In People v. Simon, the Court applied the first clause of Section 1 of the [IS Law] to cases of illegal drugs. In Cadua v. Court of Appeals, the Court applied the same principle to cases involving illegal possession of firearms. In those instances, the offenses were also penalized under special laws. Finally, in Dulla v. Court of Appeals, a case involving sexual abuse of a child as penalized under Section 5(b), Article III of R.A. No. 7610, the Court likewise applied the same first clause of the [IS Law]. x x x. (Citations omitted)In the petitioner\\'s case, the maximum imposable penalty is prision mayor in its minimum period. The minimum period is fuither subdivided into three, to wit: (a) six (6) years and one (1) day to six (6) years and eight (8) months, as minimum; (b) six (6) years, eight (8) months and one (1) day to seven (7) years and four (4) months, as medium; and (c) seven (7) years, four (4) months and one (1) day to eight (8) years, as maximum. As there were no established attendant mitigating or aggravating circumstances, the CA properly imposed the penalty of six (6) years, eight (8) months and one (1) day as the maximum of the indeterminate sentence.As to the minimum of the indeterminate sentence, Section the IS Law provides that it shall be within the range of the per next lower to that prescribed for the offense. The penalty next to prision mayor in its minimum period is prision correccional maximum period. The CA imposed four (4) years, nine (9) months eleven (11) days of prision correccional, which falls within the maximum range thereof. The CA imposed the minimum indeterminate penalty w the allowable range, and the Court now finds no compelling reaso modify the same.On DamagesThe Court agrees with the CA\\'s award of actual damages lieu of the temperate damages imposed by the RTC. To conform, however, to recent jurisprudence, the Court deems it proper to impos i an interest of six percent (6%) per annum on the actual damages awarded to Shiva to be computed from the date of the finality of this Resolution until fully paid.WHEREFORE, the Court AFFIRMS the Court of Appeals\\' Decision and Resolution dated April 20, 2012 and October 29, 2312, respectively, in CA-G.R. CR No. 33353, subject to the MODIFICATION that the actual damages in the amount of P18,428.00 to be paid by petitioner, Jester Mabunot, to the private complainant, Shiva Baguiwan shall be subject to an interest of six percent (6%) per annum reckoned from the finality of this Resolution until full payment.SO ORDERED.Velasco, Jr., (Chairperson), Peralta, Del Castillo,* and Perez, JJ., concur.November 17, 2016NOTICE OF JUDGMENTSirs / Mesdames:Please take notice that on September 19, 2016 a Resolution, copy attached hereto, was rendered by the Supreme Court in the above-entitled case, the original of which was received by this Office on November 17, 2016 at 10:30 a.m.  Very truly yours,       (SGD)    WILFREDO V. LAPITAN    Division Clerk of Court * Designated additional Member per Raffle dated February 17, 2016 vice Associate Justice Francis H. Jardeleza. Rollo, pp. 4-12. Penned by Associate Justice Elihu A. Ybañez, with Associate Justices Celia C. Librea-Leagogo and Ramon A. Cruz concurring; id. at 15-36. Id. at 38-39. SPECIAL PROTECTION OF CHILDREN AGAINST ABUSE, EXPLOITATION AND DISCRIMINATION ACT. Section 10. Other Acts of Neglect, Abuse, Cruelty or Exploitation and Other Conditions i Prejudicial to the Child\\'s Development. -(a) Any person who shall commit any other acts of child abuse, cruelty or exploitation or to be responsible for other conditions prejudicial to the child\\'s development including those covered by Article 59 of Presidential Decree No. 603, as amended, but not covered by the Revised Penal Code, as amended, shall suffer the penalty of prision mayor in its minimum period.x x x x Rollo, p. 16. Id. at 17. Sometimes appears in the records as \"Melany.\" Rollo, p. 17. Id. at 17-18. Id. at 17. Id. at 18-19. Id. at 16. Id. at 19-21. Art. 265. Less serious physical injuries. — Any person who shall inflict upon another physical injuries not described in the preceding articles, but which shall incapacitate the offended party for labor for ten days or more, or shall require medical assistance for the same period, shall be guilty of less serious physical injuries and shall suffer the penalty of arresto mayor.Whenever less serious physical injuries shall have been inflicted with the manifest intent to kill or offend the injured person, or under circumstances adding ignominy to the offense in addition to the penalty of arresto mayor, a fine not exceeding 500 pesos shall be imposed.Any less serious physical injuries inflicted upon the offender\\'s parents, ascendants, guardians, curators, teachers, or persons of rank, or persons in authority, shall be punished by prision correccional in its minimum and medium periods, provided that, in the case of persons in authority, the deed does not constitute the crime of assault upon such person. Rollo, pp. 21-23. Id. at 35. Id. at 23-35. Id. at 38-39. Id. at 6. Id. at 7-8, 10. Id. at 10. Id. at 45-49. 724 Phil. 47 (2014). Id. at 62, citing First Corporation v. Former Sixth Division of the Court of Appeals, 553 Phil. 540-541 (2007). Garcia v. CA, 519 Phil. 591, 596 (2006). REVISED PENAL CODE, Article 4(1). R.A. No. 7610, Section 2. Implementing Rules and Regulations of R.A. No. 7610, Section 2(b).  Implementing Rules and Regulations of R.A. No. 7610, Section 2(d). R.A. No. 7610, Section 3(b); Please also see Sanchez v. People, et al., 606 Phil. 762, 775 (2209). Act No. 4103, as amended, otherwise known as AN ACT TO PROVIDE FOR AN INDETERMINATE SENTENCE AND PAROLE FOR ALL PERSONS CONVICTED OF CERTAIN CRIMES BY THE COURTS OF THE PHILIPPINE ISLANDS; TO CREATE A BOARD OF INDETERMINATE SENTENCE AND TO PROVIDE FUNDS THEREFOR; AND FOR OTHER PURPOSES. Please see People v. Simon, G.R. No. 93028, July 29, 1994, 234 SCRA 55. 606 Phil. 762 (2009). Id. at 780. Please see Rosaldes v. People, G.R. No. 173988, October 8, 2014, 737 SCRA 592, 608-609. People v. Cruz, 714 Phil. 390, 400-401 (2013).'"
      ]
     },
     "execution_count": 69,
     "metadata": {},
     "output_type": "execute_result"
    }
   ],
   "source": [
    "ARTICLE_TO_SUMMARIZE"
   ]
  },
  {
   "cell_type": "code",
   "execution_count": null,
   "id": "23120b2e",
   "metadata": {},
   "outputs": [],
   "source": []
  },
  {
   "cell_type": "code",
   "execution_count": null,
   "id": "c8c1b8d3",
   "metadata": {},
   "outputs": [],
   "source": []
  },
  {
   "cell_type": "code",
   "execution_count": 70,
   "id": "253d681c",
   "metadata": {},
   "outputs": [],
   "source": [
    "inputs = tokenizer([ARTICLE_TO_SUMMARIZE], max_length=1024, return_tensors='pt')"
   ]
  },
  {
   "cell_type": "code",
   "execution_count": 71,
   "id": "1182a06f",
   "metadata": {},
   "outputs": [],
   "source": [
    "summary_ids = model.generate(inputs['input_ids'], early_stopping=True)"
   ]
  },
  {
   "cell_type": "code",
   "execution_count": 72,
   "id": "bbdd3913",
   "metadata": {},
   "outputs": [
    {
     "name": "stdout",
     "output_type": "stream",
     "text": [
      "['Jester Mabunot was convicted of beating Shiva Baguiwan, a 14-year-old girl. The incident took place in September 2007, when Shiva was 14 and the petitioner was 19. The petitioner dropped out from BNHS after the incident. The Court of Appeals affirmed but modified the penalty imposed and damages awarded.']\n"
     ]
    }
   ],
   "source": [
    "print([tokenizer.decode(g, skip_special_tokens=True, clean_up_tokenization_spaces=False) for g in summary_ids])"
   ]
  },
  {
   "cell_type": "code",
   "execution_count": null,
   "id": "7314f283",
   "metadata": {},
   "outputs": [],
   "source": []
  },
  {
   "cell_type": "code",
   "execution_count": 73,
   "id": "1b4b18b1",
   "metadata": {},
   "outputs": [
    {
     "data": {
      "text/plain": [
       "tensor([[    2,     0,   863,  8939,   256,   873,   879,  1242,    21,  3828,\n",
       "             9,  4108, 39377, 13379,  3371,  6531,     6,    10,   501,    12,\n",
       "           180,    12,   279,  1816,     4,    20,  1160,   362,   317,    11,\n",
       "           772,  3010,     6,    77, 39377,    21,   501,     8,     5, 31390,\n",
       "            21,   753,     4,    20, 31390,  1882,    66,    31,   163,   487,\n",
       "          6391,    71,     5,  1160,     4,    20,   837,     9, 13248, 13935,\n",
       "            53, 10639,     5,  2861,  5713,     8,  8357,  4241,     4,     2]])"
      ]
     },
     "execution_count": 73,
     "metadata": {},
     "output_type": "execute_result"
    }
   ],
   "source": [
    "summary_ids"
   ]
  },
  {
   "cell_type": "code",
   "execution_count": null,
   "id": "88355634",
   "metadata": {},
   "outputs": [],
   "source": []
  },
  {
   "cell_type": "code",
   "execution_count": null,
   "id": "5ab20d1e",
   "metadata": {},
   "outputs": [],
   "source": []
  },
  {
   "cell_type": "code",
   "execution_count": null,
   "id": "32c250b9",
   "metadata": {},
   "outputs": [],
   "source": []
  }
 ],
 "metadata": {
  "kernelspec": {
   "display_name": "Python 3",
   "language": "python",
   "name": "python3"
  },
  "language_info": {
   "codemirror_mode": {
    "name": "ipython",
    "version": 3
   },
   "file_extension": ".py",
   "mimetype": "text/x-python",
   "name": "python",
   "nbconvert_exporter": "python",
   "pygments_lexer": "ipython3",
   "version": "3.8.8"
  }
 },
 "nbformat": 4,
 "nbformat_minor": 5
}
